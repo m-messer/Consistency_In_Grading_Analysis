{
 "cells": [
  {
   "cell_type": "code",
   "id": "initial_id",
   "metadata": {
    "collapsed": true,
    "ExecuteTime": {
     "end_time": "2025-03-04T18:25:24.468924Z",
     "start_time": "2025-03-04T18:25:23.935868Z"
    }
   },
   "source": [
    "import pandas as pd\n",
    "import seaborn as sns\n",
    "import matplotlib.pyplot as plt\n",
    "from adjustText import adjust_text\n",
    "\n",
    "import nltk\n",
    "from gensim.utils import simple_preprocess\n",
    "\n",
    "nltk.download('punkt')"
   ],
   "outputs": [
    {
     "name": "stderr",
     "output_type": "stream",
     "text": [
      "[nltk_data] Downloading package punkt to /Users/marcus/nltk_data...\n",
      "[nltk_data]   Package punkt is already up-to-date!\n"
     ]
    },
    {
     "data": {
      "text/plain": [
       "True"
      ]
     },
     "execution_count": 3,
     "metadata": {},
     "output_type": "execute_result"
    }
   ],
   "execution_count": 3
  },
  {
   "cell_type": "code",
   "source": [
    "grey = (187/255, 187/255, 187/255)\n",
    "darkgreen = (51/255, 117/255, 56/255)\n",
    "teal = (93/255, 168/255, 153/255)\n",
    "blue = (148/255, 203/255, 236/255)\n",
    "yellow = (220/255, 205/255, 125/255)\n",
    "red = (168/255, 96/255, 93/255)\n",
    "pale_yellow = (164/255, 168/255, 93/255)\n",
    "\n",
    "color_pallete = sns.color_palette([grey, darkgreen, teal, blue, yellow, red, pale_yellow])"
   ],
   "metadata": {
    "collapsed": false,
    "ExecuteTime": {
     "end_time": "2025-03-04T18:25:24.479457Z",
     "start_time": "2025-03-04T18:25:24.476918Z"
    }
   },
   "id": "379c79ae820deb0e",
   "outputs": [],
   "execution_count": 4
  },
  {
   "cell_type": "code",
   "source": [
    "feedback_df = pd.read_csv('../Menagerie/data/grades.csv', index_col=0)\n",
    "feedback_df"
   ],
   "metadata": {
    "collapsed": false,
    "ExecuteTime": {
     "end_time": "2025-03-04T18:25:24.507474Z",
     "start_time": "2025-03-04T18:25:24.494276Z"
    }
   },
   "id": "3f5f09e372669188",
   "outputs": [
    {
     "data": {
      "text/plain": [
       "    assignment_number                                           comments  \\\n",
       "0                18.0  The code use meaningful identifier names and a...   \n",
       "1               620.0  Code is well organized into logical classes an...   \n",
       "2               466.0  The code is well-organized, consistently inden...   \n",
       "3               591.0  The code is well organized and readable. Inden...   \n",
       "4               587.0  The code is well organized and readable. Inden...   \n",
       "..                ...                                                ...   \n",
       "15               58.0                                                NaN   \n",
       "16              353.0                                                NaN   \n",
       "17              422.0                                                NaN   \n",
       "18              480.0                                                NaN   \n",
       "19              334.0                                                NaN   \n",
       "\n",
       "            skill  participant_id  batch grade  \n",
       "0     Readability              15      1    B+  \n",
       "1     Readability              15      1    A+  \n",
       "2     Readability              15      1    A-  \n",
       "3     Readability              15      1    A-  \n",
       "4     Readability              15      1    A-  \n",
       "..            ...             ...    ...   ...  \n",
       "15  Documentation              14      1   A++  \n",
       "16  Documentation              14      1   A++  \n",
       "17  Documentation              14      1   A++  \n",
       "18  Documentation              14      1   A++  \n",
       "19  Documentation              14      1    A+  \n",
       "\n",
       "[4480 rows x 6 columns]"
      ],
      "text/html": [
       "<div>\n",
       "<style scoped>\n",
       "    .dataframe tbody tr th:only-of-type {\n",
       "        vertical-align: middle;\n",
       "    }\n",
       "\n",
       "    .dataframe tbody tr th {\n",
       "        vertical-align: top;\n",
       "    }\n",
       "\n",
       "    .dataframe thead th {\n",
       "        text-align: right;\n",
       "    }\n",
       "</style>\n",
       "<table border=\"1\" class=\"dataframe\">\n",
       "  <thead>\n",
       "    <tr style=\"text-align: right;\">\n",
       "      <th></th>\n",
       "      <th>assignment_number</th>\n",
       "      <th>comments</th>\n",
       "      <th>skill</th>\n",
       "      <th>participant_id</th>\n",
       "      <th>batch</th>\n",
       "      <th>grade</th>\n",
       "    </tr>\n",
       "  </thead>\n",
       "  <tbody>\n",
       "    <tr>\n",
       "      <th>0</th>\n",
       "      <td>18.0</td>\n",
       "      <td>The code use meaningful identifier names and a...</td>\n",
       "      <td>Readability</td>\n",
       "      <td>15</td>\n",
       "      <td>1</td>\n",
       "      <td>B+</td>\n",
       "    </tr>\n",
       "    <tr>\n",
       "      <th>1</th>\n",
       "      <td>620.0</td>\n",
       "      <td>Code is well organized into logical classes an...</td>\n",
       "      <td>Readability</td>\n",
       "      <td>15</td>\n",
       "      <td>1</td>\n",
       "      <td>A+</td>\n",
       "    </tr>\n",
       "    <tr>\n",
       "      <th>2</th>\n",
       "      <td>466.0</td>\n",
       "      <td>The code is well-organized, consistently inden...</td>\n",
       "      <td>Readability</td>\n",
       "      <td>15</td>\n",
       "      <td>1</td>\n",
       "      <td>A-</td>\n",
       "    </tr>\n",
       "    <tr>\n",
       "      <th>3</th>\n",
       "      <td>591.0</td>\n",
       "      <td>The code is well organized and readable. Inden...</td>\n",
       "      <td>Readability</td>\n",
       "      <td>15</td>\n",
       "      <td>1</td>\n",
       "      <td>A-</td>\n",
       "    </tr>\n",
       "    <tr>\n",
       "      <th>4</th>\n",
       "      <td>587.0</td>\n",
       "      <td>The code is well organized and readable. Inden...</td>\n",
       "      <td>Readability</td>\n",
       "      <td>15</td>\n",
       "      <td>1</td>\n",
       "      <td>A-</td>\n",
       "    </tr>\n",
       "    <tr>\n",
       "      <th>...</th>\n",
       "      <td>...</td>\n",
       "      <td>...</td>\n",
       "      <td>...</td>\n",
       "      <td>...</td>\n",
       "      <td>...</td>\n",
       "      <td>...</td>\n",
       "    </tr>\n",
       "    <tr>\n",
       "      <th>15</th>\n",
       "      <td>58.0</td>\n",
       "      <td>NaN</td>\n",
       "      <td>Documentation</td>\n",
       "      <td>14</td>\n",
       "      <td>1</td>\n",
       "      <td>A++</td>\n",
       "    </tr>\n",
       "    <tr>\n",
       "      <th>16</th>\n",
       "      <td>353.0</td>\n",
       "      <td>NaN</td>\n",
       "      <td>Documentation</td>\n",
       "      <td>14</td>\n",
       "      <td>1</td>\n",
       "      <td>A++</td>\n",
       "    </tr>\n",
       "    <tr>\n",
       "      <th>17</th>\n",
       "      <td>422.0</td>\n",
       "      <td>NaN</td>\n",
       "      <td>Documentation</td>\n",
       "      <td>14</td>\n",
       "      <td>1</td>\n",
       "      <td>A++</td>\n",
       "    </tr>\n",
       "    <tr>\n",
       "      <th>18</th>\n",
       "      <td>480.0</td>\n",
       "      <td>NaN</td>\n",
       "      <td>Documentation</td>\n",
       "      <td>14</td>\n",
       "      <td>1</td>\n",
       "      <td>A++</td>\n",
       "    </tr>\n",
       "    <tr>\n",
       "      <th>19</th>\n",
       "      <td>334.0</td>\n",
       "      <td>NaN</td>\n",
       "      <td>Documentation</td>\n",
       "      <td>14</td>\n",
       "      <td>1</td>\n",
       "      <td>A+</td>\n",
       "    </tr>\n",
       "  </tbody>\n",
       "</table>\n",
       "<p>4480 rows × 6 columns</p>\n",
       "</div>"
      ]
     },
     "execution_count": 5,
     "metadata": {},
     "output_type": "execute_result"
    }
   ],
   "execution_count": 5
  },
  {
   "cell_type": "markdown",
   "source": [
    "# Consistency\n",
    "## Individual graders"
   ],
   "metadata": {
    "collapsed": false
   },
   "id": "8ca920a3ee339214"
  },
  {
   "cell_type": "code",
   "source": [
    "DUPLICATE_MAP = {\n",
    "    680: 144,\n",
    "    681: 559,\n",
    "    682: 97,\n",
    "    683: 358,\n",
    "    684: 389,\n",
    "    685: 160,\n",
    "    686: 176\n",
    "}"
   ],
   "metadata": {
    "collapsed": false,
    "ExecuteTime": {
     "end_time": "2025-03-04T18:25:24.558510Z",
     "start_time": "2025-03-04T18:25:24.556721Z"
    }
   },
   "id": "cbb529f0b0d355c0",
   "outputs": [],
   "execution_count": 6
  },
  {
   "cell_type": "code",
   "source": [
    "intra_rater_df = feedback_df[feedback_df['assignment_number'].isin(list(DUPLICATE_MAP.keys())+list(DUPLICATE_MAP.values()))][['assignment_number', 'skill', 'participant_id', 'batch', 'comments']]\n",
    "intra_rater_df.to_csv('../data/intra_rater.csv', index=False)\n",
    "intra_rater_df"
   ],
   "metadata": {
    "collapsed": false,
    "ExecuteTime": {
     "end_time": "2025-03-04T18:25:24.594836Z",
     "start_time": "2025-03-04T18:25:24.586553Z"
    }
   },
   "id": "19850cd830c87c6f",
   "outputs": [
    {
     "data": {
      "text/plain": [
       "    assignment_number          skill  participant_id  batch  \\\n",
       "12              358.0    Readability              15      1   \n",
       "12              358.0    Correctness              15      1   \n",
       "12              358.0  Code Elegance              15      1   \n",
       "12              358.0  Documentation              15      1   \n",
       "0               160.0    Readability              24      1   \n",
       "..                ...            ...             ...    ...   \n",
       "19              144.0  Documentation               1      1   \n",
       "12              358.0    Readability              14      1   \n",
       "12              358.0    Correctness              14      1   \n",
       "12              358.0  Code Elegance              14      1   \n",
       "12              358.0  Documentation              14      1   \n",
       "\n",
       "                                             comments  \n",
       "12  The code is generally clean and organized with...  \n",
       "12  All of the base tasks are completed - the simu...  \n",
       "12  The code demonstrates good use of classes and ...  \n",
       "12  Most classes and functions have clear, useful ...  \n",
       "0   The student used indentation appropriately and...  \n",
       "..                                                ...  \n",
       "19                           Code is documented well.  \n",
       "12  there are a few instances where naming consist...  \n",
       "12                                                NaN  \n",
       "12                                                NaN  \n",
       "12                                                NaN  \n",
       "\n",
       "[224 rows x 5 columns]"
      ],
      "text/html": [
       "<div>\n",
       "<style scoped>\n",
       "    .dataframe tbody tr th:only-of-type {\n",
       "        vertical-align: middle;\n",
       "    }\n",
       "\n",
       "    .dataframe tbody tr th {\n",
       "        vertical-align: top;\n",
       "    }\n",
       "\n",
       "    .dataframe thead th {\n",
       "        text-align: right;\n",
       "    }\n",
       "</style>\n",
       "<table border=\"1\" class=\"dataframe\">\n",
       "  <thead>\n",
       "    <tr style=\"text-align: right;\">\n",
       "      <th></th>\n",
       "      <th>assignment_number</th>\n",
       "      <th>skill</th>\n",
       "      <th>participant_id</th>\n",
       "      <th>batch</th>\n",
       "      <th>comments</th>\n",
       "    </tr>\n",
       "  </thead>\n",
       "  <tbody>\n",
       "    <tr>\n",
       "      <th>12</th>\n",
       "      <td>358.0</td>\n",
       "      <td>Readability</td>\n",
       "      <td>15</td>\n",
       "      <td>1</td>\n",
       "      <td>The code is generally clean and organized with...</td>\n",
       "    </tr>\n",
       "    <tr>\n",
       "      <th>12</th>\n",
       "      <td>358.0</td>\n",
       "      <td>Correctness</td>\n",
       "      <td>15</td>\n",
       "      <td>1</td>\n",
       "      <td>All of the base tasks are completed - the simu...</td>\n",
       "    </tr>\n",
       "    <tr>\n",
       "      <th>12</th>\n",
       "      <td>358.0</td>\n",
       "      <td>Code Elegance</td>\n",
       "      <td>15</td>\n",
       "      <td>1</td>\n",
       "      <td>The code demonstrates good use of classes and ...</td>\n",
       "    </tr>\n",
       "    <tr>\n",
       "      <th>12</th>\n",
       "      <td>358.0</td>\n",
       "      <td>Documentation</td>\n",
       "      <td>15</td>\n",
       "      <td>1</td>\n",
       "      <td>Most classes and functions have clear, useful ...</td>\n",
       "    </tr>\n",
       "    <tr>\n",
       "      <th>0</th>\n",
       "      <td>160.0</td>\n",
       "      <td>Readability</td>\n",
       "      <td>24</td>\n",
       "      <td>1</td>\n",
       "      <td>The student used indentation appropriately and...</td>\n",
       "    </tr>\n",
       "    <tr>\n",
       "      <th>...</th>\n",
       "      <td>...</td>\n",
       "      <td>...</td>\n",
       "      <td>...</td>\n",
       "      <td>...</td>\n",
       "      <td>...</td>\n",
       "    </tr>\n",
       "    <tr>\n",
       "      <th>19</th>\n",
       "      <td>144.0</td>\n",
       "      <td>Documentation</td>\n",
       "      <td>1</td>\n",
       "      <td>1</td>\n",
       "      <td>Code is documented well.</td>\n",
       "    </tr>\n",
       "    <tr>\n",
       "      <th>12</th>\n",
       "      <td>358.0</td>\n",
       "      <td>Readability</td>\n",
       "      <td>14</td>\n",
       "      <td>1</td>\n",
       "      <td>there are a few instances where naming consist...</td>\n",
       "    </tr>\n",
       "    <tr>\n",
       "      <th>12</th>\n",
       "      <td>358.0</td>\n",
       "      <td>Correctness</td>\n",
       "      <td>14</td>\n",
       "      <td>1</td>\n",
       "      <td>NaN</td>\n",
       "    </tr>\n",
       "    <tr>\n",
       "      <th>12</th>\n",
       "      <td>358.0</td>\n",
       "      <td>Code Elegance</td>\n",
       "      <td>14</td>\n",
       "      <td>1</td>\n",
       "      <td>NaN</td>\n",
       "    </tr>\n",
       "    <tr>\n",
       "      <th>12</th>\n",
       "      <td>358.0</td>\n",
       "      <td>Documentation</td>\n",
       "      <td>14</td>\n",
       "      <td>1</td>\n",
       "      <td>NaN</td>\n",
       "    </tr>\n",
       "  </tbody>\n",
       "</table>\n",
       "<p>224 rows × 5 columns</p>\n",
       "</div>"
      ]
     },
     "execution_count": 7,
     "metadata": {},
     "output_type": "execute_result"
    }
   ],
   "execution_count": 7
  },
  {
   "cell_type": "markdown",
   "source": [
    "\n",
    "### Length of comments"
   ],
   "metadata": {
    "collapsed": false
   },
   "id": "ba3790b3450a3794"
  },
  {
   "cell_type": "code",
   "source": [
    "intra_rater_df['comments'] = intra_rater_df['comments'].fillna('')\n",
    "intra_rater_df['length'] = intra_rater_df['comments'].apply(lambda comment: len(simple_preprocess(comment)))\n",
    "intra_rater_df"
   ],
   "metadata": {
    "collapsed": false,
    "ExecuteTime": {
     "end_time": "2025-03-04T18:25:24.643322Z",
     "start_time": "2025-03-04T18:25:24.635979Z"
    }
   },
   "id": "aba1f90798b88132",
   "outputs": [
    {
     "data": {
      "text/plain": [
       "    assignment_number          skill  participant_id  batch  \\\n",
       "12              358.0    Readability              15      1   \n",
       "12              358.0    Correctness              15      1   \n",
       "12              358.0  Code Elegance              15      1   \n",
       "12              358.0  Documentation              15      1   \n",
       "0               160.0    Readability              24      1   \n",
       "..                ...            ...             ...    ...   \n",
       "19              144.0  Documentation               1      1   \n",
       "12              358.0    Readability              14      1   \n",
       "12              358.0    Correctness              14      1   \n",
       "12              358.0  Code Elegance              14      1   \n",
       "12              358.0  Documentation              14      1   \n",
       "\n",
       "                                             comments  length  \n",
       "12  The code is generally clean and organized with...      19  \n",
       "12  All of the base tasks are completed - the simu...      82  \n",
       "12  The code demonstrates good use of classes and ...      33  \n",
       "12  Most classes and functions have clear, useful ...      21  \n",
       "0   The student used indentation appropriately and...      11  \n",
       "..                                                ...     ...  \n",
       "19                           Code is documented well.       4  \n",
       "12  there are a few instances where naming consist...      12  \n",
       "12                                                          0  \n",
       "12                                                          0  \n",
       "12                                                          0  \n",
       "\n",
       "[224 rows x 6 columns]"
      ],
      "text/html": [
       "<div>\n",
       "<style scoped>\n",
       "    .dataframe tbody tr th:only-of-type {\n",
       "        vertical-align: middle;\n",
       "    }\n",
       "\n",
       "    .dataframe tbody tr th {\n",
       "        vertical-align: top;\n",
       "    }\n",
       "\n",
       "    .dataframe thead th {\n",
       "        text-align: right;\n",
       "    }\n",
       "</style>\n",
       "<table border=\"1\" class=\"dataframe\">\n",
       "  <thead>\n",
       "    <tr style=\"text-align: right;\">\n",
       "      <th></th>\n",
       "      <th>assignment_number</th>\n",
       "      <th>skill</th>\n",
       "      <th>participant_id</th>\n",
       "      <th>batch</th>\n",
       "      <th>comments</th>\n",
       "      <th>length</th>\n",
       "    </tr>\n",
       "  </thead>\n",
       "  <tbody>\n",
       "    <tr>\n",
       "      <th>12</th>\n",
       "      <td>358.0</td>\n",
       "      <td>Readability</td>\n",
       "      <td>15</td>\n",
       "      <td>1</td>\n",
       "      <td>The code is generally clean and organized with...</td>\n",
       "      <td>19</td>\n",
       "    </tr>\n",
       "    <tr>\n",
       "      <th>12</th>\n",
       "      <td>358.0</td>\n",
       "      <td>Correctness</td>\n",
       "      <td>15</td>\n",
       "      <td>1</td>\n",
       "      <td>All of the base tasks are completed - the simu...</td>\n",
       "      <td>82</td>\n",
       "    </tr>\n",
       "    <tr>\n",
       "      <th>12</th>\n",
       "      <td>358.0</td>\n",
       "      <td>Code Elegance</td>\n",
       "      <td>15</td>\n",
       "      <td>1</td>\n",
       "      <td>The code demonstrates good use of classes and ...</td>\n",
       "      <td>33</td>\n",
       "    </tr>\n",
       "    <tr>\n",
       "      <th>12</th>\n",
       "      <td>358.0</td>\n",
       "      <td>Documentation</td>\n",
       "      <td>15</td>\n",
       "      <td>1</td>\n",
       "      <td>Most classes and functions have clear, useful ...</td>\n",
       "      <td>21</td>\n",
       "    </tr>\n",
       "    <tr>\n",
       "      <th>0</th>\n",
       "      <td>160.0</td>\n",
       "      <td>Readability</td>\n",
       "      <td>24</td>\n",
       "      <td>1</td>\n",
       "      <td>The student used indentation appropriately and...</td>\n",
       "      <td>11</td>\n",
       "    </tr>\n",
       "    <tr>\n",
       "      <th>...</th>\n",
       "      <td>...</td>\n",
       "      <td>...</td>\n",
       "      <td>...</td>\n",
       "      <td>...</td>\n",
       "      <td>...</td>\n",
       "      <td>...</td>\n",
       "    </tr>\n",
       "    <tr>\n",
       "      <th>19</th>\n",
       "      <td>144.0</td>\n",
       "      <td>Documentation</td>\n",
       "      <td>1</td>\n",
       "      <td>1</td>\n",
       "      <td>Code is documented well.</td>\n",
       "      <td>4</td>\n",
       "    </tr>\n",
       "    <tr>\n",
       "      <th>12</th>\n",
       "      <td>358.0</td>\n",
       "      <td>Readability</td>\n",
       "      <td>14</td>\n",
       "      <td>1</td>\n",
       "      <td>there are a few instances where naming consist...</td>\n",
       "      <td>12</td>\n",
       "    </tr>\n",
       "    <tr>\n",
       "      <th>12</th>\n",
       "      <td>358.0</td>\n",
       "      <td>Correctness</td>\n",
       "      <td>14</td>\n",
       "      <td>1</td>\n",
       "      <td></td>\n",
       "      <td>0</td>\n",
       "    </tr>\n",
       "    <tr>\n",
       "      <th>12</th>\n",
       "      <td>358.0</td>\n",
       "      <td>Code Elegance</td>\n",
       "      <td>14</td>\n",
       "      <td>1</td>\n",
       "      <td></td>\n",
       "      <td>0</td>\n",
       "    </tr>\n",
       "    <tr>\n",
       "      <th>12</th>\n",
       "      <td>358.0</td>\n",
       "      <td>Documentation</td>\n",
       "      <td>14</td>\n",
       "      <td>1</td>\n",
       "      <td></td>\n",
       "      <td>0</td>\n",
       "    </tr>\n",
       "  </tbody>\n",
       "</table>\n",
       "<p>224 rows × 6 columns</p>\n",
       "</div>"
      ]
     },
     "execution_count": 8,
     "metadata": {},
     "output_type": "execute_result"
    }
   ],
   "execution_count": 8
  },
  {
   "cell_type": "code",
   "source": [
    "pivot = intra_rater_df.pivot(index=['skill', 'participant_id'], columns='batch', values='length').reset_index()\n",
    "pivot.columns = ['skill', 'participant_id', 'length_1', 'length_2']\n",
    "\n",
    "pivot['distance'] = abs(pivot['length_1'] - pivot['length_2'])\n",
    "pivot"
   ],
   "metadata": {
    "collapsed": false,
    "ExecuteTime": {
     "end_time": "2025-03-04T18:25:24.714325Z",
     "start_time": "2025-03-04T18:25:24.707224Z"
    }
   },
   "id": "95276a1aab3c1d9",
   "outputs": [
    {
     "data": {
      "text/plain": [
       "             skill  participant_id  length_1  length_2  distance\n",
       "0    Code Elegance               1        29        10        19\n",
       "1    Code Elegance               2        15        14         1\n",
       "2    Code Elegance               3        10        10         0\n",
       "3    Code Elegance               4        19         4        15\n",
       "4    Code Elegance               5         0         0         0\n",
       "..             ...             ...       ...       ...       ...\n",
       "107    Readability              24        11        11         0\n",
       "108    Readability              25         0         0         0\n",
       "109    Readability              26         0         0         0\n",
       "110    Readability              27        12        14         2\n",
       "111    Readability              28        30        18        12\n",
       "\n",
       "[112 rows x 5 columns]"
      ],
      "text/html": [
       "<div>\n",
       "<style scoped>\n",
       "    .dataframe tbody tr th:only-of-type {\n",
       "        vertical-align: middle;\n",
       "    }\n",
       "\n",
       "    .dataframe tbody tr th {\n",
       "        vertical-align: top;\n",
       "    }\n",
       "\n",
       "    .dataframe thead th {\n",
       "        text-align: right;\n",
       "    }\n",
       "</style>\n",
       "<table border=\"1\" class=\"dataframe\">\n",
       "  <thead>\n",
       "    <tr style=\"text-align: right;\">\n",
       "      <th></th>\n",
       "      <th>skill</th>\n",
       "      <th>participant_id</th>\n",
       "      <th>length_1</th>\n",
       "      <th>length_2</th>\n",
       "      <th>distance</th>\n",
       "    </tr>\n",
       "  </thead>\n",
       "  <tbody>\n",
       "    <tr>\n",
       "      <th>0</th>\n",
       "      <td>Code Elegance</td>\n",
       "      <td>1</td>\n",
       "      <td>29</td>\n",
       "      <td>10</td>\n",
       "      <td>19</td>\n",
       "    </tr>\n",
       "    <tr>\n",
       "      <th>1</th>\n",
       "      <td>Code Elegance</td>\n",
       "      <td>2</td>\n",
       "      <td>15</td>\n",
       "      <td>14</td>\n",
       "      <td>1</td>\n",
       "    </tr>\n",
       "    <tr>\n",
       "      <th>2</th>\n",
       "      <td>Code Elegance</td>\n",
       "      <td>3</td>\n",
       "      <td>10</td>\n",
       "      <td>10</td>\n",
       "      <td>0</td>\n",
       "    </tr>\n",
       "    <tr>\n",
       "      <th>3</th>\n",
       "      <td>Code Elegance</td>\n",
       "      <td>4</td>\n",
       "      <td>19</td>\n",
       "      <td>4</td>\n",
       "      <td>15</td>\n",
       "    </tr>\n",
       "    <tr>\n",
       "      <th>4</th>\n",
       "      <td>Code Elegance</td>\n",
       "      <td>5</td>\n",
       "      <td>0</td>\n",
       "      <td>0</td>\n",
       "      <td>0</td>\n",
       "    </tr>\n",
       "    <tr>\n",
       "      <th>...</th>\n",
       "      <td>...</td>\n",
       "      <td>...</td>\n",
       "      <td>...</td>\n",
       "      <td>...</td>\n",
       "      <td>...</td>\n",
       "    </tr>\n",
       "    <tr>\n",
       "      <th>107</th>\n",
       "      <td>Readability</td>\n",
       "      <td>24</td>\n",
       "      <td>11</td>\n",
       "      <td>11</td>\n",
       "      <td>0</td>\n",
       "    </tr>\n",
       "    <tr>\n",
       "      <th>108</th>\n",
       "      <td>Readability</td>\n",
       "      <td>25</td>\n",
       "      <td>0</td>\n",
       "      <td>0</td>\n",
       "      <td>0</td>\n",
       "    </tr>\n",
       "    <tr>\n",
       "      <th>109</th>\n",
       "      <td>Readability</td>\n",
       "      <td>26</td>\n",
       "      <td>0</td>\n",
       "      <td>0</td>\n",
       "      <td>0</td>\n",
       "    </tr>\n",
       "    <tr>\n",
       "      <th>110</th>\n",
       "      <td>Readability</td>\n",
       "      <td>27</td>\n",
       "      <td>12</td>\n",
       "      <td>14</td>\n",
       "      <td>2</td>\n",
       "    </tr>\n",
       "    <tr>\n",
       "      <th>111</th>\n",
       "      <td>Readability</td>\n",
       "      <td>28</td>\n",
       "      <td>30</td>\n",
       "      <td>18</td>\n",
       "      <td>12</td>\n",
       "    </tr>\n",
       "  </tbody>\n",
       "</table>\n",
       "<p>112 rows × 5 columns</p>\n",
       "</div>"
      ]
     },
     "execution_count": 9,
     "metadata": {},
     "output_type": "execute_result"
    }
   ],
   "execution_count": 9
  },
  {
   "cell_type": "code",
   "source": [
    "print(f\"Count missing - Correctness: {pivot[(pivot['skill'] == 'Correctness') & (pivot['length_1'] == 0) & (pivot['length_2'] == 0)].shape[0]}\")\n",
    "print(f\"Count missing - Code Elegance: {pivot[(pivot['skill'] == 'Code Elegance') & (pivot['length_1'] == 0) & (pivot['length_2'] == 0)].shape[0]}\")\n",
    "print(f\"Count missing - Readability: {pivot[(pivot['skill'] == 'Readability') & (pivot['length_1'] == 0) & (pivot['length_2'] == 0)].shape[0]}\")\n",
    "print(f\"Count missing - Documentation: {pivot[(pivot['skill'] == 'Documentation') & (pivot['length_1'] == 0) & (pivot['length_2'] == 0)].shape[0]}\")\n",
    "\n",
    "print(f\"Count same - Correctness: {pivot[(pivot['skill'] == 'Correctness') & (pivot['length_1'] != 0) & (pivot['length_2'] != 0) & (pivot['distance'] == 0)].shape[0]}\")\n",
    "print(f\"Count same - Code Elegance: {pivot[(pivot['skill'] == 'Code Elegance') & (pivot['length_1'] != 0) & (pivot['length_2'] != 0) & (pivot['distance'] == 0)].shape[0]}\")\n",
    "print(f\"Count same - Readability: {pivot[(pivot['skill'] == 'Readability') & (pivot['length_1'] != 0) & (pivot['length_2'] != 0) & (pivot['distance'] == 0)].shape[0]}\")\n",
    "print(f\"Count same - Documentation: {pivot[(pivot['skill'] == 'Documentation') & (pivot['length_1'] != 0) & (pivot['length_2'] != 0) & (pivot['distance'] == 0)].shape[0]}\")\n",
    "\n",
    "print(f\"Average Dist - Correctness: {pivot[(pivot['skill'] == 'Correctness')]['distance'].mean():.2f}\")\n",
    "print(f\"Average Dist - Code Elegance: {pivot[(pivot['skill'] == 'Code Elegance')]['distance'].mean():.2f}\")\n",
    "print(f\"Average Dist - Readability: {pivot[(pivot['skill'] == 'Readability')]['distance'].mean():.2f}\")\n",
    "print(f\"Average Dist - Documentation: {pivot[(pivot['skill'] == 'Documentation')]['distance'].mean():.2f}\")"
   ],
   "metadata": {
    "collapsed": false,
    "ExecuteTime": {
     "end_time": "2025-03-04T18:25:24.810325Z",
     "start_time": "2025-03-04T18:25:24.803264Z"
    }
   },
   "id": "44d042a3e4cae763",
   "outputs": [
    {
     "name": "stdout",
     "output_type": "stream",
     "text": [
      "Count missing - Correctness: 11\n",
      "Count missing - Code Elegance: 11\n",
      "Count missing - Readability: 11\n",
      "Count missing - Documentation: 10\n",
      "Count same - Correctness: 2\n",
      "Count same - Code Elegance: 2\n",
      "Count same - Readability: 5\n",
      "Count same - Documentation: 2\n",
      "Average Dist - Correctness: 4.57\n",
      "Average Dist - Code Elegance: 5.82\n",
      "Average Dist - Readability: 3.11\n",
      "Average Dist - Documentation: 3.64\n"
     ]
    }
   ],
   "execution_count": 10
  },
  {
   "cell_type": "code",
   "source": [
    "intra_rater_df[(intra_rater_df['skill'] == 'Documentation') & (intra_rater_df['participant_id'] == 10)]"
   ],
   "metadata": {
    "collapsed": false,
    "ExecuteTime": {
     "end_time": "2025-03-04T18:25:24.900495Z",
     "start_time": "2025-03-04T18:25:24.895682Z"
    }
   },
   "id": "15613ea43d3939cd",
   "outputs": [
    {
     "data": {
      "text/plain": [
       "    assignment_number          skill  participant_id  batch  \\\n",
       "7                97.0  Documentation              10      1   \n",
       "14              682.0  Documentation              10      2   \n",
       "\n",
       "                                             comments  length  \n",
       "7   This submission is completely identical to the...      13  \n",
       "14  This submission is completely identical to the...      13  "
      ],
      "text/html": [
       "<div>\n",
       "<style scoped>\n",
       "    .dataframe tbody tr th:only-of-type {\n",
       "        vertical-align: middle;\n",
       "    }\n",
       "\n",
       "    .dataframe tbody tr th {\n",
       "        vertical-align: top;\n",
       "    }\n",
       "\n",
       "    .dataframe thead th {\n",
       "        text-align: right;\n",
       "    }\n",
       "</style>\n",
       "<table border=\"1\" class=\"dataframe\">\n",
       "  <thead>\n",
       "    <tr style=\"text-align: right;\">\n",
       "      <th></th>\n",
       "      <th>assignment_number</th>\n",
       "      <th>skill</th>\n",
       "      <th>participant_id</th>\n",
       "      <th>batch</th>\n",
       "      <th>comments</th>\n",
       "      <th>length</th>\n",
       "    </tr>\n",
       "  </thead>\n",
       "  <tbody>\n",
       "    <tr>\n",
       "      <th>7</th>\n",
       "      <td>97.0</td>\n",
       "      <td>Documentation</td>\n",
       "      <td>10</td>\n",
       "      <td>1</td>\n",
       "      <td>This submission is completely identical to the...</td>\n",
       "      <td>13</td>\n",
       "    </tr>\n",
       "    <tr>\n",
       "      <th>14</th>\n",
       "      <td>682.0</td>\n",
       "      <td>Documentation</td>\n",
       "      <td>10</td>\n",
       "      <td>2</td>\n",
       "      <td>This submission is completely identical to the...</td>\n",
       "      <td>13</td>\n",
       "    </tr>\n",
       "  </tbody>\n",
       "</table>\n",
       "</div>"
      ]
     },
     "execution_count": 11,
     "metadata": {},
     "output_type": "execute_result"
    }
   ],
   "execution_count": 11
  },
  {
   "cell_type": "code",
   "source": [
    "NOTICED_DUP = [1, 2, 10, 11, 20, 25]"
   ],
   "metadata": {
    "collapsed": false,
    "ExecuteTime": {
     "end_time": "2025-03-04T18:25:24.947220Z",
     "start_time": "2025-03-04T18:25:24.945245Z"
    }
   },
   "id": "c8c52bd783df5b50",
   "outputs": [],
   "execution_count": 12
  },
  {
   "cell_type": "code",
   "source": [
    "sns.set(rc={'text.usetex': True})\n",
    "\n",
    "def underline(input):\n",
    "    return r'\\underline{%s}' %input\n",
    "\n",
    "underline(10)"
   ],
   "metadata": {
    "collapsed": false,
    "ExecuteTime": {
     "end_time": "2025-03-04T18:25:25.057213Z",
     "start_time": "2025-03-04T18:25:25.054183Z"
    }
   },
   "id": "470b133bcfa0bb99",
   "outputs": [
    {
     "data": {
      "text/plain": [
       "'\\\\underline{10}'"
      ]
     },
     "execution_count": 13,
     "metadata": {},
     "output_type": "execute_result"
    }
   ],
   "execution_count": 13
  },
  {
   "cell_type": "code",
   "source": [
    "dist_plt = sns.scatterplot(intra_rater_df[(intra_rater_df['skill'] == 'Correctness')], x='participant_id', y='length', style='batch', hue='batch', palette=sns.color_palette([red, darkgreen]), markers=['+', 'x'], zorder=5)\n",
    "\n",
    "for index, row in intra_rater_df[intra_rater_df['skill'] == 'Correctness'].iterrows():\n",
    "    participant_id = row['participant_id']\n",
    "    length_1 = intra_rater_df[(intra_rater_df['skill'] == 'Correctness') & (intra_rater_df['participant_id'] == participant_id) & (intra_rater_df['batch'] == 1)]['length']\n",
    "\n",
    "    length_2 = intra_rater_df[(intra_rater_df['skill'] == 'Correctness') & (intra_rater_df['participant_id'] == participant_id) & (intra_rater_df['batch'] == 2)]['length']\n",
    "\n",
    "    line = dist_plt.plot([participant_id, participant_id], [length_1, length_2])\n",
    "    plt.setp(line, color=blue)\n",
    "\n",
    "dist_plt.set(ylabel='Word Count', xlabel='Participant Number', title='Correctness', xticks=intra_rater_df['participant_id'].unique())\n",
    "dist_plt.legend(title='Batch', loc='upper left')\n",
    "temp_ticks = dist_plt.get_xticks()\n",
    "temp_ticks = [underline(x) if x in NOTICED_DUP else x for x in temp_ticks]\n",
    "dist_plt.set_xticklabels(temp_ticks)\n",
    "\n",
    "dist_plt.get_figure().savefig('plots/feedback_correctness_distance.pdf', bbox_inches='tight')"
   ],
   "metadata": {
    "collapsed": false,
    "ExecuteTime": {
     "end_time": "2025-03-04T18:25:26.029379Z",
     "start_time": "2025-03-04T18:25:25.099287Z"
    }
   },
   "id": "f44d95648c2e1939",
   "outputs": [
    {
     "data": {
      "text/plain": [
       "<Figure size 640x480 with 1 Axes>"
      ],
      "image/png": "[encoded data removed]"
     },
     "metadata": {},
     "output_type": "display_data"
    }
   ],
   "execution_count": 14
  },
  {
   "cell_type": "code",
   "source": [
    "dist_plt = sns.scatterplot(intra_rater_df[(intra_rater_df['skill'] == 'Code Elegance')], x='participant_id', y='length', style='batch', hue='batch', palette=sns.color_palette([red, darkgreen]), markers=['+', 'x'], zorder=5)\n",
    "\n",
    "for index, row in intra_rater_df[intra_rater_df['skill'] == 'Code Elegance'].iterrows():\n",
    "    participant_id = row['participant_id']\n",
    "    length_1 = intra_rater_df[(intra_rater_df['skill'] == 'Code Elegance') & (intra_rater_df['participant_id'] == participant_id) & (intra_rater_df['batch'] == 1)]['length']\n",
    "\n",
    "    length_2 = intra_rater_df[(intra_rater_df['skill'] == 'Code Elegance') & (intra_rater_df['participant_id'] == participant_id) & (intra_rater_df['batch'] == 2)]['length']\n",
    "\n",
    "    line = dist_plt.plot([participant_id, participant_id], [length_1, length_2])\n",
    "    plt.setp(line, color=blue)\n",
    "\n",
    "dist_plt.set(ylabel='Word Count', xlabel='Participant Number', title='Code Elegance', xticks=intra_rater_df['participant_id'].unique())\n",
    "dist_plt.legend(title='Batch')\n",
    "temp_ticks = dist_plt.get_xticks()\n",
    "temp_ticks = [underline(x) if x in NOTICED_DUP else x for x in temp_ticks]\n",
    "dist_plt.set_xticklabels(temp_ticks)\n",
    "\n",
    "dist_plt.get_figure().savefig('plots/feedback_code_elegance_distance.pdf', bbox_inches='tight')"
   ],
   "metadata": {
    "collapsed": false,
    "ExecuteTime": {
     "end_time": "2025-03-04T18:25:26.484469Z",
     "start_time": "2025-03-04T18:25:26.080353Z"
    }
   },
   "id": "95254ef681ad9790",
   "outputs": [
    {
     "data": {
      "text/plain": [
       "<Figure size 640x480 with 1 Axes>"
      ],
      "image/png": "[encoded data removed]"
     },
     "metadata": {},
     "output_type": "display_data"
    }
   ],
   "execution_count": 15
  },
  {
   "cell_type": "code",
   "source": [
    "dist_plt = sns.scatterplot(intra_rater_df[(intra_rater_df['skill'] == 'Readability')], x='participant_id', y='length', style='batch', hue='batch', palette=sns.color_palette([red, darkgreen]), markers=['+', 'x'], zorder=5)\n",
    "\n",
    "for index, row in intra_rater_df[intra_rater_df['skill'] == 'Readability'].iterrows():\n",
    "    participant_id = row['participant_id']\n",
    "    length_1 = intra_rater_df[(intra_rater_df['skill'] == 'Readability') & (intra_rater_df['participant_id'] == participant_id) & (intra_rater_df['batch'] == 1)]['length']\n",
    "\n",
    "    length_2 = intra_rater_df[(intra_rater_df['skill'] == 'Readability') & (intra_rater_df['participant_id'] == participant_id) & (intra_rater_df['batch'] == 2)]['length']\n",
    "\n",
    "    line = dist_plt.plot([participant_id, participant_id], [length_1, length_2])\n",
    "    plt.setp(line, color=blue)\n",
    "\n",
    "dist_plt.set(ylabel='Word Count', xlabel='Participant Number', title='Readability', xticks=intra_rater_df['participant_id'].unique())\n",
    "dist_plt.legend(title='Batch', loc='upper left')\n",
    "\n",
    "temp_ticks = dist_plt.get_xticks()\n",
    "temp_ticks = [underline(x) if x in NOTICED_DUP else x for x in temp_ticks]\n",
    "dist_plt.set_xticklabels(temp_ticks)\n",
    "\n",
    "dist_plt.get_figure().savefig('plots/feedback_readability_distance.pdf', bbox_inches='tight')"
   ],
   "metadata": {
    "collapsed": false,
    "ExecuteTime": {
     "end_time": "2025-03-04T18:25:26.927840Z",
     "start_time": "2025-03-04T18:25:26.492775Z"
    }
   },
   "id": "f6e515a6dc0f4658",
   "outputs": [
    {
     "data": {
      "text/plain": [
       "<Figure size 640x480 with 1 Axes>"
      ],
      "image/png": "[encoded data removed]"
     },
     "metadata": {},
     "output_type": "display_data"
    }
   ],
   "execution_count": 16
  },
  {
   "cell_type": "code",
   "source": [
    "dist_plt = sns.scatterplot(intra_rater_df[(intra_rater_df['skill'] == 'Documentation')], x='participant_id',  y='length', style='batch', hue='batch', palette=sns.color_palette([red, darkgreen]), markers=['+', 'x'], zorder=5)\n",
    "\n",
    "for index, row in intra_rater_df[intra_rater_df['skill'] == 'Documentation'].iterrows():\n",
    "    participant_id = row['participant_id']\n",
    "    length_1 = intra_rater_df[(intra_rater_df['skill'] == 'Documentation') & (intra_rater_df['participant_id'] == participant_id) & (intra_rater_df['batch'] == 1)]['length']\n",
    "\n",
    "    length_2 = intra_rater_df[(intra_rater_df['skill'] == 'Documentation') & (intra_rater_df['participant_id'] == participant_id) & (intra_rater_df['batch'] == 2)]['length']\n",
    "\n",
    "    line = dist_plt.plot([participant_id, participant_id], [length_1, length_2])\n",
    "    plt.setp(line, color=blue)\n",
    "\n",
    "dist_plt.set(ylabel='Word Count', xlabel='Participant Number', title='Documentation', xticks=intra_rater_df['participant_id'].unique())\n",
    "dist_plt.legend(title='Batch')\n",
    "temp_ticks = dist_plt.get_xticks()\n",
    "temp_ticks = [underline(x) if x in NOTICED_DUP else x for x in temp_ticks]\n",
    "dist_plt.set_xticklabels(temp_ticks)\n",
    "\n",
    "dist_plt.get_figure().savefig('plots/feedback_documentation_distance.pdf', bbox_inches='tight')\n",
    "sns.set(rc={'text.usetex': False})"
   ],
   "metadata": {
    "collapsed": false,
    "ExecuteTime": {
     "end_time": "2025-03-04T18:25:27.322783Z",
     "start_time": "2025-03-04T18:25:26.935378Z"
    }
   },
   "id": "4fb641d87899e7b7",
   "outputs": [
    {
     "data": {
      "text/plain": [
       "<Figure size 640x480 with 1 Axes>"
      ],
      "image/png": "[encoded data removed]"
     },
     "metadata": {},
     "output_type": "display_data"
    }
   ],
   "execution_count": 17
  },
  {
   "cell_type": "markdown",
   "source": [
    "### Comment Similarity"
   ],
   "metadata": {
    "collapsed": false
   },
   "id": "eac4b9560fda1d1a"
  },
  {
   "cell_type": "code",
   "source": [
    "sim_df = pd.read_csv('../data/similarity_analysis_output.csv')\n",
    "sim_df"
   ],
   "metadata": {
    "collapsed": false,
    "ExecuteTime": {
     "end_time": "2025-03-04T18:25:27.338787Z",
     "start_time": "2025-03-04T18:25:27.331730Z"
    }
   },
   "id": "698dd8504361c9cf",
   "outputs": [
    {
     "data": {
      "text/plain": [
       "    assignment_number          skill  participant_id  \\\n",
       "0                97.0  Code Elegance              11   \n",
       "1                97.0    Correctness              11   \n",
       "2                97.0  Documentation              10   \n",
       "3                97.0  Documentation              11   \n",
       "4                97.0    Readability              11   \n",
       "..                ...            ...             ...   \n",
       "64              559.0    Correctness               7   \n",
       "65              559.0  Documentation               6   \n",
       "66              559.0  Documentation               7   \n",
       "67              559.0    Readability               6   \n",
       "68              559.0    Readability               7   \n",
       "\n",
       "                                           feedback_1  \\\n",
       "0   Good usage of organism abstract class. animals...   \n",
       "1   unclear what the natural disasters do; they ju...   \n",
       "2   This submission is completely identical to the...   \n",
       "3          documented well. every function is defined   \n",
       "4                    code is clean and simple to read   \n",
       "..                                                ...   \n",
       "64                           It is basically correct.   \n",
       "65  Missing return and parameter comments for some...   \n",
       "66                                Better than others.   \n",
       "67  Good variable naming, public used where could ...   \n",
       "68                                      Easy to read.   \n",
       "\n",
       "                                           feedback_2       sim  \n",
       "0   good abstraction level, code is not rewritten ...  0.475714  \n",
       "1   core and challenging tasks completed. added na...  0.522516  \n",
       "2   This submission is completely identical to the...  0.899581  \n",
       "3   documentation is clear and defines every class...  0.743613  \n",
       "4      code is clear and follows consistent structure  0.662336  \n",
       "..                                                ...       ...  \n",
       "64      Some efforts have been put into this project.  0.078713  \n",
       "65   Missing param comment in method header comments   0.660806  \n",
       "66                    It is good, though not perfect.  0.454978  \n",
       "67                                No comment supplied  0.068642  \n",
       "68                It is readable, though not perfect.  0.547646  \n",
       "\n",
       "[69 rows x 6 columns]"
      ],
      "text/html": [
       "<div>\n",
       "<style scoped>\n",
       "    .dataframe tbody tr th:only-of-type {\n",
       "        vertical-align: middle;\n",
       "    }\n",
       "\n",
       "    .dataframe tbody tr th {\n",
       "        vertical-align: top;\n",
       "    }\n",
       "\n",
       "    .dataframe thead th {\n",
       "        text-align: right;\n",
       "    }\n",
       "</style>\n",
       "<table border=\"1\" class=\"dataframe\">\n",
       "  <thead>\n",
       "    <tr style=\"text-align: right;\">\n",
       "      <th></th>\n",
       "      <th>assignment_number</th>\n",
       "      <th>skill</th>\n",
       "      <th>participant_id</th>\n",
       "      <th>feedback_1</th>\n",
       "      <th>feedback_2</th>\n",
       "      <th>sim</th>\n",
       "    </tr>\n",
       "  </thead>\n",
       "  <tbody>\n",
       "    <tr>\n",
       "      <th>0</th>\n",
       "      <td>97.0</td>\n",
       "      <td>Code Elegance</td>\n",
       "      <td>11</td>\n",
       "      <td>Good usage of organism abstract class. animals...</td>\n",
       "      <td>good abstraction level, code is not rewritten ...</td>\n",
       "      <td>0.475714</td>\n",
       "    </tr>\n",
       "    <tr>\n",
       "      <th>1</th>\n",
       "      <td>97.0</td>\n",
       "      <td>Correctness</td>\n",
       "      <td>11</td>\n",
       "      <td>unclear what the natural disasters do; they ju...</td>\n",
       "      <td>core and challenging tasks completed. added na...</td>\n",
       "      <td>0.522516</td>\n",
       "    </tr>\n",
       "    <tr>\n",
       "      <th>2</th>\n",
       "      <td>97.0</td>\n",
       "      <td>Documentation</td>\n",
       "      <td>10</td>\n",
       "      <td>This submission is completely identical to the...</td>\n",
       "      <td>This submission is completely identical to the...</td>\n",
       "      <td>0.899581</td>\n",
       "    </tr>\n",
       "    <tr>\n",
       "      <th>3</th>\n",
       "      <td>97.0</td>\n",
       "      <td>Documentation</td>\n",
       "      <td>11</td>\n",
       "      <td>documented well. every function is defined</td>\n",
       "      <td>documentation is clear and defines every class...</td>\n",
       "      <td>0.743613</td>\n",
       "    </tr>\n",
       "    <tr>\n",
       "      <th>4</th>\n",
       "      <td>97.0</td>\n",
       "      <td>Readability</td>\n",
       "      <td>11</td>\n",
       "      <td>code is clean and simple to read</td>\n",
       "      <td>code is clear and follows consistent structure</td>\n",
       "      <td>0.662336</td>\n",
       "    </tr>\n",
       "    <tr>\n",
       "      <th>...</th>\n",
       "      <td>...</td>\n",
       "      <td>...</td>\n",
       "      <td>...</td>\n",
       "      <td>...</td>\n",
       "      <td>...</td>\n",
       "      <td>...</td>\n",
       "    </tr>\n",
       "    <tr>\n",
       "      <th>64</th>\n",
       "      <td>559.0</td>\n",
       "      <td>Correctness</td>\n",
       "      <td>7</td>\n",
       "      <td>It is basically correct.</td>\n",
       "      <td>Some efforts have been put into this project.</td>\n",
       "      <td>0.078713</td>\n",
       "    </tr>\n",
       "    <tr>\n",
       "      <th>65</th>\n",
       "      <td>559.0</td>\n",
       "      <td>Documentation</td>\n",
       "      <td>6</td>\n",
       "      <td>Missing return and parameter comments for some...</td>\n",
       "      <td>Missing param comment in method header comments</td>\n",
       "      <td>0.660806</td>\n",
       "    </tr>\n",
       "    <tr>\n",
       "      <th>66</th>\n",
       "      <td>559.0</td>\n",
       "      <td>Documentation</td>\n",
       "      <td>7</td>\n",
       "      <td>Better than others.</td>\n",
       "      <td>It is good, though not perfect.</td>\n",
       "      <td>0.454978</td>\n",
       "    </tr>\n",
       "    <tr>\n",
       "      <th>67</th>\n",
       "      <td>559.0</td>\n",
       "      <td>Readability</td>\n",
       "      <td>6</td>\n",
       "      <td>Good variable naming, public used where could ...</td>\n",
       "      <td>No comment supplied</td>\n",
       "      <td>0.068642</td>\n",
       "    </tr>\n",
       "    <tr>\n",
       "      <th>68</th>\n",
       "      <td>559.0</td>\n",
       "      <td>Readability</td>\n",
       "      <td>7</td>\n",
       "      <td>Easy to read.</td>\n",
       "      <td>It is readable, though not perfect.</td>\n",
       "      <td>0.547646</td>\n",
       "    </tr>\n",
       "  </tbody>\n",
       "</table>\n",
       "<p>69 rows × 6 columns</p>\n",
       "</div>"
      ]
     },
     "execution_count": 18,
     "metadata": {},
     "output_type": "execute_result"
    }
   ],
   "execution_count": 18
  },
  {
   "cell_type": "code",
   "source": [
    "g = sns.boxplot(sim_df, x='skill', y='sim', color=blue, order=['Correctness', 'Code Elegance', 'Readability', 'Documentation'])\n",
    "\n",
    "texts = [plt.text(sim_df[\"skill\"][i], sim_df[\"sim\"][i], str(sim_df[\"participant_id\"][i]), fontsize=10) for i in range(len(sim_df[\"skill\"]))]\n",
    "\n",
    "adjust_text(\n",
    "    texts,\n",
    "    arrowprops=dict(arrowstyle=\"->\", color=grey, lw=0.5)  # Optional arrows\n",
    ")\n",
    "\n",
    "g.set_xlabel('Skill')\n",
    "g.set_ylabel('Cosine Similarity')\n",
    "\n",
    "g.get_figure().savefig('plots/feedback_similarity_graph.pdf', bbox_inches='tight')"
   ],
   "metadata": {
    "collapsed": false,
    "ExecuteTime": {
     "end_time": "2025-03-04T18:25:28.811552Z",
     "start_time": "2025-03-04T18:25:27.377175Z"
    }
   },
   "id": "7e1d580624ecae84",
   "outputs": [
    {
     "data": {
      "text/plain": [
       "<Figure size 640x480 with 1 Axes>"
      ],
      "image/png": "[encoded data removed]"
     },
     "metadata": {},
     "output_type": "display_data"
    }
   ],
   "execution_count": 19
  },
  {
   "cell_type": "code",
   "source": [
    "sim_average_df = sim_df[['skill', 'participant_id', 'sim']].groupby(['skill', 'participant_id']).sum()\n",
    "means = sim_average_df.groupby(level='skill')['sim'].mean()\n",
    "upper_quartiles = sim_average_df.groupby(level='skill')['sim'].quantile(0.75)\n",
    "lower_quartiles = sim_average_df.groupby(level='skill')['sim'].quantile(0.25)\n",
    "\n",
    "above_mean_counts = sim_average_df.groupby(level='skill').apply(lambda group: (group['sim'] > means[group.name]).sum())\n",
    "above_uq_counts = sim_average_df.groupby(level='skill').apply(lambda group: (group['sim'] > upper_quartiles[group.name]).sum())\n",
    "lower_lq_counts = sim_average_df.groupby(level='skill').apply(lambda group: (group['sim'] < lower_quartiles[group.name]).sum())\n",
    "\n",
    "print(f'Means:  {means}')\n",
    "\n",
    "print(f'Count of participants greater than mean: {above_mean_counts}')\n",
    "print(f'Count of participants greater than UQ: {above_uq_counts}')\n",
    "print(f'Count of participants lower than LQ: {lower_lq_counts}')"
   ],
   "metadata": {
    "collapsed": false,
    "ExecuteTime": {
     "end_time": "2025-03-04T18:25:28.844550Z",
     "start_time": "2025-03-04T18:25:28.833427Z"
    }
   },
   "id": "efdabfb31a6887b7",
   "outputs": [
    {
     "name": "stdout",
     "output_type": "stream",
     "text": [
      "Means:  skill\n",
      "Code Elegance    0.468429\n",
      "Correctness      0.532037\n",
      "Documentation    0.606132\n",
      "Readability      0.508018\n",
      "Name: sim, dtype: float64\n",
      "Count of participants greater than mean: skill\n",
      "Code Elegance     8\n",
      "Correctness       9\n",
      "Documentation    10\n",
      "Readability      10\n",
      "dtype: int64\n",
      "Count of participants greater than UQ: skill\n",
      "Code Elegance    4\n",
      "Correctness      4\n",
      "Documentation    5\n",
      "Readability      4\n",
      "dtype: int64\n",
      "Count of participants lower than LQ: skill\n",
      "Code Elegance    4\n",
      "Correctness      4\n",
      "Documentation    5\n",
      "Readability      4\n",
      "dtype: int64\n"
     ]
    }
   ],
   "execution_count": 20
  },
  {
   "cell_type": "code",
   "source": [
    "sim_df[(sim_df['skill'] == 'Readability') & (sim_df['participant_id'] == 7)]"
   ],
   "metadata": {
    "collapsed": false,
    "ExecuteTime": {
     "end_time": "2025-03-04T18:25:28.903250Z",
     "start_time": "2025-03-04T18:25:28.897019Z"
    }
   },
   "id": "da3115a52aa2bd9b",
   "outputs": [
    {
     "data": {
      "text/plain": [
       "    assignment_number        skill  participant_id     feedback_1  \\\n",
       "68              559.0  Readability               7  Easy to read.   \n",
       "\n",
       "                             feedback_2       sim  \n",
       "68  It is readable, though not perfect.  0.547646  "
      ],
      "text/html": [
       "<div>\n",
       "<style scoped>\n",
       "    .dataframe tbody tr th:only-of-type {\n",
       "        vertical-align: middle;\n",
       "    }\n",
       "\n",
       "    .dataframe tbody tr th {\n",
       "        vertical-align: top;\n",
       "    }\n",
       "\n",
       "    .dataframe thead th {\n",
       "        text-align: right;\n",
       "    }\n",
       "</style>\n",
       "<table border=\"1\" class=\"dataframe\">\n",
       "  <thead>\n",
       "    <tr style=\"text-align: right;\">\n",
       "      <th></th>\n",
       "      <th>assignment_number</th>\n",
       "      <th>skill</th>\n",
       "      <th>participant_id</th>\n",
       "      <th>feedback_1</th>\n",
       "      <th>feedback_2</th>\n",
       "      <th>sim</th>\n",
       "    </tr>\n",
       "  </thead>\n",
       "  <tbody>\n",
       "    <tr>\n",
       "      <th>68</th>\n",
       "      <td>559.0</td>\n",
       "      <td>Readability</td>\n",
       "      <td>7</td>\n",
       "      <td>Easy to read.</td>\n",
       "      <td>It is readable, though not perfect.</td>\n",
       "      <td>0.547646</td>\n",
       "    </tr>\n",
       "  </tbody>\n",
       "</table>\n",
       "</div>"
      ]
     },
     "execution_count": 21,
     "metadata": {},
     "output_type": "execute_result"
    }
   ],
   "execution_count": 21
  },
  {
   "cell_type": "markdown",
   "source": [
    "### Topics"
   ],
   "metadata": {
    "collapsed": false
   },
   "id": "a194cd42201edfa"
  },
  {
   "cell_type": "code",
   "source": [
    "sns.set(rc={'text.usetex': True})"
   ],
   "metadata": {
    "collapsed": false,
    "ExecuteTime": {
     "end_time": "2025-03-04T18:25:28.944496Z",
     "start_time": "2025-03-04T18:25:28.942189Z"
    }
   },
   "id": "ff47c518e4b52405",
   "outputs": [],
   "execution_count": 22
  },
  {
   "cell_type": "code",
   "source": [
    "def generate_dominant_topic_plot(df, skill):\n",
    "\n",
    "    df = df[df['assignment_number'].isin(list(DUPLICATE_MAP.keys())+list(DUPLICATE_MAP.values()))]\n",
    "    df['batch'] = df['batch'].apply(lambda x: 'Batch ' + str(x))\n",
    "    \n",
    "    for i in range(1, 29):\n",
    "        if i not in df['participant_id'].unique():\n",
    "            df = pd.concat([df, pd.DataFrame([{'participant_id':i}])])\n",
    "\n",
    "    df = df.sort_values('participant_id')\n",
    "\n",
    "    g = sns.scatterplot(df, y='batch', x='participant_id', hue='Dominant_Topic', s=200, marker='s', palette=sns.color_palette([blue, darkgreen, grey, yellow]))\n",
    "    g.set_ylim((-2,3))\n",
    "    g.legend(title=\"Topics\")\n",
    "    g.set_xlabel('Participant ID')\n",
    "    g.set_ylabel('Batch')\n",
    "    g.set_title(skill)\n",
    "    \n",
    "    g.set(xticks=intra_rater_df['participant_id'].unique())\n",
    "    \n",
    "    temp_ticks = g.get_xticks()\n",
    "    temp_ticks = [underline(x) if x in NOTICED_DUP else x for x in temp_ticks]\n",
    "    g.set_xticklabels(temp_ticks)\n",
    "\n",
    "    g.get_figure().set_size_inches(10, 3.8)\n",
    "    g.get_figure().savefig(f'plots/intra_{skill}_topic.pdf', bbox_inches='tight')\n",
    "    \n",
    "    df_pivot = df.pivot(index='participant_id', columns='batch', values='Dominant_Topic')\n",
    "    print(f\"Count of same topic: {(df_pivot['Batch 1'] == df_pivot['Batch 2']).sum()}\")\n",
    "    print(f\"Count of both missing: {df_pivot[df_pivot['Batch 1'].isna() & df_pivot['Batch 2'].isna()]['Batch 1'].fillna(1).sum()}\")\n",
    "    count_missing_given = df_pivot[df_pivot['Batch 1'].isna() & ~df_pivot['Batch 2'].isna()]['Batch 1'].fillna(1).sum()\n",
    "    count_given_missing = df_pivot[~df_pivot['Batch 1'].isna() & df_pivot['Batch 2'].isna()]['Batch 2'].fillna(1).sum()\n",
    "    print(f\"Count of missing in one batch, but feedback in the other: {count_given_missing + count_missing_given}\")\n",
    "    # return df_pivot"
   ],
   "metadata": {
    "collapsed": false,
    "ExecuteTime": {
     "end_time": "2025-03-04T18:28:46.203519Z",
     "start_time": "2025-03-04T18:28:46.197663Z"
    }
   },
   "id": "c59b7c9366de0712",
   "outputs": [],
   "execution_count": 57
  },
  {
   "cell_type": "code",
   "source": [
    "generate_dominant_topic_plot(pd.read_csv('../data/dominant_topics_correctness.csv'), 'Correctness')"
   ],
   "metadata": {
    "collapsed": false,
    "ExecuteTime": {
     "end_time": "2025-03-04T18:28:58.750799Z",
     "start_time": "2025-03-04T18:28:58.442803Z"
    }
   },
   "id": "6e30a56e3206b944",
   "outputs": [
    {
     "name": "stderr",
     "output_type": "stream",
     "text": [
      "/var/folders/1y/6byzw1px62g2f5w7p_rhb6kh0000gn/T/ipykernel_84679/646296465.py:4: SettingWithCopyWarning: \n",
      "A value is trying to be set on a copy of a slice from a DataFrame.\n",
      "Try using .loc[row_indexer,col_indexer] = value instead\n",
      "\n",
      "See the caveats in the documentation: https://pandas.pydata.org/pandas-docs/stable/user_guide/indexing.html#returning-a-view-versus-a-copy\n",
      "  df['batch'] = df['batch'].apply(lambda x: 'Batch ' + str(x))\n",
      "/var/folders/1y/6byzw1px62g2f5w7p_rhb6kh0000gn/T/ipykernel_84679/646296465.py:12: UserWarning: The palette list has more values (4) than needed (3), which may not be intended.\n",
      "  g = sns.scatterplot(df, y='batch', x='participant_id', hue='Dominant_Topic', s=200, marker='s', palette=sns.color_palette([blue, darkgreen, grey, yellow]))\n",
      "/var/folders/1y/6byzw1px62g2f5w7p_rhb6kh0000gn/T/ipykernel_84679/646296465.py:30: FutureWarning: Downcasting object dtype arrays on .fillna, .ffill, .bfill is deprecated and will change in a future version. Call result.infer_objects(copy=False) instead. To opt-in to the future behavior, set `pd.set_option('future.no_silent_downcasting', True)`\n",
      "  print(f\"Count of both missing: {df_pivot[df_pivot['Batch 1'].isna() & df_pivot['Batch 2'].isna()]['Batch 1'].fillna(1).sum()}\")\n",
      "/var/folders/1y/6byzw1px62g2f5w7p_rhb6kh0000gn/T/ipykernel_84679/646296465.py:31: FutureWarning: Downcasting object dtype arrays on .fillna, .ffill, .bfill is deprecated and will change in a future version. Call result.infer_objects(copy=False) instead. To opt-in to the future behavior, set `pd.set_option('future.no_silent_downcasting', True)`\n",
      "  count_missing_given = df_pivot[df_pivot['Batch 1'].isna() & ~df_pivot['Batch 2'].isna()]['Batch 1'].fillna(1).sum()\n"
     ]
    },
    {
     "name": "stdout",
     "output_type": "stream",
     "text": [
      "Count of same topic: 11\n",
      "Count of both missing: 11\n",
      "Count of missing in one batch, but feedback in the other: 2\n"
     ]
    },
    {
     "data": {
      "text/plain": [
       "<Figure size 1000x380 with 1 Axes>"
      ],
      "image/png": "[encoded data removed]"
     },
     "metadata": {},
     "output_type": "display_data"
    }
   ],
   "execution_count": 59
  },
  {
   "cell_type": "code",
   "source": [
    "generate_dominant_topic_plot(pd.read_csv('../data/dominant_topics_code_elegance.csv'), 'Code Elegance')"
   ],
   "metadata": {
    "collapsed": false,
    "ExecuteTime": {
     "end_time": "2025-03-04T18:29:05.005023Z",
     "start_time": "2025-03-04T18:29:04.692669Z"
    }
   },
   "id": "b4bcc06cdacab915",
   "outputs": [
    {
     "name": "stderr",
     "output_type": "stream",
     "text": [
      "/var/folders/1y/6byzw1px62g2f5w7p_rhb6kh0000gn/T/ipykernel_84679/646296465.py:4: SettingWithCopyWarning: \n",
      "A value is trying to be set on a copy of a slice from a DataFrame.\n",
      "Try using .loc[row_indexer,col_indexer] = value instead\n",
      "\n",
      "See the caveats in the documentation: https://pandas.pydata.org/pandas-docs/stable/user_guide/indexing.html#returning-a-view-versus-a-copy\n",
      "  df['batch'] = df['batch'].apply(lambda x: 'Batch ' + str(x))\n",
      "/var/folders/1y/6byzw1px62g2f5w7p_rhb6kh0000gn/T/ipykernel_84679/646296465.py:12: UserWarning: The palette list has more values (4) than needed (3), which may not be intended.\n",
      "  g = sns.scatterplot(df, y='batch', x='participant_id', hue='Dominant_Topic', s=200, marker='s', palette=sns.color_palette([blue, darkgreen, grey, yellow]))\n",
      "/var/folders/1y/6byzw1px62g2f5w7p_rhb6kh0000gn/T/ipykernel_84679/646296465.py:30: FutureWarning: Downcasting object dtype arrays on .fillna, .ffill, .bfill is deprecated and will change in a future version. Call result.infer_objects(copy=False) instead. To opt-in to the future behavior, set `pd.set_option('future.no_silent_downcasting', True)`\n",
      "  print(f\"Count of both missing: {df_pivot[df_pivot['Batch 1'].isna() & df_pivot['Batch 2'].isna()]['Batch 1'].fillna(1).sum()}\")\n",
      "/var/folders/1y/6byzw1px62g2f5w7p_rhb6kh0000gn/T/ipykernel_84679/646296465.py:31: FutureWarning: Downcasting object dtype arrays on .fillna, .ffill, .bfill is deprecated and will change in a future version. Call result.infer_objects(copy=False) instead. To opt-in to the future behavior, set `pd.set_option('future.no_silent_downcasting', True)`\n",
      "  count_missing_given = df_pivot[df_pivot['Batch 1'].isna() & ~df_pivot['Batch 2'].isna()]['Batch 1'].fillna(1).sum()\n",
      "/var/folders/1y/6byzw1px62g2f5w7p_rhb6kh0000gn/T/ipykernel_84679/646296465.py:32: FutureWarning: Downcasting object dtype arrays on .fillna, .ffill, .bfill is deprecated and will change in a future version. Call result.infer_objects(copy=False) instead. To opt-in to the future behavior, set `pd.set_option('future.no_silent_downcasting', True)`\n",
      "  count_given_missing = df_pivot[~df_pivot['Batch 1'].isna() & df_pivot['Batch 2'].isna()]['Batch 2'].fillna(1).sum()\n"
     ]
    },
    {
     "name": "stdout",
     "output_type": "stream",
     "text": [
      "Count of same topic: 9\n",
      "Count of both missing: 11\n",
      "Count of missing in one batch, but feedback in the other: 3\n"
     ]
    },
    {
     "data": {
      "text/plain": [
       "<Figure size 1000x380 with 1 Axes>"
      ],
      "image/png": "[encoded data removed]"
     },
     "metadata": {},
     "output_type": "display_data"
    }
   ],
   "execution_count": 60
  },
  {
   "cell_type": "code",
   "source": [
    "generate_dominant_topic_plot(pd.read_csv('../data/dominant_topics_readability.csv'), 'Readability')"
   ],
   "metadata": {
    "collapsed": false,
    "ExecuteTime": {
     "end_time": "2025-03-04T18:29:07.840480Z",
     "start_time": "2025-03-04T18:29:07.509991Z"
    }
   },
   "id": "7ed720e2eafdac4a",
   "outputs": [
    {
     "name": "stderr",
     "output_type": "stream",
     "text": [
      "/var/folders/1y/6byzw1px62g2f5w7p_rhb6kh0000gn/T/ipykernel_84679/646296465.py:4: SettingWithCopyWarning: \n",
      "A value is trying to be set on a copy of a slice from a DataFrame.\n",
      "Try using .loc[row_indexer,col_indexer] = value instead\n",
      "\n",
      "See the caveats in the documentation: https://pandas.pydata.org/pandas-docs/stable/user_guide/indexing.html#returning-a-view-versus-a-copy\n",
      "  df['batch'] = df['batch'].apply(lambda x: 'Batch ' + str(x))\n",
      "/var/folders/1y/6byzw1px62g2f5w7p_rhb6kh0000gn/T/ipykernel_84679/646296465.py:12: UserWarning: The palette list has more values (4) than needed (2), which may not be intended.\n",
      "  g = sns.scatterplot(df, y='batch', x='participant_id', hue='Dominant_Topic', s=200, marker='s', palette=sns.color_palette([blue, darkgreen, grey, yellow]))\n",
      "/var/folders/1y/6byzw1px62g2f5w7p_rhb6kh0000gn/T/ipykernel_84679/646296465.py:30: FutureWarning: Downcasting object dtype arrays on .fillna, .ffill, .bfill is deprecated and will change in a future version. Call result.infer_objects(copy=False) instead. To opt-in to the future behavior, set `pd.set_option('future.no_silent_downcasting', True)`\n",
      "  print(f\"Count of both missing: {df_pivot[df_pivot['Batch 1'].isna() & df_pivot['Batch 2'].isna()]['Batch 1'].fillna(1).sum()}\")\n",
      "/var/folders/1y/6byzw1px62g2f5w7p_rhb6kh0000gn/T/ipykernel_84679/646296465.py:32: FutureWarning: Downcasting object dtype arrays on .fillna, .ffill, .bfill is deprecated and will change in a future version. Call result.infer_objects(copy=False) instead. To opt-in to the future behavior, set `pd.set_option('future.no_silent_downcasting', True)`\n",
      "  count_given_missing = df_pivot[~df_pivot['Batch 1'].isna() & df_pivot['Batch 2'].isna()]['Batch 2'].fillna(1).sum()\n"
     ]
    },
    {
     "name": "stdout",
     "output_type": "stream",
     "text": [
      "Count of same topic: 8\n",
      "Count of both missing: 11\n",
      "Count of missing in one batch, but feedback in the other: 2\n"
     ]
    },
    {
     "data": {
      "text/plain": [
       "<Figure size 1000x380 with 1 Axes>"
      ],
      "image/png": "[encoded data removed]"
     },
     "metadata": {},
     "output_type": "display_data"
    }
   ],
   "execution_count": 61
  },
  {
   "cell_type": "code",
   "source": [
    "generate_dominant_topic_plot(pd.read_csv('../data/dominant_topics_documentation.csv'), 'Documentation')"
   ],
   "metadata": {
    "collapsed": false,
    "ExecuteTime": {
     "end_time": "2025-03-04T18:29:11.285753Z",
     "start_time": "2025-03-04T18:29:10.864251Z"
    }
   },
   "id": "2c9bd3f24c293727",
   "outputs": [
    {
     "name": "stderr",
     "output_type": "stream",
     "text": [
      "/var/folders/1y/6byzw1px62g2f5w7p_rhb6kh0000gn/T/ipykernel_84679/646296465.py:4: SettingWithCopyWarning: \n",
      "A value is trying to be set on a copy of a slice from a DataFrame.\n",
      "Try using .loc[row_indexer,col_indexer] = value instead\n",
      "\n",
      "See the caveats in the documentation: https://pandas.pydata.org/pandas-docs/stable/user_guide/indexing.html#returning-a-view-versus-a-copy\n",
      "  df['batch'] = df['batch'].apply(lambda x: 'Batch ' + str(x))\n",
      "/var/folders/1y/6byzw1px62g2f5w7p_rhb6kh0000gn/T/ipykernel_84679/646296465.py:12: UserWarning: The palette list has more values (4) than needed (2), which may not be intended.\n",
      "  g = sns.scatterplot(df, y='batch', x='participant_id', hue='Dominant_Topic', s=200, marker='s', palette=sns.color_palette([blue, darkgreen, grey, yellow]))\n"
     ]
    },
    {
     "name": "stdout",
     "output_type": "stream",
     "text": [
      "Count of same topic: 10\n",
      "Count of both missing: 10\n",
      "Count of missing in one batch, but feedback in the other: 1\n"
     ]
    },
    {
     "name": "stderr",
     "output_type": "stream",
     "text": [
      "/var/folders/1y/6byzw1px62g2f5w7p_rhb6kh0000gn/T/ipykernel_84679/646296465.py:30: FutureWarning: Downcasting object dtype arrays on .fillna, .ffill, .bfill is deprecated and will change in a future version. Call result.infer_objects(copy=False) instead. To opt-in to the future behavior, set `pd.set_option('future.no_silent_downcasting', True)`\n",
      "  print(f\"Count of both missing: {df_pivot[df_pivot['Batch 1'].isna() & df_pivot['Batch 2'].isna()]['Batch 1'].fillna(1).sum()}\")\n",
      "/var/folders/1y/6byzw1px62g2f5w7p_rhb6kh0000gn/T/ipykernel_84679/646296465.py:31: FutureWarning: Downcasting object dtype arrays on .fillna, .ffill, .bfill is deprecated and will change in a future version. Call result.infer_objects(copy=False) instead. To opt-in to the future behavior, set `pd.set_option('future.no_silent_downcasting', True)`\n",
      "  count_missing_given = df_pivot[df_pivot['Batch 1'].isna() & ~df_pivot['Batch 2'].isna()]['Batch 1'].fillna(1).sum()\n"
     ]
    },
    {
     "data": {
      "text/plain": [
       "<Figure size 1000x380 with 1 Axes>"
      ],
      "image/png": "[encoded data removed]"
     },
     "metadata": {},
     "output_type": "display_data"
    }
   ],
   "execution_count": 62
  },
  {
   "cell_type": "code",
   "source": [
    "sns.set(rc={'text.usetex': False})"
   ],
   "metadata": {
    "collapsed": false,
    "ExecuteTime": {
     "end_time": "2025-03-04T18:29:14.524688Z",
     "start_time": "2025-03-04T18:29:14.520836Z"
    }
   },
   "id": "c4413c0ae1a46523",
   "outputs": [],
   "execution_count": 63
  }
 ],
 "metadata": {
  "kernelspec": {
   "display_name": "Python 3",
   "language": "python",
   "name": "python3"
  },
  "language_info": {
   "codemirror_mode": {
    "name": "ipython",
    "version": 2
   },
   "file_extension": ".py",
   "mimetype": "text/x-python",
   "name": "python",
   "nbconvert_exporter": "python",
   "pygments_lexer": "ipython2",
   "version": "2.7.6"
  }
 },
 "nbformat": 4,
 "nbformat_minor": 5
}
