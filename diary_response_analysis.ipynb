{
 "cells": [
  {
   "cell_type": "code",
   "execution_count": 4,
   "id": "initial_id",
   "metadata": {
    "collapsed": true,
    "ExecuteTime": {
     "end_time": "2024-04-24T16:04:37.437511Z",
     "start_time": "2024-04-24T16:04:35.806216Z"
    }
   },
   "outputs": [],
   "source": [
    "import numpy as np\n",
    "import pandas as pd"
   ]
  },
  {
   "cell_type": "markdown",
   "source": [
    "# Diary Response Analysis"
   ],
   "metadata": {
    "collapsed": false
   },
   "id": "b679e093f1a7c48"
  },
  {
   "cell_type": "code",
   "outputs": [
    {
     "data": {
      "text/plain": "            start_date             end_date duration        recorded_date  \\\n0  2024-02-26 23:20:19  2024-02-26 23:22:01      102  2024-02-26 23:22:02   \n1  2024-02-27 00:51:44  2024-02-27 00:52:56       72  2024-02-27 00:52:57   \n2  2024-02-27 12:19:45  2024-02-27 12:21:57      131  2024-02-27 12:21:57   \n3  2024-02-27 22:13:28  2024-02-27 22:18:04      276  2024-02-27 22:18:04   \n4  2024-02-27 19:43:25  2024-02-27 23:18:59    12934  2024-02-27 23:18:59   \n\n  participant_id            q3_location         q4_environment q5_time_of_day  \\\n0             10    Postgraduate office     sitting in silence      Afternoon   \n1             24                at home     listening to music          Night   \n2             16  I did grading at home     Listening to music        Morning   \n3             10                   home     sitting in silence      Afternoon   \n4              6           Home on desk  Listening to podcasts          Night   \n\n  q6_time_taken q7_assignment_count                            q8_rushed_1  \\\n0           1.5                   4                                    NaN   \n1           2.5                   1  How rushed did you feel when grading?   \n2             1                   2  How rushed did you feel when grading?   \n3             3                   5                                    NaN   \n4             4                   5                                    NaN   \n\n                             q8_rushed_2  \\\n0                                    NaN   \n1                                    NaN   \n2                                    NaN   \n3  How rushed did you feel when grading?   \n4                                    NaN   \n\n                             q8_rushed_3  \\\n0  How rushed did you feel when grading?   \n1                                    NaN   \n2                                    NaN   \n3  How rushed did you feel when grading?   \n4                                    NaN   \n\n                             q8_rushed_4 q8_rushed_5  \\\n0                                    NaN         NaN   \n1                                    NaN         NaN   \n2                                    NaN         NaN   \n3                                    NaN         NaN   \n4  How rushed did you feel when grading?         NaN   \n\n                                         q9_comments  \n0                                     None currently  \n1                                                 No  \n2                   Software can be laggy some time.  \n3  One suggestion for future java coursework simi...  \n4  By default, there isn't a way to give a 100 fo...  ",
      "text/html": "<div>\n<style scoped>\n    .dataframe tbody tr th:only-of-type {\n        vertical-align: middle;\n    }\n\n    .dataframe tbody tr th {\n        vertical-align: top;\n    }\n\n    .dataframe thead th {\n        text-align: right;\n    }\n</style>\n<table border=\"1\" class=\"dataframe\">\n  <thead>\n    <tr style=\"text-align: right;\">\n      <th></th>\n      <th>start_date</th>\n      <th>end_date</th>\n      <th>duration</th>\n      <th>recorded_date</th>\n      <th>participant_id</th>\n      <th>q3_location</th>\n      <th>q4_environment</th>\n      <th>q5_time_of_day</th>\n      <th>q6_time_taken</th>\n      <th>q7_assignment_count</th>\n      <th>q8_rushed_1</th>\n      <th>q8_rushed_2</th>\n      <th>q8_rushed_3</th>\n      <th>q8_rushed_4</th>\n      <th>q8_rushed_5</th>\n      <th>q9_comments</th>\n    </tr>\n  </thead>\n  <tbody>\n    <tr>\n      <th>0</th>\n      <td>2024-02-26 23:20:19</td>\n      <td>2024-02-26 23:22:01</td>\n      <td>102</td>\n      <td>2024-02-26 23:22:02</td>\n      <td>10</td>\n      <td>Postgraduate office</td>\n      <td>sitting in silence</td>\n      <td>Afternoon</td>\n      <td>1.5</td>\n      <td>4</td>\n      <td>NaN</td>\n      <td>NaN</td>\n      <td>How rushed did you feel when grading?</td>\n      <td>NaN</td>\n      <td>NaN</td>\n      <td>None currently</td>\n    </tr>\n    <tr>\n      <th>1</th>\n      <td>2024-02-27 00:51:44</td>\n      <td>2024-02-27 00:52:56</td>\n      <td>72</td>\n      <td>2024-02-27 00:52:57</td>\n      <td>24</td>\n      <td>at home</td>\n      <td>listening to music</td>\n      <td>Night</td>\n      <td>2.5</td>\n      <td>1</td>\n      <td>How rushed did you feel when grading?</td>\n      <td>NaN</td>\n      <td>NaN</td>\n      <td>NaN</td>\n      <td>NaN</td>\n      <td>No</td>\n    </tr>\n    <tr>\n      <th>2</th>\n      <td>2024-02-27 12:19:45</td>\n      <td>2024-02-27 12:21:57</td>\n      <td>131</td>\n      <td>2024-02-27 12:21:57</td>\n      <td>16</td>\n      <td>I did grading at home</td>\n      <td>Listening to music</td>\n      <td>Morning</td>\n      <td>1</td>\n      <td>2</td>\n      <td>How rushed did you feel when grading?</td>\n      <td>NaN</td>\n      <td>NaN</td>\n      <td>NaN</td>\n      <td>NaN</td>\n      <td>Software can be laggy some time.</td>\n    </tr>\n    <tr>\n      <th>3</th>\n      <td>2024-02-27 22:13:28</td>\n      <td>2024-02-27 22:18:04</td>\n      <td>276</td>\n      <td>2024-02-27 22:18:04</td>\n      <td>10</td>\n      <td>home</td>\n      <td>sitting in silence</td>\n      <td>Afternoon</td>\n      <td>3</td>\n      <td>5</td>\n      <td>NaN</td>\n      <td>How rushed did you feel when grading?</td>\n      <td>How rushed did you feel when grading?</td>\n      <td>NaN</td>\n      <td>NaN</td>\n      <td>One suggestion for future java coursework simi...</td>\n    </tr>\n    <tr>\n      <th>4</th>\n      <td>2024-02-27 19:43:25</td>\n      <td>2024-02-27 23:18:59</td>\n      <td>12934</td>\n      <td>2024-02-27 23:18:59</td>\n      <td>6</td>\n      <td>Home on desk</td>\n      <td>Listening to podcasts</td>\n      <td>Night</td>\n      <td>4</td>\n      <td>5</td>\n      <td>NaN</td>\n      <td>NaN</td>\n      <td>NaN</td>\n      <td>How rushed did you feel when grading?</td>\n      <td>NaN</td>\n      <td>By default, there isn't a way to give a 100 fo...</td>\n    </tr>\n  </tbody>\n</table>\n</div>"
     },
     "execution_count": 9,
     "metadata": {},
     "output_type": "execute_result"
    }
   ],
   "source": [
    "responses_df = pd.read_csv('data/diary_responses.csv')\n",
    "responses_df.columns = ['start_date', 'end_date', 'status', 'progress', 'duration', 'finished', 'recorded_date', 'response_id', 'dist_channel',\n",
    "                        'user_lang', 'participant_id', 'q3_location', 'q4_environment', 'q5_time_of_day', 'q6_time_taken', 'q7_assignment_count', \n",
    "                        'q8_rushed_1', 'q8_rushed_2', 'q8_rushed_3', 'q8_rushed_4', 'q8_rushed_5', 'q9_comments']\n",
    "responses_df.drop(columns=['status', 'progress', 'finished', 'response_id', 'dist_channel', 'user_lang'], inplace=True)\n",
    "responses_df = responses_df.iloc[2:].reset_index(drop=True)\n",
    "responses_df.head()"
   ],
   "metadata": {
    "collapsed": false,
    "ExecuteTime": {
     "end_time": "2024-04-24T16:05:09.261302Z",
     "start_time": "2024-04-24T16:05:09.253087Z"
    }
   },
   "id": "418f9a8520d79a64",
   "execution_count": 9
  },
  {
   "cell_type": "markdown",
   "source": [
    "### Merge Q8 to one column"
   ],
   "metadata": {
    "collapsed": false
   },
   "id": "c7ff281e161c24e2"
  },
  {
   "cell_type": "code",
   "outputs": [
    {
     "data": {
      "text/plain": "0      3.0\n1      1.0\n2      1.0\n3      2.5\n4      4.0\n      ... \n169    2.5\n170    3.0\n171    4.0\n172    3.0\n173    2.0\nLength: 174, dtype: float64"
     },
     "execution_count": 35,
     "metadata": {},
     "output_type": "execute_result"
    }
   ],
   "source": [
    "# TODO: Discuss with NB what to do with responses that have clicked more than one answer...\n",
    "rushed_df = responses_df[['q8_rushed_1', 'q8_rushed_2', 'q8_rushed_3', 'q8_rushed_4', 'q8_rushed_5']].notnull().astype(int)\n",
    "rushed_df['check'] = rushed_df.sum(axis=1)\n",
    "rushed_df['q8_rushed_2'] = rushed_df['q8_rushed_2'].replace(1, 2)\n",
    "rushed_df['q8_rushed_3'] = rushed_df['q8_rushed_3'].replace(1, 3)\n",
    "rushed_df['q8_rushed_4'] = rushed_df['q8_rushed_4'].replace(1, 4)\n",
    "rushed_df['q8_rushed_5'] = rushed_df['q8_rushed_5'].replace(1, 5)\n",
    "rushed_df = rushed_df.replace(0, np.nan)\n",
    "rushed_col = rushed_df[['q8_rushed_1', 'q8_rushed_2', 'q8_rushed_3', 'q8_rushed_4', 'q8_rushed_5']].median(axis=1)\n",
    "# rushed_col = rushed_df['q8_rushed_1'].combine_first(rushed_df['q8_rushed_2'])\n",
    "# rushed_col = rushed_col.combine_first(rushed_df['q8_rushed_3'])\n",
    "# rushed_col = rushed_col.combine_first(rushed_df['q8_rushed_4'])\n",
    "# rushed_col = rushed_col.combine_first(rushed_df['q8_rushed_5'])\n",
    "rushed_col"
   ],
   "metadata": {
    "collapsed": false,
    "ExecuteTime": {
     "end_time": "2024-04-24T19:29:07.906152Z",
     "start_time": "2024-04-24T19:29:07.896152Z"
    }
   },
   "id": "542191c239631216",
   "execution_count": 35
  },
  {
   "cell_type": "code",
   "outputs": [
    {
     "data": {
      "text/plain": "              start_date             end_date duration        recorded_date  \\\n0    2024-02-26 23:20:19  2024-02-26 23:22:01      102  2024-02-26 23:22:02   \n1    2024-02-27 00:51:44  2024-02-27 00:52:56       72  2024-02-27 00:52:57   \n2    2024-02-27 12:19:45  2024-02-27 12:21:57      131  2024-02-27 12:21:57   \n3    2024-02-27 22:13:28  2024-02-27 22:18:04      276  2024-02-27 22:18:04   \n4    2024-02-27 19:43:25  2024-02-27 23:18:59    12934  2024-02-27 23:18:59   \n..                   ...                  ...      ...                  ...   \n169  2024-04-11 18:21:56  2024-04-11 18:22:18       22  2024-04-11 18:22:19   \n170  2024-04-11 21:24:47  2024-04-11 21:25:34       47  2024-04-11 21:25:35   \n171  2024-04-11 21:25:38  2024-04-11 21:26:52       74  2024-04-11 21:26:53   \n172  2024-04-12 10:31:55  2024-04-12 10:33:09       73  2024-04-12 10:33:09   \n173  2024-04-12 16:41:24  2024-04-12 16:41:36       12  2024-04-12 16:41:37   \n\n    participant_id                               q3_location  \\\n0               10                       Postgraduate office   \n1               24                                   at home   \n2               16                     I did grading at home   \n3               10                                      home   \n4                6                              Home on desk   \n..             ...                                       ...   \n169             22                                      Home   \n170             18                        In my room at home   \n171             18  In a cinema room at my uni accommodation   \n172             18           At home in front of my computer   \n173             22                                      Home   \n\n                                     q4_environment q5_time_of_day  \\\n0                                sitting in silence      Afternoon   \n1                                listening to music          Night   \n2                                Listening to music        Morning   \n3                                sitting in silence      Afternoon   \n4                             Listening to podcasts          Night   \n..                                              ...            ...   \n169                                        Silenece        Evening   \n170                        Listening to lo-fi music        Morning   \n171      Watching TV, but not in a loud environment        Evening   \n172  Listening to lo-fi music in a cosy environment        Morning   \n173                                         Silence      Afternoon   \n\n    q6_time_taken q7_assignment_count  \\\n0             1.5                   4   \n1             2.5                   1   \n2               1                   2   \n3               3                   5   \n4               4                   5   \n..            ...                 ...   \n169           0.5                   2   \n170           1.5                   6   \n171          0.75                   3   \n172          0.75                   3   \n173             1                   2   \n\n                                           q9_comments  q8_rushed  \n0                                       None currently        3.0  \n1                                                   No        1.0  \n2                     Software can be laggy some time.        1.0  \n3    One suggestion for future java coursework simi...        2.5  \n4    By default, there isn't a way to give a 100 fo...        4.0  \n..                                                 ...        ...  \n169                                                NaN        2.5  \n170  It started to feel natural to mark the assignm...        3.0  \n171  Because I was in a cinema room, it felt a bit ...        4.0  \n172  This was the last batch I marked, and I tried ...        3.0  \n173                                                NaN        2.0  \n\n[174 rows x 12 columns]",
      "text/html": "<div>\n<style scoped>\n    .dataframe tbody tr th:only-of-type {\n        vertical-align: middle;\n    }\n\n    .dataframe tbody tr th {\n        vertical-align: top;\n    }\n\n    .dataframe thead th {\n        text-align: right;\n    }\n</style>\n<table border=\"1\" class=\"dataframe\">\n  <thead>\n    <tr style=\"text-align: right;\">\n      <th></th>\n      <th>start_date</th>\n      <th>end_date</th>\n      <th>duration</th>\n      <th>recorded_date</th>\n      <th>participant_id</th>\n      <th>q3_location</th>\n      <th>q4_environment</th>\n      <th>q5_time_of_day</th>\n      <th>q6_time_taken</th>\n      <th>q7_assignment_count</th>\n      <th>q9_comments</th>\n      <th>q8_rushed</th>\n    </tr>\n  </thead>\n  <tbody>\n    <tr>\n      <th>0</th>\n      <td>2024-02-26 23:20:19</td>\n      <td>2024-02-26 23:22:01</td>\n      <td>102</td>\n      <td>2024-02-26 23:22:02</td>\n      <td>10</td>\n      <td>Postgraduate office</td>\n      <td>sitting in silence</td>\n      <td>Afternoon</td>\n      <td>1.5</td>\n      <td>4</td>\n      <td>None currently</td>\n      <td>3.0</td>\n    </tr>\n    <tr>\n      <th>1</th>\n      <td>2024-02-27 00:51:44</td>\n      <td>2024-02-27 00:52:56</td>\n      <td>72</td>\n      <td>2024-02-27 00:52:57</td>\n      <td>24</td>\n      <td>at home</td>\n      <td>listening to music</td>\n      <td>Night</td>\n      <td>2.5</td>\n      <td>1</td>\n      <td>No</td>\n      <td>1.0</td>\n    </tr>\n    <tr>\n      <th>2</th>\n      <td>2024-02-27 12:19:45</td>\n      <td>2024-02-27 12:21:57</td>\n      <td>131</td>\n      <td>2024-02-27 12:21:57</td>\n      <td>16</td>\n      <td>I did grading at home</td>\n      <td>Listening to music</td>\n      <td>Morning</td>\n      <td>1</td>\n      <td>2</td>\n      <td>Software can be laggy some time.</td>\n      <td>1.0</td>\n    </tr>\n    <tr>\n      <th>3</th>\n      <td>2024-02-27 22:13:28</td>\n      <td>2024-02-27 22:18:04</td>\n      <td>276</td>\n      <td>2024-02-27 22:18:04</td>\n      <td>10</td>\n      <td>home</td>\n      <td>sitting in silence</td>\n      <td>Afternoon</td>\n      <td>3</td>\n      <td>5</td>\n      <td>One suggestion for future java coursework simi...</td>\n      <td>2.5</td>\n    </tr>\n    <tr>\n      <th>4</th>\n      <td>2024-02-27 19:43:25</td>\n      <td>2024-02-27 23:18:59</td>\n      <td>12934</td>\n      <td>2024-02-27 23:18:59</td>\n      <td>6</td>\n      <td>Home on desk</td>\n      <td>Listening to podcasts</td>\n      <td>Night</td>\n      <td>4</td>\n      <td>5</td>\n      <td>By default, there isn't a way to give a 100 fo...</td>\n      <td>4.0</td>\n    </tr>\n    <tr>\n      <th>...</th>\n      <td>...</td>\n      <td>...</td>\n      <td>...</td>\n      <td>...</td>\n      <td>...</td>\n      <td>...</td>\n      <td>...</td>\n      <td>...</td>\n      <td>...</td>\n      <td>...</td>\n      <td>...</td>\n      <td>...</td>\n    </tr>\n    <tr>\n      <th>169</th>\n      <td>2024-04-11 18:21:56</td>\n      <td>2024-04-11 18:22:18</td>\n      <td>22</td>\n      <td>2024-04-11 18:22:19</td>\n      <td>22</td>\n      <td>Home</td>\n      <td>Silenece</td>\n      <td>Evening</td>\n      <td>0.5</td>\n      <td>2</td>\n      <td>NaN</td>\n      <td>2.5</td>\n    </tr>\n    <tr>\n      <th>170</th>\n      <td>2024-04-11 21:24:47</td>\n      <td>2024-04-11 21:25:34</td>\n      <td>47</td>\n      <td>2024-04-11 21:25:35</td>\n      <td>18</td>\n      <td>In my room at home</td>\n      <td>Listening to lo-fi music</td>\n      <td>Morning</td>\n      <td>1.5</td>\n      <td>6</td>\n      <td>It started to feel natural to mark the assignm...</td>\n      <td>3.0</td>\n    </tr>\n    <tr>\n      <th>171</th>\n      <td>2024-04-11 21:25:38</td>\n      <td>2024-04-11 21:26:52</td>\n      <td>74</td>\n      <td>2024-04-11 21:26:53</td>\n      <td>18</td>\n      <td>In a cinema room at my uni accommodation</td>\n      <td>Watching TV, but not in a loud environment</td>\n      <td>Evening</td>\n      <td>0.75</td>\n      <td>3</td>\n      <td>Because I was in a cinema room, it felt a bit ...</td>\n      <td>4.0</td>\n    </tr>\n    <tr>\n      <th>172</th>\n      <td>2024-04-12 10:31:55</td>\n      <td>2024-04-12 10:33:09</td>\n      <td>73</td>\n      <td>2024-04-12 10:33:09</td>\n      <td>18</td>\n      <td>At home in front of my computer</td>\n      <td>Listening to lo-fi music in a cosy environment</td>\n      <td>Morning</td>\n      <td>0.75</td>\n      <td>3</td>\n      <td>This was the last batch I marked, and I tried ...</td>\n      <td>3.0</td>\n    </tr>\n    <tr>\n      <th>173</th>\n      <td>2024-04-12 16:41:24</td>\n      <td>2024-04-12 16:41:36</td>\n      <td>12</td>\n      <td>2024-04-12 16:41:37</td>\n      <td>22</td>\n      <td>Home</td>\n      <td>Silence</td>\n      <td>Afternoon</td>\n      <td>1</td>\n      <td>2</td>\n      <td>NaN</td>\n      <td>2.0</td>\n    </tr>\n  </tbody>\n</table>\n<p>174 rows × 12 columns</p>\n</div>"
     },
     "execution_count": 36,
     "metadata": {},
     "output_type": "execute_result"
    }
   ],
   "source": [
    "responses_df['q8_rushed'] = rushed_col\n",
    "responses_df.drop(columns=['q8_rushed_1', 'q8_rushed_2', 'q8_rushed_3', 'q8_rushed_4', 'q8_rushed_5'], inplace=True)\n",
    "responses_df"
   ],
   "metadata": {
    "collapsed": false,
    "ExecuteTime": {
     "end_time": "2024-04-24T19:29:53.642493Z",
     "start_time": "2024-04-24T19:29:53.631774Z"
    }
   },
   "id": "33e9b22fae40b609",
   "execution_count": 36
  }
 ],
 "metadata": {
  "kernelspec": {
   "display_name": "Python 3",
   "language": "python",
   "name": "python3"
  },
  "language_info": {
   "codemirror_mode": {
    "name": "ipython",
    "version": 2
   },
   "file_extension": ".py",
   "mimetype": "text/x-python",
   "name": "python",
   "nbconvert_exporter": "python",
   "pygments_lexer": "ipython2",
   "version": "2.7.6"
  }
 },
 "nbformat": 4,
 "nbformat_minor": 5
}
