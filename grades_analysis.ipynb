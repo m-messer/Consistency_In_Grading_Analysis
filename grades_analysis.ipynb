{
 "cells": [
  {
   "cell_type": "code",
   "execution_count": 139,
   "id": "initial_id",
   "metadata": {
    "collapsed": true,
    "ExecuteTime": {
     "end_time": "2024-05-08T16:18:16.412148Z",
     "start_time": "2024-05-08T16:18:16.409848Z"
    }
   },
   "outputs": [],
   "source": [
    "import pandas as pd\n",
    "import seaborn as sns\n",
    "from statsmodels.stats.inter_rater import fleiss_kappa, aggregate_raters"
   ]
  },
  {
   "cell_type": "markdown",
   "source": [
    "# Grade Analysis"
   ],
   "metadata": {
    "collapsed": false
   },
   "id": "cdb8b257c38e6f4b"
  },
  {
   "cell_type": "code",
   "outputs": [
    {
     "data": {
      "text/plain": "    assignment_number                                           comments  \\\n0                18.0  The code use meaningful identifier names and a...   \n1               620.0  Code is well organized into logical classes an...   \n2               466.0  The code is well-organized, consistently inden...   \n3               591.0  The code is well organized and readable. Inden...   \n4               587.0  The code is well organized and readable. Inden...   \n..                ...                                                ...   \n15               58.0                                                NaN   \n16              353.0                                                NaN   \n17              422.0                                                NaN   \n18              480.0                                                NaN   \n19              334.0                                                NaN   \n\n            skill  participant_id  batch grade  \n0     Readability              15      1    B+  \n1     Readability              15      1    A+  \n2     Readability              15      1    A-  \n3     Readability              15      1    A-  \n4     Readability              15      1    A-  \n..            ...             ...    ...   ...  \n15  Documentation              14      1   A++  \n16  Documentation              14      1   A++  \n17  Documentation              14      1   A++  \n18  Documentation              14      1   A++  \n19  Documentation              14      1    A+  \n\n[4480 rows x 6 columns]",
      "text/html": "<div>\n<style scoped>\n    .dataframe tbody tr th:only-of-type {\n        vertical-align: middle;\n    }\n\n    .dataframe tbody tr th {\n        vertical-align: top;\n    }\n\n    .dataframe thead th {\n        text-align: right;\n    }\n</style>\n<table border=\"1\" class=\"dataframe\">\n  <thead>\n    <tr style=\"text-align: right;\">\n      <th></th>\n      <th>assignment_number</th>\n      <th>comments</th>\n      <th>skill</th>\n      <th>participant_id</th>\n      <th>batch</th>\n      <th>grade</th>\n    </tr>\n  </thead>\n  <tbody>\n    <tr>\n      <th>0</th>\n      <td>18.0</td>\n      <td>The code use meaningful identifier names and a...</td>\n      <td>Readability</td>\n      <td>15</td>\n      <td>1</td>\n      <td>B+</td>\n    </tr>\n    <tr>\n      <th>1</th>\n      <td>620.0</td>\n      <td>Code is well organized into logical classes an...</td>\n      <td>Readability</td>\n      <td>15</td>\n      <td>1</td>\n      <td>A+</td>\n    </tr>\n    <tr>\n      <th>2</th>\n      <td>466.0</td>\n      <td>The code is well-organized, consistently inden...</td>\n      <td>Readability</td>\n      <td>15</td>\n      <td>1</td>\n      <td>A-</td>\n    </tr>\n    <tr>\n      <th>3</th>\n      <td>591.0</td>\n      <td>The code is well organized and readable. Inden...</td>\n      <td>Readability</td>\n      <td>15</td>\n      <td>1</td>\n      <td>A-</td>\n    </tr>\n    <tr>\n      <th>4</th>\n      <td>587.0</td>\n      <td>The code is well organized and readable. Inden...</td>\n      <td>Readability</td>\n      <td>15</td>\n      <td>1</td>\n      <td>A-</td>\n    </tr>\n    <tr>\n      <th>...</th>\n      <td>...</td>\n      <td>...</td>\n      <td>...</td>\n      <td>...</td>\n      <td>...</td>\n      <td>...</td>\n    </tr>\n    <tr>\n      <th>15</th>\n      <td>58.0</td>\n      <td>NaN</td>\n      <td>Documentation</td>\n      <td>14</td>\n      <td>1</td>\n      <td>A++</td>\n    </tr>\n    <tr>\n      <th>16</th>\n      <td>353.0</td>\n      <td>NaN</td>\n      <td>Documentation</td>\n      <td>14</td>\n      <td>1</td>\n      <td>A++</td>\n    </tr>\n    <tr>\n      <th>17</th>\n      <td>422.0</td>\n      <td>NaN</td>\n      <td>Documentation</td>\n      <td>14</td>\n      <td>1</td>\n      <td>A++</td>\n    </tr>\n    <tr>\n      <th>18</th>\n      <td>480.0</td>\n      <td>NaN</td>\n      <td>Documentation</td>\n      <td>14</td>\n      <td>1</td>\n      <td>A++</td>\n    </tr>\n    <tr>\n      <th>19</th>\n      <td>334.0</td>\n      <td>NaN</td>\n      <td>Documentation</td>\n      <td>14</td>\n      <td>1</td>\n      <td>A+</td>\n    </tr>\n  </tbody>\n</table>\n<p>4480 rows × 6 columns</p>\n</div>"
     },
     "execution_count": 140,
     "metadata": {},
     "output_type": "execute_result"
    }
   ],
   "source": [
    "grade_df = pd.read_csv('Menagerie/data/grades.csv', index_col=0)\n",
    "grade_df"
   ],
   "metadata": {
    "collapsed": false,
    "ExecuteTime": {
     "end_time": "2024-05-08T16:18:16.425672Z",
     "start_time": "2024-05-08T16:18:16.413727Z"
    }
   },
   "id": "c69e63909be6a18",
   "execution_count": 140
  },
  {
   "cell_type": "code",
   "outputs": [
    {
     "data": {
      "text/plain": "    assignment_number                                           comments  \\\n0                18.0  The code use meaningful identifier names and a...   \n1               620.0  Code is well organized into logical classes an...   \n2               466.0  The code is well-organized, consistently inden...   \n3               591.0  The code is well organized and readable. Inden...   \n4               587.0  The code is well organized and readable. Inden...   \n..                ...                                                ...   \n15               58.0                                                NaN   \n16              353.0                                                NaN   \n17              422.0                                                NaN   \n18              480.0                                                NaN   \n19              334.0                                                NaN   \n\n            skill  participant_id  batch grade  \n0     Readability              15      1    B+  \n1     Readability              15      1    A+  \n2     Readability              15      1    A-  \n3     Readability              15      1    A-  \n4     Readability              15      1    A-  \n..            ...             ...    ...   ...  \n15  Documentation              14      1   A++  \n16  Documentation              14      1   A++  \n17  Documentation              14      1   A++  \n18  Documentation              14      1   A++  \n19  Documentation              14      1    A+  \n\n[4474 rows x 6 columns]",
      "text/html": "<div>\n<style scoped>\n    .dataframe tbody tr th:only-of-type {\n        vertical-align: middle;\n    }\n\n    .dataframe tbody tr th {\n        vertical-align: top;\n    }\n\n    .dataframe thead th {\n        text-align: right;\n    }\n</style>\n<table border=\"1\" class=\"dataframe\">\n  <thead>\n    <tr style=\"text-align: right;\">\n      <th></th>\n      <th>assignment_number</th>\n      <th>comments</th>\n      <th>skill</th>\n      <th>participant_id</th>\n      <th>batch</th>\n      <th>grade</th>\n    </tr>\n  </thead>\n  <tbody>\n    <tr>\n      <th>0</th>\n      <td>18.0</td>\n      <td>The code use meaningful identifier names and a...</td>\n      <td>Readability</td>\n      <td>15</td>\n      <td>1</td>\n      <td>B+</td>\n    </tr>\n    <tr>\n      <th>1</th>\n      <td>620.0</td>\n      <td>Code is well organized into logical classes an...</td>\n      <td>Readability</td>\n      <td>15</td>\n      <td>1</td>\n      <td>A+</td>\n    </tr>\n    <tr>\n      <th>2</th>\n      <td>466.0</td>\n      <td>The code is well-organized, consistently inden...</td>\n      <td>Readability</td>\n      <td>15</td>\n      <td>1</td>\n      <td>A-</td>\n    </tr>\n    <tr>\n      <th>3</th>\n      <td>591.0</td>\n      <td>The code is well organized and readable. Inden...</td>\n      <td>Readability</td>\n      <td>15</td>\n      <td>1</td>\n      <td>A-</td>\n    </tr>\n    <tr>\n      <th>4</th>\n      <td>587.0</td>\n      <td>The code is well organized and readable. Inden...</td>\n      <td>Readability</td>\n      <td>15</td>\n      <td>1</td>\n      <td>A-</td>\n    </tr>\n    <tr>\n      <th>...</th>\n      <td>...</td>\n      <td>...</td>\n      <td>...</td>\n      <td>...</td>\n      <td>...</td>\n      <td>...</td>\n    </tr>\n    <tr>\n      <th>15</th>\n      <td>58.0</td>\n      <td>NaN</td>\n      <td>Documentation</td>\n      <td>14</td>\n      <td>1</td>\n      <td>A++</td>\n    </tr>\n    <tr>\n      <th>16</th>\n      <td>353.0</td>\n      <td>NaN</td>\n      <td>Documentation</td>\n      <td>14</td>\n      <td>1</td>\n      <td>A++</td>\n    </tr>\n    <tr>\n      <th>17</th>\n      <td>422.0</td>\n      <td>NaN</td>\n      <td>Documentation</td>\n      <td>14</td>\n      <td>1</td>\n      <td>A++</td>\n    </tr>\n    <tr>\n      <th>18</th>\n      <td>480.0</td>\n      <td>NaN</td>\n      <td>Documentation</td>\n      <td>14</td>\n      <td>1</td>\n      <td>A++</td>\n    </tr>\n    <tr>\n      <th>19</th>\n      <td>334.0</td>\n      <td>NaN</td>\n      <td>Documentation</td>\n      <td>14</td>\n      <td>1</td>\n      <td>A+</td>\n    </tr>\n  </tbody>\n</table>\n<p>4474 rows × 6 columns</p>\n</div>"
     },
     "execution_count": 147,
     "metadata": {},
     "output_type": "execute_result"
    }
   ],
   "source": [
    "grade_df = grade_df[~grade_df['grade'].isnull()]\n",
    "grade_df"
   ],
   "metadata": {
    "collapsed": false,
    "ExecuteTime": {
     "end_time": "2024-05-08T16:18:52.494712Z",
     "start_time": "2024-05-08T16:18:52.487478Z"
    }
   },
   "id": "5f54f966724e7f43",
   "execution_count": 147
  },
  {
   "cell_type": "markdown",
   "source": [
    "## Inter-Rater Analysis"
   ],
   "metadata": {
    "collapsed": false
   },
   "id": "ee29e8afcff20345"
  },
  {
   "cell_type": "code",
   "outputs": [
    {
     "data": {
      "text/plain": "   participant_id  assignment_number grade\n4              21              105.0    A+\n8              21              105.0    A+\n4              22              105.0     A\n8              22              105.0     A\n4              23              105.0     B\n8              23              105.0    C-\n4              24              105.0    D+\n8              24              105.0    B-",
      "text/html": "<div>\n<style scoped>\n    .dataframe tbody tr th:only-of-type {\n        vertical-align: middle;\n    }\n\n    .dataframe tbody tr th {\n        vertical-align: top;\n    }\n\n    .dataframe thead th {\n        text-align: right;\n    }\n</style>\n<table border=\"1\" class=\"dataframe\">\n  <thead>\n    <tr style=\"text-align: right;\">\n      <th></th>\n      <th>participant_id</th>\n      <th>assignment_number</th>\n      <th>grade</th>\n    </tr>\n  </thead>\n  <tbody>\n    <tr>\n      <th>4</th>\n      <td>21</td>\n      <td>105.0</td>\n      <td>A+</td>\n    </tr>\n    <tr>\n      <th>8</th>\n      <td>21</td>\n      <td>105.0</td>\n      <td>A+</td>\n    </tr>\n    <tr>\n      <th>4</th>\n      <td>22</td>\n      <td>105.0</td>\n      <td>A</td>\n    </tr>\n    <tr>\n      <th>8</th>\n      <td>22</td>\n      <td>105.0</td>\n      <td>A</td>\n    </tr>\n    <tr>\n      <th>4</th>\n      <td>23</td>\n      <td>105.0</td>\n      <td>B</td>\n    </tr>\n    <tr>\n      <th>8</th>\n      <td>23</td>\n      <td>105.0</td>\n      <td>C-</td>\n    </tr>\n    <tr>\n      <th>4</th>\n      <td>24</td>\n      <td>105.0</td>\n      <td>D+</td>\n    </tr>\n    <tr>\n      <th>8</th>\n      <td>24</td>\n      <td>105.0</td>\n      <td>B-</td>\n    </tr>\n  </tbody>\n</table>\n</div>"
     },
     "execution_count": 148,
     "metadata": {},
     "output_type": "execute_result"
    }
   ],
   "source": [
    "# TODO Discuss with Neil what to do with this mistake\n",
    "# 105 duplicated accidentally between the two batches... in additional to the purposeful duplication.\n",
    "skill_df = grade_df[grade_df['skill'] == 'Readability'][['participant_id', 'assignment_number', 'grade']]\n",
    "group_df = skill_df[skill_df['participant_id'].isin([21, 22, 23, 24])].sort_values(by='participant_id')\n",
    "group_df[group_df['assignment_number'] == 105]\n",
    "# pivot = group_df.pivot(index='assignment_number', columns='participant_id', values='grade')"
   ],
   "metadata": {
    "collapsed": false,
    "ExecuteTime": {
     "end_time": "2024-05-08T16:18:55.364115Z",
     "start_time": "2024-05-08T16:18:55.352829Z"
    }
   },
   "id": "a0d09ee1a7fc7945",
   "execution_count": 148
  },
  {
   "cell_type": "code",
   "outputs": [],
   "source": [
    "def calculate_fleiss_kappa(skill, participant_list):\n",
    "    skill_df = grade_df[grade_df['skill'] == skill][['participant_id', 'assignment_number', 'grade']]\n",
    "    group_df = skill_df[skill_df['participant_id'].isin(participant_list)].sort_values(by='participant_id')\n",
    "    pivot = group_df.pivot(index='assignment_number', columns='participant_id', values='grade')\n",
    "    if any(pivot.isna().any(axis=1)):\n",
    "        print('Missing Grade: ', pivot[pivot.isna().any(axis=1)])\n",
    "        pivot.dropna(inplace=True)\n",
    "  \n",
    "    return fleiss_kappa(aggregate_raters(pivot)[0], 'fleiss')"
   ],
   "metadata": {
    "collapsed": false,
    "ExecuteTime": {
     "end_time": "2024-05-08T16:31:23.037576Z",
     "start_time": "2024-05-08T16:31:23.032895Z"
    }
   },
   "id": "7ce7de53ce2e7e96",
   "execution_count": 175
  },
  {
   "cell_type": "code",
   "outputs": [
    {
     "name": "stdout",
     "output_type": "stream",
     "text": [
      "Missing Grade:  participant_id      13  14  15 16\n",
      "assignment_number                \n",
      "306.0              NaN  A+  B+  A\n",
      "Error duplicate entries check data for:  [21, 22, 23, 24]\n"
     ]
    },
    {
     "data": {
      "text/plain": "[0.042672741078208086,\n -0.024103909079555397,\n 0.0034396207120944264,\n 0.041807014067762986,\n 0.11335983616431755,\n 0.0464963981663392]"
     },
     "execution_count": 177,
     "metadata": {},
     "output_type": "execute_result"
    }
   ],
   "source": [
    "correctness_fleiss_scores = []\n",
    "for i in range(1, 28, 4):\n",
    "    try:\n",
    "        correctness_fleiss_scores.append(\n",
    "            calculate_fleiss_kappa('Correctness', list(range(i, i + 4))))\n",
    "    except ValueError:\n",
    "        print('Error duplicate entries check data for: ', list(range(i, i +4)))\n",
    "\n",
    "correctness_fleiss_scores"
   ],
   "metadata": {
    "collapsed": false,
    "ExecuteTime": {
     "end_time": "2024-05-08T16:31:29.272488Z",
     "start_time": "2024-05-08T16:31:29.251795Z"
    }
   },
   "id": "d9a2554178d85f25",
   "execution_count": 177
  },
  {
   "cell_type": "code",
   "outputs": [
    {
     "name": "stdout",
     "output_type": "stream",
     "text": [
      "Error duplicate entries check data for:  [21, 22, 23, 24]\n"
     ]
    },
    {
     "data": {
      "text/plain": "[-0.0028740903809698452,\n -0.07043300501765469,\n -0.06931542965756152,\n -0.057512084443129115,\n -0.010287685578759318,\n 0.07704985578903992]"
     },
     "execution_count": 145,
     "metadata": {},
     "output_type": "execute_result"
    }
   ],
   "source": [
    "readability_fleiss_scores = []\n",
    "for i in range(1, 28, 4):\n",
    "    try:\n",
    "        readability_fleiss_scores.append(\n",
    "            calculate_fleiss_kappa('Readability', list(range(i, i + 4))))\n",
    "    except ValueError:\n",
    "        print('Error duplicate entries check data for: ', list(range(i, i +4)))\n",
    "    \n",
    "readability_fleiss_scores"
   ],
   "metadata": {
    "collapsed": false,
    "ExecuteTime": {
     "end_time": "2024-05-08T16:18:20.479582Z",
     "start_time": "2024-05-08T16:18:20.454171Z"
    }
   },
   "id": "a0fe5934b9d9929d",
   "execution_count": 145
  },
  {
   "cell_type": "code",
   "outputs": [
    {
     "name": "stdout",
     "output_type": "stream",
     "text": [
      "Error duplicate entries check data for:  [21, 22, 23, 24]\n"
     ]
    },
    {
     "data": {
      "text/plain": "[-0.0032569323958238114,\n -0.013182330197582748,\n -0.026385862987170158,\n 0.01619600012677883,\n 0.03511883646683222,\n 0.08114856429463169]"
     },
     "execution_count": 178,
     "metadata": {},
     "output_type": "execute_result"
    }
   ],
   "source": [
    "code_elegance_fleiss_scores = []\n",
    "for i in range(1, 28, 4):\n",
    "    try:\n",
    "        code_elegance_fleiss_scores.append(\n",
    "            calculate_fleiss_kappa('Code Elegance', list(range(i, i + 4))))\n",
    "    except ValueError:\n",
    "        print('Error duplicate entries check data for: ', list(range(i, i +4)))\n",
    "\n",
    "code_elegance_fleiss_scores"
   ],
   "metadata": {
    "collapsed": false,
    "ExecuteTime": {
     "end_time": "2024-05-08T16:31:53.007315Z",
     "start_time": "2024-05-08T16:31:52.986139Z"
    }
   },
   "id": "e2f7f55f29e75dbd",
   "execution_count": 178
  },
  {
   "cell_type": "code",
   "outputs": [
    {
     "name": "stdout",
     "output_type": "stream",
     "text": [
      "Missing Grade:  participant_id      9  10  11  12\n",
      "assignment_number                \n",
      "117.0              NaN  B  A+  A-\n",
      "Error duplicate entries check data for:  [21, 22, 23, 24]\n",
      "Missing Grade:  participant_id      25   26   27   28\n",
      "assignment_number                    \n",
      "394.0              A++  A++  NaN  A++\n"
     ]
    },
    {
     "data": {
      "text/plain": "[0.00179555068626558,\n -0.07136305265088976,\n -0.05906313645621182,\n -0.0011551790527532205,\n 0.0038314176245210336,\n 0.0632548618219037]"
     },
     "execution_count": 179,
     "metadata": {},
     "output_type": "execute_result"
    }
   ],
   "source": [
    "documentation_fleiss_scores = []\n",
    "for i in range(1, 28, 4):\n",
    "    try:\n",
    "        documentation_fleiss_scores.append(\n",
    "            calculate_fleiss_kappa('Documentation', list(range(i, i + 4))))\n",
    "    except ValueError:\n",
    "        print('Error duplicate entries check data for: ', list(range(i, i +4)))\n",
    "\n",
    "documentation_fleiss_scores"
   ],
   "metadata": {
    "collapsed": false,
    "ExecuteTime": {
     "end_time": "2024-05-08T16:32:16.719676Z",
     "start_time": "2024-05-08T16:32:16.701429Z"
    }
   },
   "id": "e3133aa9881ca60b",
   "execution_count": 179
  }
 ],
 "metadata": {
  "kernelspec": {
   "display_name": "Python 3",
   "language": "python",
   "name": "python3"
  },
  "language_info": {
   "codemirror_mode": {
    "name": "ipython",
    "version": 2
   },
   "file_extension": ".py",
   "mimetype": "text/x-python",
   "name": "python",
   "nbconvert_exporter": "python",
   "pygments_lexer": "ipython2",
   "version": "2.7.6"
  }
 },
 "nbformat": 4,
 "nbformat_minor": 5
}
