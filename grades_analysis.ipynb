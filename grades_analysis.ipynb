{
 "cells": [
  {
   "cell_type": "code",
   "id": "initial_id",
   "metadata": {
    "collapsed": true,
    "ExecuteTime": {
     "end_time": "2025-03-04T17:30:28.356157Z",
     "start_time": "2025-03-04T17:30:28.345126Z"
    }
   },
   "source": [
    "import numpy as np\n",
    "import pandas as pd\n",
    "import krippendorff\n",
    "import seaborn as sns\n",
    "from itertools import combinations\n",
    "import matplotlib.pyplot as plt\n",
    "from tqdm import tqdm\n",
    "from irrCAC.raw import CAC\n",
    "\n",
    "tqdm.pandas()"
   ],
   "outputs": [],
   "execution_count": 2
  },
  {
   "cell_type": "code",
   "source": [
    "grey = (187/255, 187/255, 187/255)\n",
    "darkgreen = (51/255, 117/255, 56/255)\n",
    "teal = (93/255, 168/255, 153/255)\n",
    "blue = (148/255, 203/255, 236/255)\n",
    "yellow = (220/255, 205/255, 125/255)\n",
    "red = (168/255, 96/255, 93/255)\n",
    "pale_yellow = (164/255, 168/255, 93/255)\n",
    "\n",
    "\n",
    "color_palette = sns.color_palette([grey, darkgreen, teal, blue, yellow, red, pale_yellow])\n",
    "sns.set_theme(style=\"whitegrid\")\n"
   ],
   "metadata": {
    "collapsed": false,
    "ExecuteTime": {
     "end_time": "2025-03-04T17:30:28.363175Z",
     "start_time": "2025-03-04T17:30:28.360154Z"
    }
   },
   "id": "b0f100d5677f4a0a",
   "outputs": [],
   "execution_count": 3
  },
  {
   "cell_type": "markdown",
   "source": [
    "# Grade Analysis"
   ],
   "metadata": {
    "collapsed": false
   },
   "id": "cdb8b257c38e6f4b"
  },
  {
   "cell_type": "code",
   "source": [
    "def apply_group(id):\n",
    "    if id in [1, 2, 3, 4]:\n",
    "        return '1-4'\n",
    "    elif id in [5, 6, 7, 8]:\n",
    "        return '5-8'\n",
    "    elif id in [9, 10, 11, 12]:\n",
    "        return '9-12'\n",
    "    elif id in [13, 14, 15, 16]:\n",
    "        return '13-16'\n",
    "    elif id in [17, 18, 19, 20]:\n",
    "        return '17-20'\n",
    "    elif id in [21, 22, 23, 24]:\n",
    "        return '21-24'\n",
    "    else:\n",
    "        return '25-28'"
   ],
   "metadata": {
    "collapsed": false,
    "ExecuteTime": {
     "end_time": "2025-03-04T17:30:28.372672Z",
     "start_time": "2025-03-04T17:30:28.370463Z"
    }
   },
   "id": "f999318c2d80da79",
   "outputs": [],
   "execution_count": 4
  },
  {
   "cell_type": "code",
   "source": [
    "grade_df = pd.read_csv('data/inter_rater.csv', index_col=0)\n",
    "grade_df['grade'] = pd.Categorical(grade_df['grade'],\n",
    "                                         ['A++', 'A+', 'A', 'A-',\n",
    "                                          'B+', 'B', 'B-',\n",
    "                                          'C+', 'C', 'C-',\n",
    "                                          'D+', 'D', 'D-',\n",
    "                                          'F'])\n",
    "\n",
    "grade_df['group'] = grade_df['participant_id'].apply(apply_group)\n",
    "grade_df['group'] = pd.Categorical(grade_df['group'], ['1-4', '5-8', '9-12', '13-16', '17-20', '21-24', '25-28'])\n",
    "\n",
    "\n",
    "# Removed as this was accidentally duplicated\n",
    "grade_df = grade_df[grade_df['assignment_number'] != 105]\n",
    "grade_df = grade_df[~grade_df['grade'].isnull()]\n",
    "grade_df"
   ],
   "metadata": {
    "collapsed": false,
    "ExecuteTime": {
     "end_time": "2025-03-04T17:30:28.398436Z",
     "start_time": "2025-03-04T17:30:28.379963Z"
    }
   },
   "id": "c69e63909be6a18",
   "outputs": [
    {
     "data": {
      "text/plain": [
       "    assignment_number                                           comments  \\\n",
       "0               302.0  The code demonstrates a high level of organisa...   \n",
       "6               111.0       Does not run, error in Location. Broken code   \n",
       "3               542.0                                No comment supplied   \n",
       "2               277.0                                No comment supplied   \n",
       "1               303.0                                No comment supplied   \n",
       "..                ...                                                ...   \n",
       "10              539.0                                No comment supplied   \n",
       "18              281.0  The code is comprehensively documented through...   \n",
       "13              394.0                                No comment supplied   \n",
       "5               550.0                                No comment supplied   \n",
       "18              281.0  Good use of comments at the beginning of each ...   \n",
       "\n",
       "            skill  participant_id  batch grade  group  length  \n",
       "0     Readability               3      2   A++    1-4      13  \n",
       "6     Correctness               4      1     F    1-4       8  \n",
       "3     Readability               2      2    A-    1-4       3  \n",
       "2     Readability               2      2    A-    1-4       3  \n",
       "1     Readability               2      2    A-    1-4       3  \n",
       "..            ...             ...    ...   ...    ...     ...  \n",
       "10  Code Elegance              26      2     A  25-28       3  \n",
       "18  Documentation              28      1    A+  25-28      26  \n",
       "13    Readability              26      1    B+  25-28       3  \n",
       "5   Code Elegance              25      2   A++  25-28       3  \n",
       "18  Documentation              27      1    A-  25-28      14  \n",
       "\n",
       "[4427 rows x 8 columns]"
      ],
      "text/html": [
       "<div>\n",
       "<style scoped>\n",
       "    .dataframe tbody tr th:only-of-type {\n",
       "        vertical-align: middle;\n",
       "    }\n",
       "\n",
       "    .dataframe tbody tr th {\n",
       "        vertical-align: top;\n",
       "    }\n",
       "\n",
       "    .dataframe thead th {\n",
       "        text-align: right;\n",
       "    }\n",
       "</style>\n",
       "<table border=\"1\" class=\"dataframe\">\n",
       "  <thead>\n",
       "    <tr style=\"text-align: right;\">\n",
       "      <th></th>\n",
       "      <th>assignment_number</th>\n",
       "      <th>comments</th>\n",
       "      <th>skill</th>\n",
       "      <th>participant_id</th>\n",
       "      <th>batch</th>\n",
       "      <th>grade</th>\n",
       "      <th>group</th>\n",
       "      <th>length</th>\n",
       "    </tr>\n",
       "  </thead>\n",
       "  <tbody>\n",
       "    <tr>\n",
       "      <th>0</th>\n",
       "      <td>302.0</td>\n",
       "      <td>The code demonstrates a high level of organisa...</td>\n",
       "      <td>Readability</td>\n",
       "      <td>3</td>\n",
       "      <td>2</td>\n",
       "      <td>A++</td>\n",
       "      <td>1-4</td>\n",
       "      <td>13</td>\n",
       "    </tr>\n",
       "    <tr>\n",
       "      <th>6</th>\n",
       "      <td>111.0</td>\n",
       "      <td>Does not run, error in Location. Broken code</td>\n",
       "      <td>Correctness</td>\n",
       "      <td>4</td>\n",
       "      <td>1</td>\n",
       "      <td>F</td>\n",
       "      <td>1-4</td>\n",
       "      <td>8</td>\n",
       "    </tr>\n",
       "    <tr>\n",
       "      <th>3</th>\n",
       "      <td>542.0</td>\n",
       "      <td>No comment supplied</td>\n",
       "      <td>Readability</td>\n",
       "      <td>2</td>\n",
       "      <td>2</td>\n",
       "      <td>A-</td>\n",
       "      <td>1-4</td>\n",
       "      <td>3</td>\n",
       "    </tr>\n",
       "    <tr>\n",
       "      <th>2</th>\n",
       "      <td>277.0</td>\n",
       "      <td>No comment supplied</td>\n",
       "      <td>Readability</td>\n",
       "      <td>2</td>\n",
       "      <td>2</td>\n",
       "      <td>A-</td>\n",
       "      <td>1-4</td>\n",
       "      <td>3</td>\n",
       "    </tr>\n",
       "    <tr>\n",
       "      <th>1</th>\n",
       "      <td>303.0</td>\n",
       "      <td>No comment supplied</td>\n",
       "      <td>Readability</td>\n",
       "      <td>2</td>\n",
       "      <td>2</td>\n",
       "      <td>A-</td>\n",
       "      <td>1-4</td>\n",
       "      <td>3</td>\n",
       "    </tr>\n",
       "    <tr>\n",
       "      <th>...</th>\n",
       "      <td>...</td>\n",
       "      <td>...</td>\n",
       "      <td>...</td>\n",
       "      <td>...</td>\n",
       "      <td>...</td>\n",
       "      <td>...</td>\n",
       "      <td>...</td>\n",
       "      <td>...</td>\n",
       "    </tr>\n",
       "    <tr>\n",
       "      <th>10</th>\n",
       "      <td>539.0</td>\n",
       "      <td>No comment supplied</td>\n",
       "      <td>Code Elegance</td>\n",
       "      <td>26</td>\n",
       "      <td>2</td>\n",
       "      <td>A</td>\n",
       "      <td>25-28</td>\n",
       "      <td>3</td>\n",
       "    </tr>\n",
       "    <tr>\n",
       "      <th>18</th>\n",
       "      <td>281.0</td>\n",
       "      <td>The code is comprehensively documented through...</td>\n",
       "      <td>Documentation</td>\n",
       "      <td>28</td>\n",
       "      <td>1</td>\n",
       "      <td>A+</td>\n",
       "      <td>25-28</td>\n",
       "      <td>26</td>\n",
       "    </tr>\n",
       "    <tr>\n",
       "      <th>13</th>\n",
       "      <td>394.0</td>\n",
       "      <td>No comment supplied</td>\n",
       "      <td>Readability</td>\n",
       "      <td>26</td>\n",
       "      <td>1</td>\n",
       "      <td>B+</td>\n",
       "      <td>25-28</td>\n",
       "      <td>3</td>\n",
       "    </tr>\n",
       "    <tr>\n",
       "      <th>5</th>\n",
       "      <td>550.0</td>\n",
       "      <td>No comment supplied</td>\n",
       "      <td>Code Elegance</td>\n",
       "      <td>25</td>\n",
       "      <td>2</td>\n",
       "      <td>A++</td>\n",
       "      <td>25-28</td>\n",
       "      <td>3</td>\n",
       "    </tr>\n",
       "    <tr>\n",
       "      <th>18</th>\n",
       "      <td>281.0</td>\n",
       "      <td>Good use of comments at the beginning of each ...</td>\n",
       "      <td>Documentation</td>\n",
       "      <td>27</td>\n",
       "      <td>1</td>\n",
       "      <td>A-</td>\n",
       "      <td>25-28</td>\n",
       "      <td>14</td>\n",
       "    </tr>\n",
       "  </tbody>\n",
       "</table>\n",
       "<p>4427 rows × 8 columns</p>\n",
       "</div>"
      ]
     },
     "execution_count": 5,
     "metadata": {},
     "output_type": "execute_result"
    }
   ],
   "execution_count": 5
  },
  {
   "cell_type": "markdown",
   "source": [
    "# Inter-Rater Analysis"
   ],
   "metadata": {
    "collapsed": false
   },
   "id": "ee29e8afcff20345"
  },
  {
   "cell_type": "code",
   "source": [
    "def calculate_all_reliability_metric(metric, grade_col='grade'):\n",
    "    results_df = None\n",
    "    \n",
    "    for skill in ['Correctness', 'Readability', 'Code Elegance', 'Documentation']:\n",
    "        for group in grade_df['group'].unique():\n",
    "            try:\n",
    "                \n",
    "                if metric == 'krippendorff':\n",
    "                    metric_result = calculate_krippendorrf_alpha(skill, group, grade_col)\n",
    "                else:\n",
    "                    metric_result = calculate_ac2(skill, group, grade_col)\n",
    "                \n",
    "                results_df = pd.concat([results_df, pd.DataFrame({\n",
    "                                        'group': group,\n",
    "                                        'skill': skill,\n",
    "                                        'metric_result': metric_result}, index=[0])])\n",
    "\n",
    "                results_df['group'] = pd.Categorical(results_df['group'], ['1-4', '5-8', '9-12', '13-16', '17-20', '21-24', '25-28'])\n",
    "            except ValueError as e:\n",
    "                print('Error duplicate entries check data for: ', group)\n",
    "                raise e\n",
    "    \n",
    "    return results_df"
   ],
   "metadata": {
    "collapsed": false,
    "ExecuteTime": {
     "end_time": "2025-03-04T17:30:28.449544Z",
     "start_time": "2025-03-04T17:30:28.446641Z"
    }
   },
   "id": "d9a2554178d85f25",
   "outputs": [],
   "execution_count": 6
  },
  {
   "cell_type": "markdown",
   "source": [
    "### Krippendorrf's Alpha"
   ],
   "metadata": {
    "collapsed": false
   },
   "id": "54d3102a4b42eee3"
  },
  {
   "cell_type": "code",
   "source": [
    "def merge_grades(row):\n",
    "    if row[row.index[0]] >= row[row.index[1]]:\n",
    "        return str(row[row.index[0]]) + str(row[row.index[1]])\n",
    "    else:\n",
    "        return str(row[row.index[1]]) + str(row[row.index[0]])"
   ],
   "metadata": {
    "collapsed": false,
    "ExecuteTime": {
     "end_time": "2025-03-04T17:30:28.483647Z",
     "start_time": "2025-03-04T17:30:28.481063Z"
    }
   },
   "id": "227d0d598c3ee22b",
   "outputs": [],
   "execution_count": 7
  },
  {
   "cell_type": "code",
   "source": [
    "# Grades are ordinal data or just stick with nominal? Are pairs of grades still ordinal?\n",
    "def calculate_krippendorrf_alpha(skill, group, grade_col):\n",
    "    skill_df = grade_df[grade_df['skill'] == skill][['participant_id', 'assignment_number', 'group', grade_col]].copy()\n",
    "    group_df = skill_df[skill_df['group'] == group].sort_values(by='participant_id')\n",
    "\n",
    "    group_df[grade_col] = group_df[grade_col].cat.codes\n",
    "    pivot = group_df.pivot(columns='assignment_number', index='participant_id', values=grade_col)\n",
    "    \n",
    "    return krippendorff.alpha(pivot.to_numpy(), level_of_measurement='ordinal')"
   ],
   "metadata": {
    "collapsed": false,
    "ExecuteTime": {
     "end_time": "2025-03-04T17:30:28.526361Z",
     "start_time": "2025-03-04T17:30:28.523762Z"
    }
   },
   "id": "7d399548890a9a71",
   "outputs": [],
   "execution_count": 8
  },
  {
   "cell_type": "code",
   "source": [
    "calculate_krippendorrf_alpha('Correctness', '13-16', 'grade')"
   ],
   "metadata": {
    "collapsed": false,
    "ExecuteTime": {
     "end_time": "2025-03-04T17:30:28.586544Z",
     "start_time": "2025-03-04T17:30:28.579791Z"
    }
   },
   "id": "415975de20314401",
   "outputs": [
    {
     "data": {
      "text/plain": [
       "0.20875490820626974"
      ]
     },
     "execution_count": 9,
     "metadata": {},
     "output_type": "execute_result"
    }
   ],
   "execution_count": 9
  },
  {
   "cell_type": "code",
   "source": [
    "fine_alpha_df = calculate_all_reliability_metric('krippendorff', 'grade').sort_values(by='group')\n",
    "fine_alpha_df"
   ],
   "metadata": {
    "collapsed": false,
    "ExecuteTime": {
     "end_time": "2025-03-04T17:30:28.731701Z",
     "start_time": "2025-03-04T17:30:28.662580Z"
    }
   },
   "id": "b3758958c5035c87",
   "outputs": [
    {
     "data": {
      "text/plain": [
       "   group          skill  metric_result\n",
       "0    1-4    Correctness       0.281601\n",
       "0    1-4  Documentation       0.102318\n",
       "0    1-4  Code Elegance       0.071930\n",
       "0    1-4    Readability       0.034320\n",
       "0    5-8    Correctness      -0.069250\n",
       "0    5-8  Code Elegance       0.042380\n",
       "0    5-8  Documentation      -0.101600\n",
       "0    5-8    Readability      -0.110749\n",
       "0   9-12  Code Elegance       0.066531\n",
       "0   9-12  Documentation       0.019464\n",
       "0   9-12    Correctness       0.105651\n",
       "0   9-12    Readability       0.097416\n",
       "0  13-16    Readability      -0.083554\n",
       "0  13-16    Correctness       0.208755\n",
       "0  13-16  Code Elegance      -0.136795\n",
       "0  13-16  Documentation      -0.117982\n",
       "0  17-20  Documentation       0.146425\n",
       "0  17-20    Correctness       0.450298\n",
       "0  17-20  Code Elegance       0.302403\n",
       "0  17-20    Readability       0.129311\n",
       "0  21-24    Readability       0.086908\n",
       "0  21-24  Documentation       0.121464\n",
       "0  21-24    Correctness       0.361551\n",
       "0  21-24  Code Elegance       0.154982\n",
       "0  25-28    Readability       0.165533\n",
       "0  25-28    Correctness       0.202866\n",
       "0  25-28  Code Elegance       0.188966\n",
       "0  25-28  Documentation       0.211608"
      ],
      "text/html": [
       "<div>\n",
       "<style scoped>\n",
       "    .dataframe tbody tr th:only-of-type {\n",
       "        vertical-align: middle;\n",
       "    }\n",
       "\n",
       "    .dataframe tbody tr th {\n",
       "        vertical-align: top;\n",
       "    }\n",
       "\n",
       "    .dataframe thead th {\n",
       "        text-align: right;\n",
       "    }\n",
       "</style>\n",
       "<table border=\"1\" class=\"dataframe\">\n",
       "  <thead>\n",
       "    <tr style=\"text-align: right;\">\n",
       "      <th></th>\n",
       "      <th>group</th>\n",
       "      <th>skill</th>\n",
       "      <th>metric_result</th>\n",
       "    </tr>\n",
       "  </thead>\n",
       "  <tbody>\n",
       "    <tr>\n",
       "      <th>0</th>\n",
       "      <td>1-4</td>\n",
       "      <td>Correctness</td>\n",
       "      <td>0.281601</td>\n",
       "    </tr>\n",
       "    <tr>\n",
       "      <th>0</th>\n",
       "      <td>1-4</td>\n",
       "      <td>Documentation</td>\n",
       "      <td>0.102318</td>\n",
       "    </tr>\n",
       "    <tr>\n",
       "      <th>0</th>\n",
       "      <td>1-4</td>\n",
       "      <td>Code Elegance</td>\n",
       "      <td>0.071930</td>\n",
       "    </tr>\n",
       "    <tr>\n",
       "      <th>0</th>\n",
       "      <td>1-4</td>\n",
       "      <td>Readability</td>\n",
       "      <td>0.034320</td>\n",
       "    </tr>\n",
       "    <tr>\n",
       "      <th>0</th>\n",
       "      <td>5-8</td>\n",
       "      <td>Correctness</td>\n",
       "      <td>-0.069250</td>\n",
       "    </tr>\n",
       "    <tr>\n",
       "      <th>0</th>\n",
       "      <td>5-8</td>\n",
       "      <td>Code Elegance</td>\n",
       "      <td>0.042380</td>\n",
       "    </tr>\n",
       "    <tr>\n",
       "      <th>0</th>\n",
       "      <td>5-8</td>\n",
       "      <td>Documentation</td>\n",
       "      <td>-0.101600</td>\n",
       "    </tr>\n",
       "    <tr>\n",
       "      <th>0</th>\n",
       "      <td>5-8</td>\n",
       "      <td>Readability</td>\n",
       "      <td>-0.110749</td>\n",
       "    </tr>\n",
       "    <tr>\n",
       "      <th>0</th>\n",
       "      <td>9-12</td>\n",
       "      <td>Code Elegance</td>\n",
       "      <td>0.066531</td>\n",
       "    </tr>\n",
       "    <tr>\n",
       "      <th>0</th>\n",
       "      <td>9-12</td>\n",
       "      <td>Documentation</td>\n",
       "      <td>0.019464</td>\n",
       "    </tr>\n",
       "    <tr>\n",
       "      <th>0</th>\n",
       "      <td>9-12</td>\n",
       "      <td>Correctness</td>\n",
       "      <td>0.105651</td>\n",
       "    </tr>\n",
       "    <tr>\n",
       "      <th>0</th>\n",
       "      <td>9-12</td>\n",
       "      <td>Readability</td>\n",
       "      <td>0.097416</td>\n",
       "    </tr>\n",
       "    <tr>\n",
       "      <th>0</th>\n",
       "      <td>13-16</td>\n",
       "      <td>Readability</td>\n",
       "      <td>-0.083554</td>\n",
       "    </tr>\n",
       "    <tr>\n",
       "      <th>0</th>\n",
       "      <td>13-16</td>\n",
       "      <td>Correctness</td>\n",
       "      <td>0.208755</td>\n",
       "    </tr>\n",
       "    <tr>\n",
       "      <th>0</th>\n",
       "      <td>13-16</td>\n",
       "      <td>Code Elegance</td>\n",
       "      <td>-0.136795</td>\n",
       "    </tr>\n",
       "    <tr>\n",
       "      <th>0</th>\n",
       "      <td>13-16</td>\n",
       "      <td>Documentation</td>\n",
       "      <td>-0.117982</td>\n",
       "    </tr>\n",
       "    <tr>\n",
       "      <th>0</th>\n",
       "      <td>17-20</td>\n",
       "      <td>Documentation</td>\n",
       "      <td>0.146425</td>\n",
       "    </tr>\n",
       "    <tr>\n",
       "      <th>0</th>\n",
       "      <td>17-20</td>\n",
       "      <td>Correctness</td>\n",
       "      <td>0.450298</td>\n",
       "    </tr>\n",
       "    <tr>\n",
       "      <th>0</th>\n",
       "      <td>17-20</td>\n",
       "      <td>Code Elegance</td>\n",
       "      <td>0.302403</td>\n",
       "    </tr>\n",
       "    <tr>\n",
       "      <th>0</th>\n",
       "      <td>17-20</td>\n",
       "      <td>Readability</td>\n",
       "      <td>0.129311</td>\n",
       "    </tr>\n",
       "    <tr>\n",
       "      <th>0</th>\n",
       "      <td>21-24</td>\n",
       "      <td>Readability</td>\n",
       "      <td>0.086908</td>\n",
       "    </tr>\n",
       "    <tr>\n",
       "      <th>0</th>\n",
       "      <td>21-24</td>\n",
       "      <td>Documentation</td>\n",
       "      <td>0.121464</td>\n",
       "    </tr>\n",
       "    <tr>\n",
       "      <th>0</th>\n",
       "      <td>21-24</td>\n",
       "      <td>Correctness</td>\n",
       "      <td>0.361551</td>\n",
       "    </tr>\n",
       "    <tr>\n",
       "      <th>0</th>\n",
       "      <td>21-24</td>\n",
       "      <td>Code Elegance</td>\n",
       "      <td>0.154982</td>\n",
       "    </tr>\n",
       "    <tr>\n",
       "      <th>0</th>\n",
       "      <td>25-28</td>\n",
       "      <td>Readability</td>\n",
       "      <td>0.165533</td>\n",
       "    </tr>\n",
       "    <tr>\n",
       "      <th>0</th>\n",
       "      <td>25-28</td>\n",
       "      <td>Correctness</td>\n",
       "      <td>0.202866</td>\n",
       "    </tr>\n",
       "    <tr>\n",
       "      <th>0</th>\n",
       "      <td>25-28</td>\n",
       "      <td>Code Elegance</td>\n",
       "      <td>0.188966</td>\n",
       "    </tr>\n",
       "    <tr>\n",
       "      <th>0</th>\n",
       "      <td>25-28</td>\n",
       "      <td>Documentation</td>\n",
       "      <td>0.211608</td>\n",
       "    </tr>\n",
       "  </tbody>\n",
       "</table>\n",
       "</div>"
      ]
     },
     "execution_count": 10,
     "metadata": {},
     "output_type": "execute_result"
    }
   ],
   "execution_count": 10
  },
  {
   "cell_type": "code",
   "source": [
    "pivot_df = fine_alpha_df.pivot(index='group', columns='skill', values='metric_result')#.transpose()\n",
    "g = sns.heatmap(pivot_df, annot=True, cmap=sns.color_palette(\"mako\", as_cmap=True), square=True, vmin=-0.1, vmax=1)\n",
    "g.get_figure().savefig('plots/krippendorrf_fine.pdf', bbox_inches='tight')"
   ],
   "metadata": {
    "collapsed": false,
    "ExecuteTime": {
     "end_time": "2025-03-04T17:30:29.115340Z",
     "start_time": "2025-03-04T17:30:28.761167Z"
    }
   },
   "id": "fc0343d026b8ed8c",
   "outputs": [
    {
     "data": {
      "text/plain": [
       "<Figure size 640x480 with 2 Axes>"
      ],
      "image/png": "[encoded data removed]"
     },
     "metadata": {},
     "output_type": "display_data"
    }
   ],
   "execution_count": 11
  },
  {
   "cell_type": "code",
   "source": [
    "fine_alpha_df[['skill', 'metric_result']].groupby('skill').mean().reset_index()"
   ],
   "metadata": {
    "collapsed": false,
    "ExecuteTime": {
     "end_time": "2025-03-04T17:30:29.145992Z",
     "start_time": "2025-03-04T17:30:29.137724Z"
    }
   },
   "id": "c58221a0a9e8f58e",
   "outputs": [
    {
     "data": {
      "text/plain": [
       "           skill  metric_result\n",
       "0  Code Elegance       0.098628\n",
       "1    Correctness       0.220210\n",
       "2  Documentation       0.054528\n",
       "3    Readability       0.045598"
      ],
      "text/html": [
       "<div>\n",
       "<style scoped>\n",
       "    .dataframe tbody tr th:only-of-type {\n",
       "        vertical-align: middle;\n",
       "    }\n",
       "\n",
       "    .dataframe tbody tr th {\n",
       "        vertical-align: top;\n",
       "    }\n",
       "\n",
       "    .dataframe thead th {\n",
       "        text-align: right;\n",
       "    }\n",
       "</style>\n",
       "<table border=\"1\" class=\"dataframe\">\n",
       "  <thead>\n",
       "    <tr style=\"text-align: right;\">\n",
       "      <th></th>\n",
       "      <th>skill</th>\n",
       "      <th>metric_result</th>\n",
       "    </tr>\n",
       "  </thead>\n",
       "  <tbody>\n",
       "    <tr>\n",
       "      <th>0</th>\n",
       "      <td>Code Elegance</td>\n",
       "      <td>0.098628</td>\n",
       "    </tr>\n",
       "    <tr>\n",
       "      <th>1</th>\n",
       "      <td>Correctness</td>\n",
       "      <td>0.220210</td>\n",
       "    </tr>\n",
       "    <tr>\n",
       "      <th>2</th>\n",
       "      <td>Documentation</td>\n",
       "      <td>0.054528</td>\n",
       "    </tr>\n",
       "    <tr>\n",
       "      <th>3</th>\n",
       "      <td>Readability</td>\n",
       "      <td>0.045598</td>\n",
       "    </tr>\n",
       "  </tbody>\n",
       "</table>\n",
       "</div>"
      ]
     },
     "execution_count": 12,
     "metadata": {},
     "output_type": "execute_result"
    }
   ],
   "execution_count": 12
  },
  {
   "cell_type": "code",
   "source": [
    "fine_alpha_df[['group', 'metric_result']].groupby('group').mean().reset_index()"
   ],
   "metadata": {
    "collapsed": false,
    "ExecuteTime": {
     "end_time": "2025-03-04T17:30:29.219187Z",
     "start_time": "2025-03-04T17:30:29.213861Z"
    }
   },
   "id": "1146063c972b6cd3",
   "outputs": [
    {
     "name": "stderr",
     "output_type": "stream",
     "text": [
      "/var/folders/1y/6byzw1px62g2f5w7p_rhb6kh0000gn/T/ipykernel_82809/1232685465.py:1: FutureWarning: The default of observed=False is deprecated and will be changed to True in a future version of pandas. Pass observed=False to retain current behavior or observed=True to adopt the future default and silence this warning.\n",
      "  fine_alpha_df[['group', 'metric_result']].groupby('group').mean().reset_index()\n"
     ]
    },
    {
     "data": {
      "text/plain": [
       "   group  metric_result\n",
       "0    1-4       0.122543\n",
       "1    5-8      -0.059805\n",
       "2   9-12       0.072266\n",
       "3  13-16      -0.032394\n",
       "4  17-20       0.257109\n",
       "5  21-24       0.181226\n",
       "6  25-28       0.192243"
      ],
      "text/html": [
       "<div>\n",
       "<style scoped>\n",
       "    .dataframe tbody tr th:only-of-type {\n",
       "        vertical-align: middle;\n",
       "    }\n",
       "\n",
       "    .dataframe tbody tr th {\n",
       "        vertical-align: top;\n",
       "    }\n",
       "\n",
       "    .dataframe thead th {\n",
       "        text-align: right;\n",
       "    }\n",
       "</style>\n",
       "<table border=\"1\" class=\"dataframe\">\n",
       "  <thead>\n",
       "    <tr style=\"text-align: right;\">\n",
       "      <th></th>\n",
       "      <th>group</th>\n",
       "      <th>metric_result</th>\n",
       "    </tr>\n",
       "  </thead>\n",
       "  <tbody>\n",
       "    <tr>\n",
       "      <th>0</th>\n",
       "      <td>1-4</td>\n",
       "      <td>0.122543</td>\n",
       "    </tr>\n",
       "    <tr>\n",
       "      <th>1</th>\n",
       "      <td>5-8</td>\n",
       "      <td>-0.059805</td>\n",
       "    </tr>\n",
       "    <tr>\n",
       "      <th>2</th>\n",
       "      <td>9-12</td>\n",
       "      <td>0.072266</td>\n",
       "    </tr>\n",
       "    <tr>\n",
       "      <th>3</th>\n",
       "      <td>13-16</td>\n",
       "      <td>-0.032394</td>\n",
       "    </tr>\n",
       "    <tr>\n",
       "      <th>4</th>\n",
       "      <td>17-20</td>\n",
       "      <td>0.257109</td>\n",
       "    </tr>\n",
       "    <tr>\n",
       "      <th>5</th>\n",
       "      <td>21-24</td>\n",
       "      <td>0.181226</td>\n",
       "    </tr>\n",
       "    <tr>\n",
       "      <th>6</th>\n",
       "      <td>25-28</td>\n",
       "      <td>0.192243</td>\n",
       "    </tr>\n",
       "  </tbody>\n",
       "</table>\n",
       "</div>"
      ]
     },
     "execution_count": 13,
     "metadata": {},
     "output_type": "execute_result"
    }
   ],
   "execution_count": 13
  },
  {
   "cell_type": "markdown",
   "source": [
    "### Gwet's ac2"
   ],
   "metadata": {
    "collapsed": false
   },
   "id": "1a5a28ee7f34c755"
  },
  {
   "cell_type": "code",
   "source": [
    "def calculate_ac2(skill, group, grade_col):\n",
    "    skill_df = grade_df[grade_df['skill'] == skill][['participant_id', 'assignment_number', 'group', grade_col]].copy()\n",
    "    group_df = skill_df[skill_df['group'] == group].sort_values(by='participant_id')\n",
    "\n",
    "    group_df[grade_col] = group_df[grade_col].cat.codes\n",
    "    # Transpose pivot to get in form required by library rater by assignment\n",
    "    pivot = group_df.pivot(columns='assignment_number', index='participant_id', values=grade_col).T \n",
    "    cac = CAC(pivot, 'ordinal')\n",
    "\n",
    "    return cac.gwet()['est']['coefficient_value']"
   ],
   "metadata": {
    "collapsed": false,
    "ExecuteTime": {
     "end_time": "2025-03-04T17:30:29.259624Z",
     "start_time": "2025-03-04T17:30:29.256911Z"
    }
   },
   "id": "fb393b1179cb385c",
   "outputs": [],
   "execution_count": 14
  },
  {
   "cell_type": "code",
   "source": [
    "calculate_ac2('Correctness', '13-16', 'grade')"
   ],
   "metadata": {
    "collapsed": false,
    "ExecuteTime": {
     "end_time": "2025-03-04T17:30:29.352286Z",
     "start_time": "2025-03-04T17:30:29.340679Z"
    }
   },
   "id": "59be1a0b7d6a0b7c",
   "outputs": [
    {
     "data": {
      "text/plain": [
       "0.67246"
      ]
     },
     "execution_count": 15,
     "metadata": {},
     "output_type": "execute_result"
    }
   ],
   "execution_count": 15
  },
  {
   "cell_type": "code",
   "source": [
    "ac2_df = calculate_all_reliability_metric('ac2', 'grade').sort_values(by='group')\n",
    "ac2_df"
   ],
   "metadata": {
    "collapsed": false,
    "ExecuteTime": {
     "end_time": "2025-03-04T17:30:29.655124Z",
     "start_time": "2025-03-04T17:30:29.411496Z"
    }
   },
   "id": "69cf1ec90912d514",
   "outputs": [
    {
     "data": {
      "text/plain": [
       "   group          skill  metric_result\n",
       "0    1-4    Correctness        0.59829\n",
       "0    1-4  Documentation        0.50856\n",
       "0    1-4  Code Elegance        0.53049\n",
       "0    1-4    Readability        0.54217\n",
       "0    5-8    Correctness        0.58691\n",
       "0    5-8  Code Elegance        0.56184\n",
       "0    5-8  Documentation        0.49920\n",
       "0    5-8    Readability        0.40492\n",
       "0   9-12  Code Elegance        0.66729\n",
       "0   9-12  Documentation        0.68618\n",
       "0   9-12    Correctness        0.58862\n",
       "0   9-12    Readability        0.69554\n",
       "0  13-16    Readability        0.69603\n",
       "0  13-16    Correctness        0.67246\n",
       "0  13-16  Code Elegance        0.46938\n",
       "0  13-16  Documentation        0.53850\n",
       "0  17-20  Documentation        0.67130\n",
       "0  17-20    Correctness        0.68770\n",
       "0  17-20  Code Elegance        0.67443\n",
       "0  17-20    Readability        0.76043\n",
       "0  21-24    Readability        0.68940\n",
       "0  21-24  Documentation        0.54665\n",
       "0  21-24    Correctness        0.60683\n",
       "0  21-24  Code Elegance        0.67652\n",
       "0  25-28    Readability        0.67943\n",
       "0  25-28    Correctness        0.65930\n",
       "0  25-28  Code Elegance        0.56669\n",
       "0  25-28  Documentation        0.72576"
      ],
      "text/html": [
       "<div>\n",
       "<style scoped>\n",
       "    .dataframe tbody tr th:only-of-type {\n",
       "        vertical-align: middle;\n",
       "    }\n",
       "\n",
       "    .dataframe tbody tr th {\n",
       "        vertical-align: top;\n",
       "    }\n",
       "\n",
       "    .dataframe thead th {\n",
       "        text-align: right;\n",
       "    }\n",
       "</style>\n",
       "<table border=\"1\" class=\"dataframe\">\n",
       "  <thead>\n",
       "    <tr style=\"text-align: right;\">\n",
       "      <th></th>\n",
       "      <th>group</th>\n",
       "      <th>skill</th>\n",
       "      <th>metric_result</th>\n",
       "    </tr>\n",
       "  </thead>\n",
       "  <tbody>\n",
       "    <tr>\n",
       "      <th>0</th>\n",
       "      <td>1-4</td>\n",
       "      <td>Correctness</td>\n",
       "      <td>0.59829</td>\n",
       "    </tr>\n",
       "    <tr>\n",
       "      <th>0</th>\n",
       "      <td>1-4</td>\n",
       "      <td>Documentation</td>\n",
       "      <td>0.50856</td>\n",
       "    </tr>\n",
       "    <tr>\n",
       "      <th>0</th>\n",
       "      <td>1-4</td>\n",
       "      <td>Code Elegance</td>\n",
       "      <td>0.53049</td>\n",
       "    </tr>\n",
       "    <tr>\n",
       "      <th>0</th>\n",
       "      <td>1-4</td>\n",
       "      <td>Readability</td>\n",
       "      <td>0.54217</td>\n",
       "    </tr>\n",
       "    <tr>\n",
       "      <th>0</th>\n",
       "      <td>5-8</td>\n",
       "      <td>Correctness</td>\n",
       "      <td>0.58691</td>\n",
       "    </tr>\n",
       "    <tr>\n",
       "      <th>0</th>\n",
       "      <td>5-8</td>\n",
       "      <td>Code Elegance</td>\n",
       "      <td>0.56184</td>\n",
       "    </tr>\n",
       "    <tr>\n",
       "      <th>0</th>\n",
       "      <td>5-8</td>\n",
       "      <td>Documentation</td>\n",
       "      <td>0.49920</td>\n",
       "    </tr>\n",
       "    <tr>\n",
       "      <th>0</th>\n",
       "      <td>5-8</td>\n",
       "      <td>Readability</td>\n",
       "      <td>0.40492</td>\n",
       "    </tr>\n",
       "    <tr>\n",
       "      <th>0</th>\n",
       "      <td>9-12</td>\n",
       "      <td>Code Elegance</td>\n",
       "      <td>0.66729</td>\n",
       "    </tr>\n",
       "    <tr>\n",
       "      <th>0</th>\n",
       "      <td>9-12</td>\n",
       "      <td>Documentation</td>\n",
       "      <td>0.68618</td>\n",
       "    </tr>\n",
       "    <tr>\n",
       "      <th>0</th>\n",
       "      <td>9-12</td>\n",
       "      <td>Correctness</td>\n",
       "      <td>0.58862</td>\n",
       "    </tr>\n",
       "    <tr>\n",
       "      <th>0</th>\n",
       "      <td>9-12</td>\n",
       "      <td>Readability</td>\n",
       "      <td>0.69554</td>\n",
       "    </tr>\n",
       "    <tr>\n",
       "      <th>0</th>\n",
       "      <td>13-16</td>\n",
       "      <td>Readability</td>\n",
       "      <td>0.69603</td>\n",
       "    </tr>\n",
       "    <tr>\n",
       "      <th>0</th>\n",
       "      <td>13-16</td>\n",
       "      <td>Correctness</td>\n",
       "      <td>0.67246</td>\n",
       "    </tr>\n",
       "    <tr>\n",
       "      <th>0</th>\n",
       "      <td>13-16</td>\n",
       "      <td>Code Elegance</td>\n",
       "      <td>0.46938</td>\n",
       "    </tr>\n",
       "    <tr>\n",
       "      <th>0</th>\n",
       "      <td>13-16</td>\n",
       "      <td>Documentation</td>\n",
       "      <td>0.53850</td>\n",
       "    </tr>\n",
       "    <tr>\n",
       "      <th>0</th>\n",
       "      <td>17-20</td>\n",
       "      <td>Documentation</td>\n",
       "      <td>0.67130</td>\n",
       "    </tr>\n",
       "    <tr>\n",
       "      <th>0</th>\n",
       "      <td>17-20</td>\n",
       "      <td>Correctness</td>\n",
       "      <td>0.68770</td>\n",
       "    </tr>\n",
       "    <tr>\n",
       "      <th>0</th>\n",
       "      <td>17-20</td>\n",
       "      <td>Code Elegance</td>\n",
       "      <td>0.67443</td>\n",
       "    </tr>\n",
       "    <tr>\n",
       "      <th>0</th>\n",
       "      <td>17-20</td>\n",
       "      <td>Readability</td>\n",
       "      <td>0.76043</td>\n",
       "    </tr>\n",
       "    <tr>\n",
       "      <th>0</th>\n",
       "      <td>21-24</td>\n",
       "      <td>Readability</td>\n",
       "      <td>0.68940</td>\n",
       "    </tr>\n",
       "    <tr>\n",
       "      <th>0</th>\n",
       "      <td>21-24</td>\n",
       "      <td>Documentation</td>\n",
       "      <td>0.54665</td>\n",
       "    </tr>\n",
       "    <tr>\n",
       "      <th>0</th>\n",
       "      <td>21-24</td>\n",
       "      <td>Correctness</td>\n",
       "      <td>0.60683</td>\n",
       "    </tr>\n",
       "    <tr>\n",
       "      <th>0</th>\n",
       "      <td>21-24</td>\n",
       "      <td>Code Elegance</td>\n",
       "      <td>0.67652</td>\n",
       "    </tr>\n",
       "    <tr>\n",
       "      <th>0</th>\n",
       "      <td>25-28</td>\n",
       "      <td>Readability</td>\n",
       "      <td>0.67943</td>\n",
       "    </tr>\n",
       "    <tr>\n",
       "      <th>0</th>\n",
       "      <td>25-28</td>\n",
       "      <td>Correctness</td>\n",
       "      <td>0.65930</td>\n",
       "    </tr>\n",
       "    <tr>\n",
       "      <th>0</th>\n",
       "      <td>25-28</td>\n",
       "      <td>Code Elegance</td>\n",
       "      <td>0.56669</td>\n",
       "    </tr>\n",
       "    <tr>\n",
       "      <th>0</th>\n",
       "      <td>25-28</td>\n",
       "      <td>Documentation</td>\n",
       "      <td>0.72576</td>\n",
       "    </tr>\n",
       "  </tbody>\n",
       "</table>\n",
       "</div>"
      ]
     },
     "execution_count": 16,
     "metadata": {},
     "output_type": "execute_result"
    }
   ],
   "execution_count": 16
  },
  {
   "cell_type": "code",
   "source": [
    "pivot_df = ac2_df.pivot(index='group', columns='skill', values='metric_result')#.transpose()\n",
    "g = sns.heatmap(pivot_df, annot=True, cmap=sns.color_palette(\"mako\", as_cmap=True), square=True, vmin=-0.1, vmax=1)\n",
    "g.get_figure().savefig('plots/gwet_ac2.pdf', bbox_inches='tight')"
   ],
   "metadata": {
    "collapsed": false,
    "ExecuteTime": {
     "end_time": "2025-03-04T17:30:29.880662Z",
     "start_time": "2025-03-04T17:30:29.711589Z"
    }
   },
   "id": "2eabf58df311701e",
   "outputs": [
    {
     "data": {
      "text/plain": [
       "<Figure size 640x480 with 2 Axes>"
      ],
      "image/png": "[encoded data removed]"
     },
     "metadata": {},
     "output_type": "display_data"
    }
   ],
   "execution_count": 17
  },
  {
   "cell_type": "code",
   "source": [
    "ac2_df[['skill', 'metric_result']].groupby('skill').mean().reset_index()"
   ],
   "metadata": {
    "collapsed": false,
    "ExecuteTime": {
     "end_time": "2025-03-04T17:30:29.910630Z",
     "start_time": "2025-03-04T17:30:29.903540Z"
    }
   },
   "id": "a958e1c21cc447c",
   "outputs": [
    {
     "data": {
      "text/plain": [
       "           skill  metric_result\n",
       "0  Code Elegance       0.592377\n",
       "1    Correctness       0.628587\n",
       "2  Documentation       0.596593\n",
       "3    Readability       0.638274"
      ],
      "text/html": [
       "<div>\n",
       "<style scoped>\n",
       "    .dataframe tbody tr th:only-of-type {\n",
       "        vertical-align: middle;\n",
       "    }\n",
       "\n",
       "    .dataframe tbody tr th {\n",
       "        vertical-align: top;\n",
       "    }\n",
       "\n",
       "    .dataframe thead th {\n",
       "        text-align: right;\n",
       "    }\n",
       "</style>\n",
       "<table border=\"1\" class=\"dataframe\">\n",
       "  <thead>\n",
       "    <tr style=\"text-align: right;\">\n",
       "      <th></th>\n",
       "      <th>skill</th>\n",
       "      <th>metric_result</th>\n",
       "    </tr>\n",
       "  </thead>\n",
       "  <tbody>\n",
       "    <tr>\n",
       "      <th>0</th>\n",
       "      <td>Code Elegance</td>\n",
       "      <td>0.592377</td>\n",
       "    </tr>\n",
       "    <tr>\n",
       "      <th>1</th>\n",
       "      <td>Correctness</td>\n",
       "      <td>0.628587</td>\n",
       "    </tr>\n",
       "    <tr>\n",
       "      <th>2</th>\n",
       "      <td>Documentation</td>\n",
       "      <td>0.596593</td>\n",
       "    </tr>\n",
       "    <tr>\n",
       "      <th>3</th>\n",
       "      <td>Readability</td>\n",
       "      <td>0.638274</td>\n",
       "    </tr>\n",
       "  </tbody>\n",
       "</table>\n",
       "</div>"
      ]
     },
     "execution_count": 18,
     "metadata": {},
     "output_type": "execute_result"
    }
   ],
   "execution_count": 18
  },
  {
   "cell_type": "code",
   "source": [
    "ac2_df[['group', 'metric_result']].groupby('group').mean().reset_index()"
   ],
   "metadata": {
    "collapsed": false,
    "ExecuteTime": {
     "end_time": "2025-03-04T17:30:29.987828Z",
     "start_time": "2025-03-04T17:30:29.981991Z"
    }
   },
   "id": "2703279623e73b51",
   "outputs": [
    {
     "name": "stderr",
     "output_type": "stream",
     "text": [
      "/var/folders/1y/6byzw1px62g2f5w7p_rhb6kh0000gn/T/ipykernel_82809/1801375983.py:1: FutureWarning: The default of observed=False is deprecated and will be changed to True in a future version of pandas. Pass observed=False to retain current behavior or observed=True to adopt the future default and silence this warning.\n",
      "  ac2_df[['group', 'metric_result']].groupby('group').mean().reset_index()\n"
     ]
    },
    {
     "data": {
      "text/plain": [
       "   group  metric_result\n",
       "0    1-4       0.544878\n",
       "1    5-8       0.513217\n",
       "2   9-12       0.659408\n",
       "3  13-16       0.594093\n",
       "4  17-20       0.698465\n",
       "5  21-24       0.629850\n",
       "6  25-28       0.657795"
      ],
      "text/html": [
       "<div>\n",
       "<style scoped>\n",
       "    .dataframe tbody tr th:only-of-type {\n",
       "        vertical-align: middle;\n",
       "    }\n",
       "\n",
       "    .dataframe tbody tr th {\n",
       "        vertical-align: top;\n",
       "    }\n",
       "\n",
       "    .dataframe thead th {\n",
       "        text-align: right;\n",
       "    }\n",
       "</style>\n",
       "<table border=\"1\" class=\"dataframe\">\n",
       "  <thead>\n",
       "    <tr style=\"text-align: right;\">\n",
       "      <th></th>\n",
       "      <th>group</th>\n",
       "      <th>metric_result</th>\n",
       "    </tr>\n",
       "  </thead>\n",
       "  <tbody>\n",
       "    <tr>\n",
       "      <th>0</th>\n",
       "      <td>1-4</td>\n",
       "      <td>0.544878</td>\n",
       "    </tr>\n",
       "    <tr>\n",
       "      <th>1</th>\n",
       "      <td>5-8</td>\n",
       "      <td>0.513217</td>\n",
       "    </tr>\n",
       "    <tr>\n",
       "      <th>2</th>\n",
       "      <td>9-12</td>\n",
       "      <td>0.659408</td>\n",
       "    </tr>\n",
       "    <tr>\n",
       "      <th>3</th>\n",
       "      <td>13-16</td>\n",
       "      <td>0.594093</td>\n",
       "    </tr>\n",
       "    <tr>\n",
       "      <th>4</th>\n",
       "      <td>17-20</td>\n",
       "      <td>0.698465</td>\n",
       "    </tr>\n",
       "    <tr>\n",
       "      <th>5</th>\n",
       "      <td>21-24</td>\n",
       "      <td>0.629850</td>\n",
       "    </tr>\n",
       "    <tr>\n",
       "      <th>6</th>\n",
       "      <td>25-28</td>\n",
       "      <td>0.657795</td>\n",
       "    </tr>\n",
       "  </tbody>\n",
       "</table>\n",
       "</div>"
      ]
     },
     "execution_count": 19,
     "metadata": {},
     "output_type": "execute_result"
    }
   ],
   "execution_count": 19
  },
  {
   "cell_type": "markdown",
   "source": [
    "### Count of student type per group"
   ],
   "metadata": {
    "collapsed": false
   },
   "id": "7c21d8f258c7efc0"
  },
  {
   "cell_type": "code",
   "source": [
    "demo_df = pd.read_csv('Menagerie/data/pre_study_survey.csv')\n",
    "demo_df = demo_df.iloc[2:]\n",
    "\n",
    "demo_df['group'] = demo_df['Q1'].astype(int).apply(apply_group)\n",
    "demo_df['group'] = pd.Categorical(demo_df['group'], ['1-4', '5-8', '9-12', '13-16', '17-20', '21-24', '25-28'])\n",
    "\n",
    "demo_df['Q5'] = demo_df['Q5'].str.replace('Other', \"Master's Student\")"
   ],
   "metadata": {
    "collapsed": false,
    "ExecuteTime": {
     "end_time": "2025-03-04T17:30:30.019990Z",
     "start_time": "2025-03-04T17:30:30.014775Z"
    }
   },
   "id": "3d45efb7a8781fe2",
   "outputs": [],
   "execution_count": 20
  },
  {
   "cell_type": "code",
   "source": [
    "demo_plt = sns.countplot(demo_df, y='group', hue='Q5')\n",
    "hatches = ['//', 'x', '\\\\']\n",
    "colors = [grey, teal, blue]\n",
    "styles = zip(hatches, colors)\n",
    "\n",
    "\n",
    "for style, these_bars in zip(styles, demo_plt.containers):\n",
    "    for this_bar in these_bars:\n",
    "        this_bar.set_hatch(3 * style[0])\n",
    "        this_bar.set_facecolor(style[1])\n",
    "        this_bar.set_edgecolor('black')\n",
    "\n",
    "handles = demo_plt.get_legend_handles_labels()[0]\n",
    "\n",
    "for i in range(len(handles)):\n",
    "    handles[i].set_facecolor(colors[i])\n",
    "    handles[i].set_hatch(3 * hatches[i])\n",
    "    handles[i].set_edgecolor('black')\n",
    "    \n",
    "demo_plt.legend(title='Degree Level')\n",
    "demo_plt.set_xticks(range(5))\n",
    "demo_plt.get_figure().savefig('plots/group_degree_level.pdf', bbox_inches='tight')"
   ],
   "metadata": {
    "collapsed": false,
    "ExecuteTime": {
     "end_time": "2025-03-04T17:30:30.271027Z",
     "start_time": "2025-03-04T17:30:30.088220Z"
    }
   },
   "id": "3af37058ef3406c6",
   "outputs": [
    {
     "data": {
      "text/plain": [
       "<Figure size 640x480 with 1 Axes>"
      ],
      "image/png": "[encoded data removed]"
     },
     "metadata": {},
     "output_type": "display_data"
    }
   ],
   "execution_count": 21
  },
  {
   "cell_type": "code",
   "source": [
    "demo_plt = sns.countplot(demo_df, y='group', hue='Q5')\n",
    "hatches = ['//', 'x', '\\\\']\n",
    "colors = [grey, teal, blue]\n",
    "styles = zip(hatches, colors)\n",
    "\n",
    "\n",
    "for style, these_bars in zip(styles, demo_plt.containers):\n",
    "    for this_bar in these_bars:\n",
    "        this_bar.set_hatch(3 * style[0])\n",
    "        this_bar.set_facecolor(style[1])\n",
    "        this_bar.set_edgecolor('black')\n",
    "\n",
    "handles = demo_plt.get_legend_handles_labels()[0]\n",
    "\n",
    "for i in range(len(handles)):\n",
    "    handles[i].set_facecolor(colors[i])\n",
    "    handles[i].set_hatch(3 * hatches[i])\n",
    "    handles[i].set_edgecolor('black')\n",
    "\n",
    "demo_plt.legend(title='Degree Level')\n",
    "demo_plt.set_xticks(range(5))\n",
    "demo_plt.get_figure().savefig('plots/group_degree_level.pdf', bbox_inches='tight')"
   ],
   "metadata": {
    "collapsed": false,
    "ExecuteTime": {
     "end_time": "2025-03-04T17:30:30.552200Z",
     "start_time": "2025-03-04T17:30:30.369001Z"
    }
   },
   "id": "6721080343c920a3",
   "outputs": [
    {
     "data": {
      "text/plain": [
       "<Figure size 640x480 with 1 Axes>"
      ],
      "image/png": "[encoded data removed]"
     },
     "metadata": {},
     "output_type": "display_data"
    }
   ],
   "execution_count": 22
  },
  {
   "cell_type": "markdown",
   "source": [
    "## Distance between grades"
   ],
   "metadata": {
    "collapsed": false
   },
   "id": "92c8ca656113b60a"
  },
  {
   "cell_type": "code",
   "source": [
    "def get_grade(df, grade_col, group, skill, assignment_number, participant_id):\n",
    "    grade = df[(df['group'] == group) &\n",
    "                         (df['skill'] == skill) &\n",
    "                         (df['assignment_number'] == assignment_number) &\n",
    "                         (df['participant_id'] == participant_id)][grade_col]\n",
    "\n",
    "    if grade.empty:\n",
    "        return None\n",
    "    return grade"
   ],
   "metadata": {
    "collapsed": false,
    "ExecuteTime": {
     "end_time": "2025-03-04T17:30:30.594462Z",
     "start_time": "2025-03-04T17:30:30.591949Z"
    }
   },
   "id": "7d761e43d18d87c4",
   "outputs": [],
   "execution_count": 23
  },
  {
   "cell_type": "code",
   "source": [
    "def generate_grade_pairs(df, grade_col, group, skill, assignment_number):\n",
    "    group_bounds = group.split('-')\n",
    "    pairs = combinations(range(int(group_bounds[0]), int(group_bounds[1]) + 1), r=2)\n",
    "    \n",
    "    grade_pairs_df = None\n",
    "    \n",
    "    \n",
    "    for idx, pair in enumerate(pairs):\n",
    "        grade_1 = get_grade(df, grade_col, group, skill, assignment_number, pair[0])\n",
    "        grade_2 = get_grade(df, grade_col, group, skill,assignment_number, pair[1])\n",
    "    \n",
    "        if grade_pairs_df is None:\n",
    "            grade_pairs_df = pd.DataFrame({'group': group,\n",
    "                                              'skill': skill,\n",
    "                                              'assignment_number': assignment_number,\n",
    "                                              'participant_id_1': pair[0],\n",
    "                                              'participant_id_2': pair[1],\n",
    "                                              'grade_1': grade_1,\n",
    "                                              'grade_2': grade_2\n",
    "                                              }, index=[idx])\n",
    "        else:\n",
    "            grade_pairs_df = pd.concat([\n",
    "                grade_pairs_df,\n",
    "                pd.DataFrame({'group': group, 'assignment_number': assignment_number, 'skill': skill,\n",
    "                              'participant_id_1': pair[0],\n",
    "                              'participant_id_2': pair[1],\n",
    "                              'grade_1': grade_1,\n",
    "                              'grade_2': grade_2\n",
    "                              }, index=[idx])]\n",
    "            )\n",
    "\n",
    "\n",
    "    grade_pairs_df['group'] = pd.Categorical(grade_pairs_df['group'], ['1-4', '5-8', '9-12', '13-16', '17-20', '21-24', '25-28'])\n",
    "    return grade_pairs_df\n",
    "        "
   ],
   "metadata": {
    "collapsed": false,
    "ExecuteTime": {
     "end_time": "2025-03-04T17:30:30.617257Z",
     "start_time": "2025-03-04T17:30:30.613548Z"
    }
   },
   "id": "53bc54f95053b992",
   "outputs": [],
   "execution_count": 24
  },
  {
   "cell_type": "code",
   "source": [
    "def get_distance_df(df, grade_col):\n",
    "    dist_df = None\n",
    "    \n",
    "    for group in tqdm(df['group'].unique()):\n",
    "        for skill in df['skill'].unique():\n",
    "            for n in df[(df['group'] == group) &\n",
    "                               (df['skill'] == skill)]['assignment_number'].unique():\n",
    "                if  dist_df is None:\n",
    "                    dist_df = generate_grade_pairs(df, grade_col, group, skill, n)\n",
    "                else:\n",
    "                    dist_df = pd.concat([dist_df, generate_grade_pairs(df, grade_col, group, skill, n)])\n",
    "    \n",
    "    dist_df = dist_df.dropna()\n",
    "    dist_df['grade_1_code'] = dist_df['grade_1'].cat.codes\n",
    "    dist_df['grade_2_code'] = dist_df['grade_2'].cat.codes\n",
    "    dist_df['distance'] = abs(dist_df['grade_1_code'] - dist_df['grade_2_code'])\n",
    "    \n",
    "    return dist_df\n",
    "            "
   ],
   "metadata": {
    "collapsed": false,
    "ExecuteTime": {
     "end_time": "2025-03-04T17:30:30.632068Z",
     "start_time": "2025-03-04T17:30:30.629132Z"
    }
   },
   "id": "51e9a408c53fa93f",
   "outputs": [],
   "execution_count": 25
  },
  {
   "cell_type": "markdown",
   "source": [
    "#### Boxplot"
   ],
   "metadata": {
    "collapsed": false
   },
   "id": "a6f184978c689699"
  },
  {
   "cell_type": "markdown",
   "source": [
    "##### Fine"
   ],
   "metadata": {
    "collapsed": false
   },
   "id": "960ce19f85adb7bf"
  },
  {
   "cell_type": "code",
   "source": [
    "fine_dist_df = get_distance_df(grade_df, 'grade').sort_values(by='group')\n",
    "g = sns.boxplot(fine_dist_df, y='skill', x='distance', hue='group', palette=color_palette)\n",
    "g.set(xlabel='Distance Between Grades', ylabel='Skill')\n",
    "g.get_figure().savefig('plots/fine_grade_distance.pdf', bbox_inches='tight')"
   ],
   "metadata": {
    "collapsed": false,
    "ExecuteTime": {
     "end_time": "2025-03-04T17:30:40.938350Z",
     "start_time": "2025-03-04T17:30:30.647884Z"
    }
   },
   "id": "4d45282746f1be8c",
   "outputs": [
    {
     "name": "stderr",
     "output_type": "stream",
     "text": [
      " 29%|██▊       | 2/7 [00:02<00:06,  1.37s/it]/var/folders/1y/6byzw1px62g2f5w7p_rhb6kh0000gn/T/ipykernel_82809/3626878353.py:11: FutureWarning: The behavior of DataFrame concatenation with empty or all-NA entries is deprecated. In a future version, this will no longer exclude empty or all-NA columns when determining the result dtypes. To retain the old behavior, exclude the relevant entries before the concat operation.\n",
      "  dist_df = pd.concat([dist_df, generate_grade_pairs(df, grade_col, group, skill, n)])\n",
      " 43%|████▎     | 3/7 [00:04<00:05,  1.37s/it]/var/folders/1y/6byzw1px62g2f5w7p_rhb6kh0000gn/T/ipykernel_82809/3626878353.py:11: FutureWarning: The behavior of DataFrame concatenation with empty or all-NA entries is deprecated. In a future version, this will no longer exclude empty or all-NA columns when determining the result dtypes. To retain the old behavior, exclude the relevant entries before the concat operation.\n",
      "  dist_df = pd.concat([dist_df, generate_grade_pairs(df, grade_col, group, skill, n)])\n",
      " 71%|███████▏  | 5/7 [00:07<00:02,  1.43s/it]/var/folders/1y/6byzw1px62g2f5w7p_rhb6kh0000gn/T/ipykernel_82809/195055873.py:22: FutureWarning: The behavior of DataFrame concatenation with empty or all-NA entries is deprecated. In a future version, this will no longer exclude empty or all-NA columns when determining the result dtypes. To retain the old behavior, exclude the relevant entries before the concat operation.\n",
      "  grade_pairs_df = pd.concat([\n",
      "/var/folders/1y/6byzw1px62g2f5w7p_rhb6kh0000gn/T/ipykernel_82809/3626878353.py:11: FutureWarning: The behavior of DataFrame concatenation with empty or all-NA entries is deprecated. In a future version, this will no longer exclude empty or all-NA columns when determining the result dtypes. To retain the old behavior, exclude the relevant entries before the concat operation.\n",
      "  dist_df = pd.concat([dist_df, generate_grade_pairs(df, grade_col, group, skill, n)])\n",
      "/var/folders/1y/6byzw1px62g2f5w7p_rhb6kh0000gn/T/ipykernel_82809/3626878353.py:11: FutureWarning: The behavior of DataFrame concatenation with empty or all-NA entries is deprecated. In a future version, this will no longer exclude empty or all-NA columns when determining the result dtypes. To retain the old behavior, exclude the relevant entries before the concat operation.\n",
      "  dist_df = pd.concat([dist_df, generate_grade_pairs(df, grade_col, group, skill, n)])\n",
      "/var/folders/1y/6byzw1px62g2f5w7p_rhb6kh0000gn/T/ipykernel_82809/3626878353.py:11: FutureWarning: The behavior of DataFrame concatenation with empty or all-NA entries is deprecated. In a future version, this will no longer exclude empty or all-NA columns when determining the result dtypes. To retain the old behavior, exclude the relevant entries before the concat operation.\n",
      "  dist_df = pd.concat([dist_df, generate_grade_pairs(df, grade_col, group, skill, n)])\n",
      "/var/folders/1y/6byzw1px62g2f5w7p_rhb6kh0000gn/T/ipykernel_82809/3626878353.py:11: FutureWarning: The behavior of DataFrame concatenation with empty or all-NA entries is deprecated. In a future version, this will no longer exclude empty or all-NA columns when determining the result dtypes. To retain the old behavior, exclude the relevant entries before the concat operation.\n",
      "  dist_df = pd.concat([dist_df, generate_grade_pairs(df, grade_col, group, skill, n)])\n",
      "/var/folders/1y/6byzw1px62g2f5w7p_rhb6kh0000gn/T/ipykernel_82809/3626878353.py:11: FutureWarning: The behavior of DataFrame concatenation with empty or all-NA entries is deprecated. In a future version, this will no longer exclude empty or all-NA columns when determining the result dtypes. To retain the old behavior, exclude the relevant entries before the concat operation.\n",
      "  dist_df = pd.concat([dist_df, generate_grade_pairs(df, grade_col, group, skill, n)])\n",
      "/var/folders/1y/6byzw1px62g2f5w7p_rhb6kh0000gn/T/ipykernel_82809/195055873.py:22: FutureWarning: The behavior of DataFrame concatenation with empty or all-NA entries is deprecated. In a future version, this will no longer exclude empty or all-NA columns when determining the result dtypes. To retain the old behavior, exclude the relevant entries before the concat operation.\n",
      "  grade_pairs_df = pd.concat([\n",
      "/var/folders/1y/6byzw1px62g2f5w7p_rhb6kh0000gn/T/ipykernel_82809/3626878353.py:11: FutureWarning: The behavior of DataFrame concatenation with empty or all-NA entries is deprecated. In a future version, this will no longer exclude empty or all-NA columns when determining the result dtypes. To retain the old behavior, exclude the relevant entries before the concat operation.\n",
      "  dist_df = pd.concat([dist_df, generate_grade_pairs(df, grade_col, group, skill, n)])\n",
      "/var/folders/1y/6byzw1px62g2f5w7p_rhb6kh0000gn/T/ipykernel_82809/195055873.py:22: FutureWarning: The behavior of DataFrame concatenation with empty or all-NA entries is deprecated. In a future version, this will no longer exclude empty or all-NA columns when determining the result dtypes. To retain the old behavior, exclude the relevant entries before the concat operation.\n",
      "  grade_pairs_df = pd.concat([\n",
      "/var/folders/1y/6byzw1px62g2f5w7p_rhb6kh0000gn/T/ipykernel_82809/3626878353.py:11: FutureWarning: The behavior of DataFrame concatenation with empty or all-NA entries is deprecated. In a future version, this will no longer exclude empty or all-NA columns when determining the result dtypes. To retain the old behavior, exclude the relevant entries before the concat operation.\n",
      "  dist_df = pd.concat([dist_df, generate_grade_pairs(df, grade_col, group, skill, n)])\n",
      "/var/folders/1y/6byzw1px62g2f5w7p_rhb6kh0000gn/T/ipykernel_82809/3626878353.py:11: FutureWarning: The behavior of DataFrame concatenation with empty or all-NA entries is deprecated. In a future version, this will no longer exclude empty or all-NA columns when determining the result dtypes. To retain the old behavior, exclude the relevant entries before the concat operation.\n",
      "  dist_df = pd.concat([dist_df, generate_grade_pairs(df, grade_col, group, skill, n)])\n",
      "/var/folders/1y/6byzw1px62g2f5w7p_rhb6kh0000gn/T/ipykernel_82809/3626878353.py:11: FutureWarning: The behavior of DataFrame concatenation with empty or all-NA entries is deprecated. In a future version, this will no longer exclude empty or all-NA columns when determining the result dtypes. To retain the old behavior, exclude the relevant entries before the concat operation.\n",
      "  dist_df = pd.concat([dist_df, generate_grade_pairs(df, grade_col, group, skill, n)])\n",
      "/var/folders/1y/6byzw1px62g2f5w7p_rhb6kh0000gn/T/ipykernel_82809/3626878353.py:11: FutureWarning: The behavior of DataFrame concatenation with empty or all-NA entries is deprecated. In a future version, this will no longer exclude empty or all-NA columns when determining the result dtypes. To retain the old behavior, exclude the relevant entries before the concat operation.\n",
      "  dist_df = pd.concat([dist_df, generate_grade_pairs(df, grade_col, group, skill, n)])\n",
      "/var/folders/1y/6byzw1px62g2f5w7p_rhb6kh0000gn/T/ipykernel_82809/3626878353.py:11: FutureWarning: The behavior of DataFrame concatenation with empty or all-NA entries is deprecated. In a future version, this will no longer exclude empty or all-NA columns when determining the result dtypes. To retain the old behavior, exclude the relevant entries before the concat operation.\n",
      "  dist_df = pd.concat([dist_df, generate_grade_pairs(df, grade_col, group, skill, n)])\n",
      "/var/folders/1y/6byzw1px62g2f5w7p_rhb6kh0000gn/T/ipykernel_82809/3626878353.py:11: FutureWarning: The behavior of DataFrame concatenation with empty or all-NA entries is deprecated. In a future version, this will no longer exclude empty or all-NA columns when determining the result dtypes. To retain the old behavior, exclude the relevant entries before the concat operation.\n",
      "  dist_df = pd.concat([dist_df, generate_grade_pairs(df, grade_col, group, skill, n)])\n",
      "/var/folders/1y/6byzw1px62g2f5w7p_rhb6kh0000gn/T/ipykernel_82809/3626878353.py:11: FutureWarning: The behavior of DataFrame concatenation with empty or all-NA entries is deprecated. In a future version, this will no longer exclude empty or all-NA columns when determining the result dtypes. To retain the old behavior, exclude the relevant entries before the concat operation.\n",
      "  dist_df = pd.concat([dist_df, generate_grade_pairs(df, grade_col, group, skill, n)])\n",
      "/var/folders/1y/6byzw1px62g2f5w7p_rhb6kh0000gn/T/ipykernel_82809/3626878353.py:11: FutureWarning: The behavior of DataFrame concatenation with empty or all-NA entries is deprecated. In a future version, this will no longer exclude empty or all-NA columns when determining the result dtypes. To retain the old behavior, exclude the relevant entries before the concat operation.\n",
      "  dist_df = pd.concat([dist_df, generate_grade_pairs(df, grade_col, group, skill, n)])\n",
      "/var/folders/1y/6byzw1px62g2f5w7p_rhb6kh0000gn/T/ipykernel_82809/3626878353.py:11: FutureWarning: The behavior of DataFrame concatenation with empty or all-NA entries is deprecated. In a future version, this will no longer exclude empty or all-NA columns when determining the result dtypes. To retain the old behavior, exclude the relevant entries before the concat operation.\n",
      "  dist_df = pd.concat([dist_df, generate_grade_pairs(df, grade_col, group, skill, n)])\n",
      " 86%|████████▌ | 6/7 [00:08<00:01,  1.40s/it]/var/folders/1y/6byzw1px62g2f5w7p_rhb6kh0000gn/T/ipykernel_82809/3626878353.py:11: FutureWarning: The behavior of DataFrame concatenation with empty or all-NA entries is deprecated. In a future version, this will no longer exclude empty or all-NA columns when determining the result dtypes. To retain the old behavior, exclude the relevant entries before the concat operation.\n",
      "  dist_df = pd.concat([dist_df, generate_grade_pairs(df, grade_col, group, skill, n)])\n",
      "/var/folders/1y/6byzw1px62g2f5w7p_rhb6kh0000gn/T/ipykernel_82809/3626878353.py:11: FutureWarning: The behavior of DataFrame concatenation with empty or all-NA entries is deprecated. In a future version, this will no longer exclude empty or all-NA columns when determining the result dtypes. To retain the old behavior, exclude the relevant entries before the concat operation.\n",
      "  dist_df = pd.concat([dist_df, generate_grade_pairs(df, grade_col, group, skill, n)])\n",
      "100%|██████████| 7/7 [00:09<00:00,  1.41s/it]\n"
     ]
    },
    {
     "data": {
      "text/plain": [
       "<Figure size 640x480 with 1 Axes>"
      ],
      "image/png": "[encoded data removed]"
     },
     "metadata": {},
     "output_type": "display_data"
    }
   ],
   "execution_count": 26
  },
  {
   "cell_type": "code",
   "source": [
    "fine_dist_df.groupby('skill')['distance'].mean()"
   ],
   "metadata": {
    "collapsed": false,
    "ExecuteTime": {
     "end_time": "2025-03-04T17:30:40.970556Z",
     "start_time": "2025-03-04T17:30:40.965472Z"
    }
   },
   "id": "d11936bcb33a2c79",
   "outputs": [
    {
     "data": {
      "text/plain": [
       "skill\n",
       "Code Elegance    2.385542\n",
       "Correctness      2.313253\n",
       "Documentation    2.162500\n",
       "Readability      1.927711\n",
       "Name: distance, dtype: float64"
      ]
     },
     "execution_count": 27,
     "metadata": {},
     "output_type": "execute_result"
    }
   ],
   "execution_count": 27
  },
  {
   "cell_type": "markdown",
   "source": [
    "# Intra-Rater Relability"
   ],
   "metadata": {
    "collapsed": false
   },
   "id": "a06939c5e3721d90"
  },
  {
   "cell_type": "code",
   "source": [
    "DUPLICATE_MAP = {\n",
    "    680: 144,\n",
    "    681: 559,\n",
    "    682: 97,\n",
    "    683: 358,\n",
    "    684: 389,\n",
    "    685: 160,\n",
    "    686: 176\n",
    "}"
   ],
   "metadata": {
    "collapsed": false,
    "ExecuteTime": {
     "end_time": "2025-03-04T17:30:40.984572Z",
     "start_time": "2025-03-04T17:30:40.982610Z"
    }
   },
   "id": "5e76b57c5a66b2ba",
   "outputs": [],
   "execution_count": 28
  },
  {
   "cell_type": "code",
   "source": [
    "intra_rater_df = grade_df[grade_df['assignment_number'].isin(list(DUPLICATE_MAP.keys())+list(DUPLICATE_MAP.values()))][['assignment_number', 'skill', 'participant_id', 'batch', 'grade']]\n",
    "intra_rater_df = intra_rater_df.sort_values('grade')\n",
    "intra_rater_df"
   ],
   "metadata": {
    "collapsed": false,
    "ExecuteTime": {
     "end_time": "2025-03-04T17:30:41.045785Z",
     "start_time": "2025-03-04T17:30:41.035559Z"
    }
   },
   "id": "d0b8d98728fa1adc",
   "outputs": [
    {
     "data": {
      "text/plain": [
       "    assignment_number          skill  participant_id  batch grade\n",
       "7               680.0    Readability               3      2   A++\n",
       "4               681.0    Correctness               7      2   A++\n",
       "12              358.0    Correctness              14      1   A++\n",
       "19              683.0  Documentation              14      2   A++\n",
       "19              683.0  Code Elegance              14      2   A++\n",
       "..                ...            ...             ...    ...   ...\n",
       "14              682.0  Code Elegance              10      2     F\n",
       "7                97.0  Code Elegance              10      1     F\n",
       "14              682.0    Correctness              10      2     F\n",
       "7                97.0    Readability              10      1     F\n",
       "14              682.0  Documentation              10      2     F\n",
       "\n",
       "[223 rows x 5 columns]"
      ],
      "text/html": [
       "<div>\n",
       "<style scoped>\n",
       "    .dataframe tbody tr th:only-of-type {\n",
       "        vertical-align: middle;\n",
       "    }\n",
       "\n",
       "    .dataframe tbody tr th {\n",
       "        vertical-align: top;\n",
       "    }\n",
       "\n",
       "    .dataframe thead th {\n",
       "        text-align: right;\n",
       "    }\n",
       "</style>\n",
       "<table border=\"1\" class=\"dataframe\">\n",
       "  <thead>\n",
       "    <tr style=\"text-align: right;\">\n",
       "      <th></th>\n",
       "      <th>assignment_number</th>\n",
       "      <th>skill</th>\n",
       "      <th>participant_id</th>\n",
       "      <th>batch</th>\n",
       "      <th>grade</th>\n",
       "    </tr>\n",
       "  </thead>\n",
       "  <tbody>\n",
       "    <tr>\n",
       "      <th>7</th>\n",
       "      <td>680.0</td>\n",
       "      <td>Readability</td>\n",
       "      <td>3</td>\n",
       "      <td>2</td>\n",
       "      <td>A++</td>\n",
       "    </tr>\n",
       "    <tr>\n",
       "      <th>4</th>\n",
       "      <td>681.0</td>\n",
       "      <td>Correctness</td>\n",
       "      <td>7</td>\n",
       "      <td>2</td>\n",
       "      <td>A++</td>\n",
       "    </tr>\n",
       "    <tr>\n",
       "      <th>12</th>\n",
       "      <td>358.0</td>\n",
       "      <td>Correctness</td>\n",
       "      <td>14</td>\n",
       "      <td>1</td>\n",
       "      <td>A++</td>\n",
       "    </tr>\n",
       "    <tr>\n",
       "      <th>19</th>\n",
       "      <td>683.0</td>\n",
       "      <td>Documentation</td>\n",
       "      <td>14</td>\n",
       "      <td>2</td>\n",
       "      <td>A++</td>\n",
       "    </tr>\n",
       "    <tr>\n",
       "      <th>19</th>\n",
       "      <td>683.0</td>\n",
       "      <td>Code Elegance</td>\n",
       "      <td>14</td>\n",
       "      <td>2</td>\n",
       "      <td>A++</td>\n",
       "    </tr>\n",
       "    <tr>\n",
       "      <th>...</th>\n",
       "      <td>...</td>\n",
       "      <td>...</td>\n",
       "      <td>...</td>\n",
       "      <td>...</td>\n",
       "      <td>...</td>\n",
       "    </tr>\n",
       "    <tr>\n",
       "      <th>14</th>\n",
       "      <td>682.0</td>\n",
       "      <td>Code Elegance</td>\n",
       "      <td>10</td>\n",
       "      <td>2</td>\n",
       "      <td>F</td>\n",
       "    </tr>\n",
       "    <tr>\n",
       "      <th>7</th>\n",
       "      <td>97.0</td>\n",
       "      <td>Code Elegance</td>\n",
       "      <td>10</td>\n",
       "      <td>1</td>\n",
       "      <td>F</td>\n",
       "    </tr>\n",
       "    <tr>\n",
       "      <th>14</th>\n",
       "      <td>682.0</td>\n",
       "      <td>Correctness</td>\n",
       "      <td>10</td>\n",
       "      <td>2</td>\n",
       "      <td>F</td>\n",
       "    </tr>\n",
       "    <tr>\n",
       "      <th>7</th>\n",
       "      <td>97.0</td>\n",
       "      <td>Readability</td>\n",
       "      <td>10</td>\n",
       "      <td>1</td>\n",
       "      <td>F</td>\n",
       "    </tr>\n",
       "    <tr>\n",
       "      <th>14</th>\n",
       "      <td>682.0</td>\n",
       "      <td>Documentation</td>\n",
       "      <td>10</td>\n",
       "      <td>2</td>\n",
       "      <td>F</td>\n",
       "    </tr>\n",
       "  </tbody>\n",
       "</table>\n",
       "<p>223 rows × 5 columns</p>\n",
       "</div>"
      ]
     },
     "execution_count": 29,
     "metadata": {},
     "output_type": "execute_result"
    }
   ],
   "execution_count": 29
  },
  {
   "cell_type": "markdown",
   "source": [
    "### Map replacement IDs to original IDs"
   ],
   "metadata": {
    "collapsed": false
   },
   "id": "deba18127852af0e"
  },
  {
   "cell_type": "code",
   "source": [
    "intra_rater_df['assignment_number'] = intra_rater_df['assignment_number'].apply(lambda x: x if x not in DUPLICATE_MAP.keys() else DUPLICATE_MAP[x])\n",
    "intra_rater_df['grade_code'] = intra_rater_df['grade'].cat.codes\n",
    "intra_rater_df"
   ],
   "metadata": {
    "collapsed": false,
    "ExecuteTime": {
     "end_time": "2025-03-04T17:30:41.149474Z",
     "start_time": "2025-03-04T17:30:41.142096Z"
    }
   },
   "id": "93ffd69d9ea24953",
   "outputs": [
    {
     "data": {
      "text/plain": [
       "    assignment_number          skill  participant_id  batch grade  grade_code\n",
       "7               144.0    Readability               3      2   A++           0\n",
       "4               559.0    Correctness               7      2   A++           0\n",
       "12              358.0    Correctness              14      1   A++           0\n",
       "19              358.0  Documentation              14      2   A++           0\n",
       "19              358.0  Code Elegance              14      2   A++           0\n",
       "..                ...            ...             ...    ...   ...         ...\n",
       "14               97.0  Code Elegance              10      2     F          13\n",
       "7                97.0  Code Elegance              10      1     F          13\n",
       "14               97.0    Correctness              10      2     F          13\n",
       "7                97.0    Readability              10      1     F          13\n",
       "14               97.0  Documentation              10      2     F          13\n",
       "\n",
       "[223 rows x 6 columns]"
      ],
      "text/html": [
       "<div>\n",
       "<style scoped>\n",
       "    .dataframe tbody tr th:only-of-type {\n",
       "        vertical-align: middle;\n",
       "    }\n",
       "\n",
       "    .dataframe tbody tr th {\n",
       "        vertical-align: top;\n",
       "    }\n",
       "\n",
       "    .dataframe thead th {\n",
       "        text-align: right;\n",
       "    }\n",
       "</style>\n",
       "<table border=\"1\" class=\"dataframe\">\n",
       "  <thead>\n",
       "    <tr style=\"text-align: right;\">\n",
       "      <th></th>\n",
       "      <th>assignment_number</th>\n",
       "      <th>skill</th>\n",
       "      <th>participant_id</th>\n",
       "      <th>batch</th>\n",
       "      <th>grade</th>\n",
       "      <th>grade_code</th>\n",
       "    </tr>\n",
       "  </thead>\n",
       "  <tbody>\n",
       "    <tr>\n",
       "      <th>7</th>\n",
       "      <td>144.0</td>\n",
       "      <td>Readability</td>\n",
       "      <td>3</td>\n",
       "      <td>2</td>\n",
       "      <td>A++</td>\n",
       "      <td>0</td>\n",
       "    </tr>\n",
       "    <tr>\n",
       "      <th>4</th>\n",
       "      <td>559.0</td>\n",
       "      <td>Correctness</td>\n",
       "      <td>7</td>\n",
       "      <td>2</td>\n",
       "      <td>A++</td>\n",
       "      <td>0</td>\n",
       "    </tr>\n",
       "    <tr>\n",
       "      <th>12</th>\n",
       "      <td>358.0</td>\n",
       "      <td>Correctness</td>\n",
       "      <td>14</td>\n",
       "      <td>1</td>\n",
       "      <td>A++</td>\n",
       "      <td>0</td>\n",
       "    </tr>\n",
       "    <tr>\n",
       "      <th>19</th>\n",
       "      <td>358.0</td>\n",
       "      <td>Documentation</td>\n",
       "      <td>14</td>\n",
       "      <td>2</td>\n",
       "      <td>A++</td>\n",
       "      <td>0</td>\n",
       "    </tr>\n",
       "    <tr>\n",
       "      <th>19</th>\n",
       "      <td>358.0</td>\n",
       "      <td>Code Elegance</td>\n",
       "      <td>14</td>\n",
       "      <td>2</td>\n",
       "      <td>A++</td>\n",
       "      <td>0</td>\n",
       "    </tr>\n",
       "    <tr>\n",
       "      <th>...</th>\n",
       "      <td>...</td>\n",
       "      <td>...</td>\n",
       "      <td>...</td>\n",
       "      <td>...</td>\n",
       "      <td>...</td>\n",
       "      <td>...</td>\n",
       "    </tr>\n",
       "    <tr>\n",
       "      <th>14</th>\n",
       "      <td>97.0</td>\n",
       "      <td>Code Elegance</td>\n",
       "      <td>10</td>\n",
       "      <td>2</td>\n",
       "      <td>F</td>\n",
       "      <td>13</td>\n",
       "    </tr>\n",
       "    <tr>\n",
       "      <th>7</th>\n",
       "      <td>97.0</td>\n",
       "      <td>Code Elegance</td>\n",
       "      <td>10</td>\n",
       "      <td>1</td>\n",
       "      <td>F</td>\n",
       "      <td>13</td>\n",
       "    </tr>\n",
       "    <tr>\n",
       "      <th>14</th>\n",
       "      <td>97.0</td>\n",
       "      <td>Correctness</td>\n",
       "      <td>10</td>\n",
       "      <td>2</td>\n",
       "      <td>F</td>\n",
       "      <td>13</td>\n",
       "    </tr>\n",
       "    <tr>\n",
       "      <th>7</th>\n",
       "      <td>97.0</td>\n",
       "      <td>Readability</td>\n",
       "      <td>10</td>\n",
       "      <td>1</td>\n",
       "      <td>F</td>\n",
       "      <td>13</td>\n",
       "    </tr>\n",
       "    <tr>\n",
       "      <th>14</th>\n",
       "      <td>97.0</td>\n",
       "      <td>Documentation</td>\n",
       "      <td>10</td>\n",
       "      <td>2</td>\n",
       "      <td>F</td>\n",
       "      <td>13</td>\n",
       "    </tr>\n",
       "  </tbody>\n",
       "</table>\n",
       "<p>223 rows × 6 columns</p>\n",
       "</div>"
      ]
     },
     "execution_count": 30,
     "metadata": {},
     "output_type": "execute_result"
    }
   ],
   "execution_count": 30
  },
  {
   "cell_type": "code",
   "source": [
    "pivot = intra_rater_df.pivot(index=['assignment_number', 'skill', 'participant_id'], columns='batch', values='grade').reset_index()\n",
    "pivot.columns = ['assignment_number', 'skill', 'participant_id', 'grade_1', 'grade_2']\n",
    "pivot"
   ],
   "metadata": {
    "collapsed": false,
    "ExecuteTime": {
     "end_time": "2025-03-04T17:30:41.252300Z",
     "start_time": "2025-03-04T17:30:41.243508Z"
    }
   },
   "id": "ef9783f655683532",
   "outputs": [
    {
     "data": {
      "text/plain": [
       "     assignment_number          skill  participant_id grade_1 grade_2\n",
       "0                 97.0  Code Elegance               9      A-      B+\n",
       "1                 97.0  Code Elegance              10       F       F\n",
       "2                 97.0  Code Elegance              11      A-      A+\n",
       "3                 97.0  Code Elegance              12      A-       B\n",
       "4                 97.0    Correctness               9      B+       A\n",
       "..                 ...            ...             ...     ...     ...\n",
       "107              559.0  Documentation               8       A       A\n",
       "108              559.0    Readability               5      A-      B+\n",
       "109              559.0    Readability               6      A-     A++\n",
       "110              559.0    Readability               7      A+      A+\n",
       "111              559.0    Readability               8      A+       A\n",
       "\n",
       "[112 rows x 5 columns]"
      ],
      "text/html": [
       "<div>\n",
       "<style scoped>\n",
       "    .dataframe tbody tr th:only-of-type {\n",
       "        vertical-align: middle;\n",
       "    }\n",
       "\n",
       "    .dataframe tbody tr th {\n",
       "        vertical-align: top;\n",
       "    }\n",
       "\n",
       "    .dataframe thead th {\n",
       "        text-align: right;\n",
       "    }\n",
       "</style>\n",
       "<table border=\"1\" class=\"dataframe\">\n",
       "  <thead>\n",
       "    <tr style=\"text-align: right;\">\n",
       "      <th></th>\n",
       "      <th>assignment_number</th>\n",
       "      <th>skill</th>\n",
       "      <th>participant_id</th>\n",
       "      <th>grade_1</th>\n",
       "      <th>grade_2</th>\n",
       "    </tr>\n",
       "  </thead>\n",
       "  <tbody>\n",
       "    <tr>\n",
       "      <th>0</th>\n",
       "      <td>97.0</td>\n",
       "      <td>Code Elegance</td>\n",
       "      <td>9</td>\n",
       "      <td>A-</td>\n",
       "      <td>B+</td>\n",
       "    </tr>\n",
       "    <tr>\n",
       "      <th>1</th>\n",
       "      <td>97.0</td>\n",
       "      <td>Code Elegance</td>\n",
       "      <td>10</td>\n",
       "      <td>F</td>\n",
       "      <td>F</td>\n",
       "    </tr>\n",
       "    <tr>\n",
       "      <th>2</th>\n",
       "      <td>97.0</td>\n",
       "      <td>Code Elegance</td>\n",
       "      <td>11</td>\n",
       "      <td>A-</td>\n",
       "      <td>A+</td>\n",
       "    </tr>\n",
       "    <tr>\n",
       "      <th>3</th>\n",
       "      <td>97.0</td>\n",
       "      <td>Code Elegance</td>\n",
       "      <td>12</td>\n",
       "      <td>A-</td>\n",
       "      <td>B</td>\n",
       "    </tr>\n",
       "    <tr>\n",
       "      <th>4</th>\n",
       "      <td>97.0</td>\n",
       "      <td>Correctness</td>\n",
       "      <td>9</td>\n",
       "      <td>B+</td>\n",
       "      <td>A</td>\n",
       "    </tr>\n",
       "    <tr>\n",
       "      <th>...</th>\n",
       "      <td>...</td>\n",
       "      <td>...</td>\n",
       "      <td>...</td>\n",
       "      <td>...</td>\n",
       "      <td>...</td>\n",
       "    </tr>\n",
       "    <tr>\n",
       "      <th>107</th>\n",
       "      <td>559.0</td>\n",
       "      <td>Documentation</td>\n",
       "      <td>8</td>\n",
       "      <td>A</td>\n",
       "      <td>A</td>\n",
       "    </tr>\n",
       "    <tr>\n",
       "      <th>108</th>\n",
       "      <td>559.0</td>\n",
       "      <td>Readability</td>\n",
       "      <td>5</td>\n",
       "      <td>A-</td>\n",
       "      <td>B+</td>\n",
       "    </tr>\n",
       "    <tr>\n",
       "      <th>109</th>\n",
       "      <td>559.0</td>\n",
       "      <td>Readability</td>\n",
       "      <td>6</td>\n",
       "      <td>A-</td>\n",
       "      <td>A++</td>\n",
       "    </tr>\n",
       "    <tr>\n",
       "      <th>110</th>\n",
       "      <td>559.0</td>\n",
       "      <td>Readability</td>\n",
       "      <td>7</td>\n",
       "      <td>A+</td>\n",
       "      <td>A+</td>\n",
       "    </tr>\n",
       "    <tr>\n",
       "      <th>111</th>\n",
       "      <td>559.0</td>\n",
       "      <td>Readability</td>\n",
       "      <td>8</td>\n",
       "      <td>A+</td>\n",
       "      <td>A</td>\n",
       "    </tr>\n",
       "  </tbody>\n",
       "</table>\n",
       "<p>112 rows × 5 columns</p>\n",
       "</div>"
      ]
     },
     "execution_count": 31,
     "metadata": {},
     "output_type": "execute_result"
    }
   ],
   "execution_count": 31
  },
  {
   "cell_type": "markdown",
   "source": [
    "## Distance between grade notches"
   ],
   "metadata": {
    "collapsed": false
   },
   "id": "f238e2ab140d0f9f"
  },
  {
   "cell_type": "code",
   "source": [
    "pivot['grade_1_code'] = pivot['grade_1'].cat.codes\n",
    "pivot['grade_2_code'] = pivot['grade_2'].cat.codes\n",
    "pivot['distance'] = pivot['grade_1_code'] - pivot['grade_2_code']\n",
    "pivot"
   ],
   "metadata": {
    "collapsed": false,
    "ExecuteTime": {
     "end_time": "2025-03-04T17:30:41.344930Z",
     "start_time": "2025-03-04T17:30:41.338048Z"
    }
   },
   "id": "19521c1ef6c0436e",
   "outputs": [
    {
     "data": {
      "text/plain": [
       "     assignment_number          skill  participant_id grade_1 grade_2  \\\n",
       "0                 97.0  Code Elegance               9      A-      B+   \n",
       "1                 97.0  Code Elegance              10       F       F   \n",
       "2                 97.0  Code Elegance              11      A-      A+   \n",
       "3                 97.0  Code Elegance              12      A-       B   \n",
       "4                 97.0    Correctness               9      B+       A   \n",
       "..                 ...            ...             ...     ...     ...   \n",
       "107              559.0  Documentation               8       A       A   \n",
       "108              559.0    Readability               5      A-      B+   \n",
       "109              559.0    Readability               6      A-     A++   \n",
       "110              559.0    Readability               7      A+      A+   \n",
       "111              559.0    Readability               8      A+       A   \n",
       "\n",
       "     grade_1_code  grade_2_code  distance  \n",
       "0               3             4        -1  \n",
       "1              13            13         0  \n",
       "2               3             1         2  \n",
       "3               3             5        -2  \n",
       "4               4             2         2  \n",
       "..            ...           ...       ...  \n",
       "107             2             2         0  \n",
       "108             3             4        -1  \n",
       "109             3             0         3  \n",
       "110             1             1         0  \n",
       "111             1             2        -1  \n",
       "\n",
       "[112 rows x 8 columns]"
      ],
      "text/html": [
       "<div>\n",
       "<style scoped>\n",
       "    .dataframe tbody tr th:only-of-type {\n",
       "        vertical-align: middle;\n",
       "    }\n",
       "\n",
       "    .dataframe tbody tr th {\n",
       "        vertical-align: top;\n",
       "    }\n",
       "\n",
       "    .dataframe thead th {\n",
       "        text-align: right;\n",
       "    }\n",
       "</style>\n",
       "<table border=\"1\" class=\"dataframe\">\n",
       "  <thead>\n",
       "    <tr style=\"text-align: right;\">\n",
       "      <th></th>\n",
       "      <th>assignment_number</th>\n",
       "      <th>skill</th>\n",
       "      <th>participant_id</th>\n",
       "      <th>grade_1</th>\n",
       "      <th>grade_2</th>\n",
       "      <th>grade_1_code</th>\n",
       "      <th>grade_2_code</th>\n",
       "      <th>distance</th>\n",
       "    </tr>\n",
       "  </thead>\n",
       "  <tbody>\n",
       "    <tr>\n",
       "      <th>0</th>\n",
       "      <td>97.0</td>\n",
       "      <td>Code Elegance</td>\n",
       "      <td>9</td>\n",
       "      <td>A-</td>\n",
       "      <td>B+</td>\n",
       "      <td>3</td>\n",
       "      <td>4</td>\n",
       "      <td>-1</td>\n",
       "    </tr>\n",
       "    <tr>\n",
       "      <th>1</th>\n",
       "      <td>97.0</td>\n",
       "      <td>Code Elegance</td>\n",
       "      <td>10</td>\n",
       "      <td>F</td>\n",
       "      <td>F</td>\n",
       "      <td>13</td>\n",
       "      <td>13</td>\n",
       "      <td>0</td>\n",
       "    </tr>\n",
       "    <tr>\n",
       "      <th>2</th>\n",
       "      <td>97.0</td>\n",
       "      <td>Code Elegance</td>\n",
       "      <td>11</td>\n",
       "      <td>A-</td>\n",
       "      <td>A+</td>\n",
       "      <td>3</td>\n",
       "      <td>1</td>\n",
       "      <td>2</td>\n",
       "    </tr>\n",
       "    <tr>\n",
       "      <th>3</th>\n",
       "      <td>97.0</td>\n",
       "      <td>Code Elegance</td>\n",
       "      <td>12</td>\n",
       "      <td>A-</td>\n",
       "      <td>B</td>\n",
       "      <td>3</td>\n",
       "      <td>5</td>\n",
       "      <td>-2</td>\n",
       "    </tr>\n",
       "    <tr>\n",
       "      <th>4</th>\n",
       "      <td>97.0</td>\n",
       "      <td>Correctness</td>\n",
       "      <td>9</td>\n",
       "      <td>B+</td>\n",
       "      <td>A</td>\n",
       "      <td>4</td>\n",
       "      <td>2</td>\n",
       "      <td>2</td>\n",
       "    </tr>\n",
       "    <tr>\n",
       "      <th>...</th>\n",
       "      <td>...</td>\n",
       "      <td>...</td>\n",
       "      <td>...</td>\n",
       "      <td>...</td>\n",
       "      <td>...</td>\n",
       "      <td>...</td>\n",
       "      <td>...</td>\n",
       "      <td>...</td>\n",
       "    </tr>\n",
       "    <tr>\n",
       "      <th>107</th>\n",
       "      <td>559.0</td>\n",
       "      <td>Documentation</td>\n",
       "      <td>8</td>\n",
       "      <td>A</td>\n",
       "      <td>A</td>\n",
       "      <td>2</td>\n",
       "      <td>2</td>\n",
       "      <td>0</td>\n",
       "    </tr>\n",
       "    <tr>\n",
       "      <th>108</th>\n",
       "      <td>559.0</td>\n",
       "      <td>Readability</td>\n",
       "      <td>5</td>\n",
       "      <td>A-</td>\n",
       "      <td>B+</td>\n",
       "      <td>3</td>\n",
       "      <td>4</td>\n",
       "      <td>-1</td>\n",
       "    </tr>\n",
       "    <tr>\n",
       "      <th>109</th>\n",
       "      <td>559.0</td>\n",
       "      <td>Readability</td>\n",
       "      <td>6</td>\n",
       "      <td>A-</td>\n",
       "      <td>A++</td>\n",
       "      <td>3</td>\n",
       "      <td>0</td>\n",
       "      <td>3</td>\n",
       "    </tr>\n",
       "    <tr>\n",
       "      <th>110</th>\n",
       "      <td>559.0</td>\n",
       "      <td>Readability</td>\n",
       "      <td>7</td>\n",
       "      <td>A+</td>\n",
       "      <td>A+</td>\n",
       "      <td>1</td>\n",
       "      <td>1</td>\n",
       "      <td>0</td>\n",
       "    </tr>\n",
       "    <tr>\n",
       "      <th>111</th>\n",
       "      <td>559.0</td>\n",
       "      <td>Readability</td>\n",
       "      <td>8</td>\n",
       "      <td>A+</td>\n",
       "      <td>A</td>\n",
       "      <td>1</td>\n",
       "      <td>2</td>\n",
       "      <td>-1</td>\n",
       "    </tr>\n",
       "  </tbody>\n",
       "</table>\n",
       "<p>112 rows × 8 columns</p>\n",
       "</div>"
      ]
     },
     "execution_count": 32,
     "metadata": {},
     "output_type": "execute_result"
    }
   ],
   "execution_count": 32
  },
  {
   "cell_type": "code",
   "source": [
    "NOTICED_DUP = [1, 2, 10, 11, 20, 25]"
   ],
   "metadata": {
    "collapsed": false,
    "ExecuteTime": {
     "end_time": "2025-03-04T17:30:41.574877Z",
     "start_time": "2025-03-04T17:30:41.572048Z"
    }
   },
   "id": "98ce7bfed71f9e75",
   "outputs": [],
   "execution_count": 33
  },
  {
   "cell_type": "code",
   "source": [
    "sns.set(rc={'text.usetex': True})\n",
    "\n",
    "def underline(input):\n",
    "    return r'\\underline{%s}' %input\n",
    "\n",
    "underline(10)"
   ],
   "metadata": {
    "collapsed": false,
    "ExecuteTime": {
     "end_time": "2025-03-04T17:30:41.741685Z",
     "start_time": "2025-03-04T17:30:41.735248Z"
    }
   },
   "id": "f2b02586f49b5052",
   "outputs": [
    {
     "data": {
      "text/plain": [
       "'\\\\underline{10}'"
      ]
     },
     "execution_count": 34,
     "metadata": {},
     "output_type": "execute_result"
    }
   ],
   "execution_count": 34
  },
  {
   "cell_type": "code",
   "source": [
    "dist_plt = sns.scatterplot(intra_rater_df[intra_rater_df['skill'] == 'Correctness'], x='participant_id', y='grade', style='batch', hue='batch', palette=sns.color_palette([red, darkgreen]), markers=['+', 'x'], zorder=5)\n",
    "\n",
    "for index, row in intra_rater_df[intra_rater_df['skill'] == 'Correctness'].iterrows():\n",
    "    participant_id = row['participant_id']\n",
    "    grade_1_code = intra_rater_df[(intra_rater_df['skill'] == 'Correctness') & (intra_rater_df['participant_id'] == participant_id) & (intra_rater_df['batch'] == 1)]['grade_code']\n",
    "\n",
    "    grade_2_code = intra_rater_df[(intra_rater_df['skill'] == 'Correctness') & (intra_rater_df['participant_id'] == participant_id) & (intra_rater_df['batch'] == 2)]['grade_code']\n",
    "\n",
    "    line = dist_plt.plot([participant_id, participant_id], [grade_1_code, grade_2_code])\n",
    "    plt.setp(line, color=blue)\n",
    "\n",
    "dist_plt.set(ylabel='Grade', xlabel='Participant Number', title='Correctness', xticks=intra_rater_df['participant_id'].unique())\n",
    "dist_plt.legend(title='Batch')\n",
    "temp_ticks = dist_plt.get_xticks()\n",
    "temp_ticks = [underline(x) if x in NOTICED_DUP else x for x in temp_ticks]\n",
    "dist_plt.set_xticklabels(temp_ticks)\n",
    "\n",
    "dist_plt.get_figure().savefig('plots/correctness_distance.pdf', bbox_inches='tight')"
   ],
   "metadata": {
    "collapsed": false,
    "ExecuteTime": {
     "end_time": "2025-03-04T17:30:42.591400Z",
     "start_time": "2025-03-04T17:30:41.791619Z"
    }
   },
   "id": "96cef727c297a6df",
   "outputs": [
    {
     "data": {
      "text/plain": [
       "<Figure size 640x480 with 1 Axes>"
      ],
      "image/png": "[encoded data removed]"
     },
     "metadata": {},
     "output_type": "display_data"
    }
   ],
   "execution_count": 35
  },
  {
   "cell_type": "code",
   "source": [
    "pivot[pivot['skill'] == 'Correctness']['distance'].abs().mean()"
   ],
   "metadata": {
    "collapsed": false,
    "ExecuteTime": {
     "end_time": "2025-03-04T17:30:42.710381Z",
     "start_time": "2025-03-04T17:30:42.707183Z"
    }
   },
   "id": "46544ba374199b8e",
   "outputs": [
    {
     "data": {
      "text/plain": [
       "1.7857142857142858"
      ]
     },
     "execution_count": 36,
     "metadata": {},
     "output_type": "execute_result"
    }
   ],
   "execution_count": 36
  },
  {
   "cell_type": "code",
   "source": [
    "pivot[(pivot['skill'] == 'Correctness') & (pivot['distance'] == 0)]['participant_id']"
   ],
   "metadata": {
    "collapsed": false,
    "ExecuteTime": {
     "end_time": "2025-03-04T17:30:42.722534Z",
     "start_time": "2025-03-04T17:30:42.718345Z"
    }
   },
   "id": "8c88282a1f44d6e0",
   "outputs": [
    {
     "data": {
      "text/plain": [
       "5     10\n",
       "22     3\n",
       "69    14\n",
       "71    16\n",
       "85    18\n",
       "Name: participant_id, dtype: int64"
      ]
     },
     "execution_count": 37,
     "metadata": {},
     "output_type": "execute_result"
    }
   ],
   "execution_count": 37
  },
  {
   "cell_type": "code",
   "source": [
    "dist_plt = sns.scatterplot(intra_rater_df[intra_rater_df['skill'] == 'Code Elegance'], x='participant_id', y='grade', style='batch', hue='batch', palette=sns.color_palette([red, darkgreen]), markers=['+', 'x'], zorder=5)\n",
    "\n",
    "for index, row in intra_rater_df[intra_rater_df['skill'] == 'Code Elegance'].iterrows():\n",
    "    participant_id = row['participant_id']\n",
    "    grade_1_code = intra_rater_df[(intra_rater_df['skill'] == 'Code Elegance') & (intra_rater_df['participant_id'] == participant_id) & (intra_rater_df['batch'] == 1)]['grade_code']\n",
    "\n",
    "    grade_2_code = intra_rater_df[(intra_rater_df['skill'] == 'Code Elegance') & (intra_rater_df['participant_id'] == participant_id) & (intra_rater_df['batch'] == 2)]['grade_code']\n",
    "\n",
    "    line = dist_plt.plot([participant_id, participant_id], [grade_1_code, grade_2_code])\n",
    "    plt.setp(line, color=blue)\n",
    "\n",
    "dist_plt.set(ylabel='Grade', xlabel='Participant Number', title='Code Elegance', xticks=intra_rater_df['participant_id'].unique())\n",
    "dist_plt.legend(title='Batch')\n",
    "temp_ticks = dist_plt.get_xticks()\n",
    "temp_ticks = [underline(x) if x in NOTICED_DUP else x for x in temp_ticks]\n",
    "dist_plt.set_xticklabels(temp_ticks)\n",
    "dist_plt.get_figure().savefig('plots/code_elegance_distance.pdf', bbox_inches='tight')"
   ],
   "metadata": {
    "collapsed": false,
    "ExecuteTime": {
     "end_time": "2025-03-04T17:30:43.208500Z",
     "start_time": "2025-03-04T17:30:42.755813Z"
    }
   },
   "id": "20c48496e7434990",
   "outputs": [
    {
     "data": {
      "text/plain": [
       "<Figure size 640x480 with 1 Axes>"
      ],
      "image/png": "[encoded data removed]"
     },
     "metadata": {},
     "output_type": "display_data"
    }
   ],
   "execution_count": 38
  },
  {
   "cell_type": "code",
   "source": [
    "pivot[pivot['skill'] == 'Code Elegance']['distance'].abs().mean()"
   ],
   "metadata": {
    "collapsed": false,
    "ExecuteTime": {
     "end_time": "2025-03-04T17:30:43.233914Z",
     "start_time": "2025-03-04T17:30:43.230064Z"
    }
   },
   "id": "5d32a3bff498ff45",
   "outputs": [
    {
     "data": {
      "text/plain": [
       "1.25"
      ]
     },
     "execution_count": 39,
     "metadata": {},
     "output_type": "execute_result"
    }
   ],
   "execution_count": 39
  },
  {
   "cell_type": "code",
   "source": [
    "pivot[(pivot['skill'] == 'Code Elegance') & (pivot['distance'] == 0)]['participant_id']"
   ],
   "metadata": {
    "collapsed": false,
    "ExecuteTime": {
     "end_time": "2025-03-04T17:30:43.279399Z",
     "start_time": "2025-03-04T17:30:43.275632Z"
    }
   },
   "id": "5c2ac9ed416506c2",
   "outputs": [
    {
     "data": {
      "text/plain": [
       "1     10\n",
       "18     3\n",
       "32    21\n",
       "33    22\n",
       "64    13\n",
       "67    16\n",
       "81    18\n",
       "97     6\n",
       "98     7\n",
       "Name: participant_id, dtype: int64"
      ]
     },
     "execution_count": 40,
     "metadata": {},
     "output_type": "execute_result"
    }
   ],
   "execution_count": 40
  },
  {
   "cell_type": "code",
   "source": [
    "dist_plt = sns.scatterplot(intra_rater_df[intra_rater_df['skill'] == 'Readability'], x='participant_id', y='grade', style='batch', hue='batch', palette=sns.color_palette([red, darkgreen]), markers=['+', 'x'], zorder=5)\n",
    "\n",
    "for index, row in intra_rater_df[intra_rater_df['skill'] == 'Readability'].iterrows():\n",
    "    participant_id = row['participant_id']\n",
    "    grade_1_code = intra_rater_df[(intra_rater_df['skill'] == 'Readability') & (intra_rater_df['participant_id'] == participant_id) & (intra_rater_df['batch'] == 1)]['grade_code']\n",
    "\n",
    "    grade_2_code = intra_rater_df[(intra_rater_df['skill'] == 'Readability') & (intra_rater_df['participant_id'] == participant_id) & (intra_rater_df['batch'] == 2)]['grade_code']\n",
    "\n",
    "    line = dist_plt.plot([participant_id, participant_id], [grade_1_code, grade_2_code])\n",
    "    plt.setp(line, color=blue)\n",
    "\n",
    "dist_plt.set(ylabel='Grade', xlabel='Participant Number', title='Readability', xticks=intra_rater_df['participant_id'].unique())\n",
    "dist_plt.legend(title='Batch')\n",
    "temp_ticks = dist_plt.get_xticks()\n",
    "temp_ticks = [underline(x) if x in NOTICED_DUP else x for x in temp_ticks]\n",
    "dist_plt.set_xticklabels(temp_ticks)\n",
    "dist_plt.get_figure().savefig('plots/readability_distance.pdf', bbox_inches='tight')"
   ],
   "metadata": {
    "collapsed": false,
    "ExecuteTime": {
     "end_time": "2025-03-04T17:30:43.747725Z",
     "start_time": "2025-03-04T17:30:43.314839Z"
    }
   },
   "id": "584ebb8cf5a0dd10",
   "outputs": [
    {
     "data": {
      "text/plain": [
       "<Figure size 640x480 with 1 Axes>"
      ],
      "image/png": "[encoded data removed]"
     },
     "metadata": {},
     "output_type": "display_data"
    }
   ],
   "execution_count": 41
  },
  {
   "cell_type": "code",
   "source": [
    "pivot[pivot['skill'] == 'Readability']['distance'].abs().mean()"
   ],
   "metadata": {
    "collapsed": false,
    "ExecuteTime": {
     "end_time": "2025-03-04T17:30:43.774121Z",
     "start_time": "2025-03-04T17:30:43.770019Z"
    }
   },
   "id": "1b1c00d9868db21c",
   "outputs": [
    {
     "data": {
      "text/plain": [
       "1.3571428571428572"
      ]
     },
     "execution_count": 42,
     "metadata": {},
     "output_type": "execute_result"
    }
   ],
   "execution_count": 42
  },
  {
   "cell_type": "code",
   "source": [
    "pivot[(pivot['skill'] == 'Readability') & (pivot['distance'] == 0)]['participant_id']"
   ],
   "metadata": {
    "collapsed": false,
    "ExecuteTime": {
     "end_time": "2025-03-04T17:30:43.819439Z",
     "start_time": "2025-03-04T17:30:43.815740Z"
    }
   },
   "id": "3fb55716da9746af",
   "outputs": [
    {
     "data": {
      "text/plain": [
       "12      9\n",
       "13     10\n",
       "30      3\n",
       "44     21\n",
       "47     24\n",
       "60     25\n",
       "77     14\n",
       "110     7\n",
       "Name: participant_id, dtype: int64"
      ]
     },
     "execution_count": 43,
     "metadata": {},
     "output_type": "execute_result"
    }
   ],
   "execution_count": 43
  },
  {
   "cell_type": "code",
   "source": [
    "dist_plt = sns.scatterplot(intra_rater_df[intra_rater_df['skill'] == 'Documentation'], x='participant_id', y='grade', style='batch', hue='batch', palette=sns.color_palette([red, darkgreen]), markers=['+', 'x'], zorder=5)\n",
    "\n",
    "\n",
    "for index, row in intra_rater_df[intra_rater_df['skill'] == 'Documentation'].iterrows():\n",
    "    participant_id = row['participant_id']\n",
    "    \n",
    "    if participant_id  == 21:\n",
    "        # Participant 21 did not provide grades for documentation in the second batch\n",
    "        continue\n",
    "    \n",
    "\n",
    "    grade_1_code = intra_rater_df[(intra_rater_df['skill'] == 'Documentation') & (intra_rater_df['participant_id'] == participant_id) & (intra_rater_df['batch'] == 1)]['grade_code']\n",
    "    grade_2_code = intra_rater_df[(intra_rater_df['skill'] == 'Documentation') & (intra_rater_df['participant_id'] == participant_id) & (intra_rater_df['batch'] == 2)]['grade_code']\n",
    "\n",
    "    line = dist_plt.plot([participant_id, participant_id], [grade_1_code, grade_2_code])\n",
    "    plt.setp(line, color=blue, zorder=1)\n",
    "\n",
    "dist_plt.set(ylabel='Grade', xlabel='Participant Number', title='Documentation', xticks=intra_rater_df['participant_id'].unique())\n",
    "dist_plt.legend(title='Batch')\n",
    "\n",
    "temp_ticks = dist_plt.get_xticks()\n",
    "temp_ticks = [underline(x) if x in NOTICED_DUP else x for x in temp_ticks]\n",
    "dist_plt.set_xticklabels(temp_ticks)\n",
    "\n",
    "dist_plt.get_figure().savefig('plots/documentation_distance.pdf', bbox_inches='tight')\n",
    "sns.set(rc={'text.usetex': False})"
   ],
   "metadata": {
    "collapsed": false,
    "ExecuteTime": {
     "end_time": "2025-03-04T17:30:44.287479Z",
     "start_time": "2025-03-04T17:30:43.851364Z"
    }
   },
   "id": "39535de33f8e7aea",
   "outputs": [
    {
     "data": {
      "text/plain": [
       "<Figure size 640x480 with 1 Axes>"
      ],
      "image/png": "[encoded data removed]"
     },
     "metadata": {},
     "output_type": "display_data"
    }
   ],
   "execution_count": 44
  },
  {
   "cell_type": "markdown",
   "source": [],
   "metadata": {
    "collapsed": false
   },
   "id": "cbd5da628a911f62"
  },
  {
   "cell_type": "code",
   "source": [
    "pivot['distance'] = pivot['distance'].abs()\n",
    "# pivot[['skill', 'distance']].groupby('skill').mean()\n",
    "pivot[pivot['distance'] <=2].groupby('participant_id').count()"
   ],
   "metadata": {
    "collapsed": false,
    "ExecuteTime": {
     "end_time": "2025-03-04T17:30:44.316503Z",
     "start_time": "2025-03-04T17:30:44.309676Z"
    }
   },
   "id": "eb9cb99151699b03",
   "outputs": [
    {
     "data": {
      "text/plain": [
       "                assignment_number  skill  grade_1  grade_2  grade_1_code  \\\n",
       "participant_id                                                             \n",
       "1                               2      2        2        2             2   \n",
       "2                               4      4        4        4             4   \n",
       "3                               4      4        4        4             4   \n",
       "4                               3      3        3        3             3   \n",
       "5                               3      3        3        3             3   \n",
       "6                               1      1        1        1             1   \n",
       "7                               4      4        4        4             4   \n",
       "8                               4      4        4        4             4   \n",
       "9                               4      4        4        4             4   \n",
       "10                              4      4        4        4             4   \n",
       "11                              3      3        3        3             3   \n",
       "12                              4      4        4        4             4   \n",
       "13                              3      3        3        3             3   \n",
       "14                              4      4        4        4             4   \n",
       "15                              3      3        3        3             3   \n",
       "16                              2      2        2        2             2   \n",
       "17                              4      4        4        4             4   \n",
       "18                              3      3        3        3             3   \n",
       "19                              2      2        2        2             2   \n",
       "20                              2      2        2        2             2   \n",
       "21                              4      4        3        4             4   \n",
       "22                              3      3        3        3             3   \n",
       "23                              2      2        2        2             2   \n",
       "24                              2      2        2        2             2   \n",
       "25                              3      3        3        3             3   \n",
       "26                              3      3        3        3             3   \n",
       "27                              4      4        4        4             4   \n",
       "28                              3      3        3        3             3   \n",
       "\n",
       "                grade_2_code  distance  \n",
       "participant_id                          \n",
       "1                          2         2  \n",
       "2                          4         4  \n",
       "3                          4         4  \n",
       "4                          3         3  \n",
       "5                          3         3  \n",
       "6                          1         1  \n",
       "7                          4         4  \n",
       "8                          4         4  \n",
       "9                          4         4  \n",
       "10                         4         4  \n",
       "11                         3         3  \n",
       "12                         4         4  \n",
       "13                         3         3  \n",
       "14                         4         4  \n",
       "15                         3         3  \n",
       "16                         2         2  \n",
       "17                         4         4  \n",
       "18                         3         3  \n",
       "19                         2         2  \n",
       "20                         2         2  \n",
       "21                         4         4  \n",
       "22                         3         3  \n",
       "23                         2         2  \n",
       "24                         2         2  \n",
       "25                         3         3  \n",
       "26                         3         3  \n",
       "27                         4         4  \n",
       "28                         3         3  "
      ],
      "text/html": [
       "<div>\n",
       "<style scoped>\n",
       "    .dataframe tbody tr th:only-of-type {\n",
       "        vertical-align: middle;\n",
       "    }\n",
       "\n",
       "    .dataframe tbody tr th {\n",
       "        vertical-align: top;\n",
       "    }\n",
       "\n",
       "    .dataframe thead th {\n",
       "        text-align: right;\n",
       "    }\n",
       "</style>\n",
       "<table border=\"1\" class=\"dataframe\">\n",
       "  <thead>\n",
       "    <tr style=\"text-align: right;\">\n",
       "      <th></th>\n",
       "      <th>assignment_number</th>\n",
       "      <th>skill</th>\n",
       "      <th>grade_1</th>\n",
       "      <th>grade_2</th>\n",
       "      <th>grade_1_code</th>\n",
       "      <th>grade_2_code</th>\n",
       "      <th>distance</th>\n",
       "    </tr>\n",
       "    <tr>\n",
       "      <th>participant_id</th>\n",
       "      <th></th>\n",
       "      <th></th>\n",
       "      <th></th>\n",
       "      <th></th>\n",
       "      <th></th>\n",
       "      <th></th>\n",
       "      <th></th>\n",
       "    </tr>\n",
       "  </thead>\n",
       "  <tbody>\n",
       "    <tr>\n",
       "      <th>1</th>\n",
       "      <td>2</td>\n",
       "      <td>2</td>\n",
       "      <td>2</td>\n",
       "      <td>2</td>\n",
       "      <td>2</td>\n",
       "      <td>2</td>\n",
       "      <td>2</td>\n",
       "    </tr>\n",
       "    <tr>\n",
       "      <th>2</th>\n",
       "      <td>4</td>\n",
       "      <td>4</td>\n",
       "      <td>4</td>\n",
       "      <td>4</td>\n",
       "      <td>4</td>\n",
       "      <td>4</td>\n",
       "      <td>4</td>\n",
       "    </tr>\n",
       "    <tr>\n",
       "      <th>3</th>\n",
       "      <td>4</td>\n",
       "      <td>4</td>\n",
       "      <td>4</td>\n",
       "      <td>4</td>\n",
       "      <td>4</td>\n",
       "      <td>4</td>\n",
       "      <td>4</td>\n",
       "    </tr>\n",
       "    <tr>\n",
       "      <th>4</th>\n",
       "      <td>3</td>\n",
       "      <td>3</td>\n",
       "      <td>3</td>\n",
       "      <td>3</td>\n",
       "      <td>3</td>\n",
       "      <td>3</td>\n",
       "      <td>3</td>\n",
       "    </tr>\n",
       "    <tr>\n",
       "      <th>5</th>\n",
       "      <td>3</td>\n",
       "      <td>3</td>\n",
       "      <td>3</td>\n",
       "      <td>3</td>\n",
       "      <td>3</td>\n",
       "      <td>3</td>\n",
       "      <td>3</td>\n",
       "    </tr>\n",
       "    <tr>\n",
       "      <th>6</th>\n",
       "      <td>1</td>\n",
       "      <td>1</td>\n",
       "      <td>1</td>\n",
       "      <td>1</td>\n",
       "      <td>1</td>\n",
       "      <td>1</td>\n",
       "      <td>1</td>\n",
       "    </tr>\n",
       "    <tr>\n",
       "      <th>7</th>\n",
       "      <td>4</td>\n",
       "      <td>4</td>\n",
       "      <td>4</td>\n",
       "      <td>4</td>\n",
       "      <td>4</td>\n",
       "      <td>4</td>\n",
       "      <td>4</td>\n",
       "    </tr>\n",
       "    <tr>\n",
       "      <th>8</th>\n",
       "      <td>4</td>\n",
       "      <td>4</td>\n",
       "      <td>4</td>\n",
       "      <td>4</td>\n",
       "      <td>4</td>\n",
       "      <td>4</td>\n",
       "      <td>4</td>\n",
       "    </tr>\n",
       "    <tr>\n",
       "      <th>9</th>\n",
       "      <td>4</td>\n",
       "      <td>4</td>\n",
       "      <td>4</td>\n",
       "      <td>4</td>\n",
       "      <td>4</td>\n",
       "      <td>4</td>\n",
       "      <td>4</td>\n",
       "    </tr>\n",
       "    <tr>\n",
       "      <th>10</th>\n",
       "      <td>4</td>\n",
       "      <td>4</td>\n",
       "      <td>4</td>\n",
       "      <td>4</td>\n",
       "      <td>4</td>\n",
       "      <td>4</td>\n",
       "      <td>4</td>\n",
       "    </tr>\n",
       "    <tr>\n",
       "      <th>11</th>\n",
       "      <td>3</td>\n",
       "      <td>3</td>\n",
       "      <td>3</td>\n",
       "      <td>3</td>\n",
       "      <td>3</td>\n",
       "      <td>3</td>\n",
       "      <td>3</td>\n",
       "    </tr>\n",
       "    <tr>\n",
       "      <th>12</th>\n",
       "      <td>4</td>\n",
       "      <td>4</td>\n",
       "      <td>4</td>\n",
       "      <td>4</td>\n",
       "      <td>4</td>\n",
       "      <td>4</td>\n",
       "      <td>4</td>\n",
       "    </tr>\n",
       "    <tr>\n",
       "      <th>13</th>\n",
       "      <td>3</td>\n",
       "      <td>3</td>\n",
       "      <td>3</td>\n",
       "      <td>3</td>\n",
       "      <td>3</td>\n",
       "      <td>3</td>\n",
       "      <td>3</td>\n",
       "    </tr>\n",
       "    <tr>\n",
       "      <th>14</th>\n",
       "      <td>4</td>\n",
       "      <td>4</td>\n",
       "      <td>4</td>\n",
       "      <td>4</td>\n",
       "      <td>4</td>\n",
       "      <td>4</td>\n",
       "      <td>4</td>\n",
       "    </tr>\n",
       "    <tr>\n",
       "      <th>15</th>\n",
       "      <td>3</td>\n",
       "      <td>3</td>\n",
       "      <td>3</td>\n",
       "      <td>3</td>\n",
       "      <td>3</td>\n",
       "      <td>3</td>\n",
       "      <td>3</td>\n",
       "    </tr>\n",
       "    <tr>\n",
       "      <th>16</th>\n",
       "      <td>2</td>\n",
       "      <td>2</td>\n",
       "      <td>2</td>\n",
       "      <td>2</td>\n",
       "      <td>2</td>\n",
       "      <td>2</td>\n",
       "      <td>2</td>\n",
       "    </tr>\n",
       "    <tr>\n",
       "      <th>17</th>\n",
       "      <td>4</td>\n",
       "      <td>4</td>\n",
       "      <td>4</td>\n",
       "      <td>4</td>\n",
       "      <td>4</td>\n",
       "      <td>4</td>\n",
       "      <td>4</td>\n",
       "    </tr>\n",
       "    <tr>\n",
       "      <th>18</th>\n",
       "      <td>3</td>\n",
       "      <td>3</td>\n",
       "      <td>3</td>\n",
       "      <td>3</td>\n",
       "      <td>3</td>\n",
       "      <td>3</td>\n",
       "      <td>3</td>\n",
       "    </tr>\n",
       "    <tr>\n",
       "      <th>19</th>\n",
       "      <td>2</td>\n",
       "      <td>2</td>\n",
       "      <td>2</td>\n",
       "      <td>2</td>\n",
       "      <td>2</td>\n",
       "      <td>2</td>\n",
       "      <td>2</td>\n",
       "    </tr>\n",
       "    <tr>\n",
       "      <th>20</th>\n",
       "      <td>2</td>\n",
       "      <td>2</td>\n",
       "      <td>2</td>\n",
       "      <td>2</td>\n",
       "      <td>2</td>\n",
       "      <td>2</td>\n",
       "      <td>2</td>\n",
       "    </tr>\n",
       "    <tr>\n",
       "      <th>21</th>\n",
       "      <td>4</td>\n",
       "      <td>4</td>\n",
       "      <td>3</td>\n",
       "      <td>4</td>\n",
       "      <td>4</td>\n",
       "      <td>4</td>\n",
       "      <td>4</td>\n",
       "    </tr>\n",
       "    <tr>\n",
       "      <th>22</th>\n",
       "      <td>3</td>\n",
       "      <td>3</td>\n",
       "      <td>3</td>\n",
       "      <td>3</td>\n",
       "      <td>3</td>\n",
       "      <td>3</td>\n",
       "      <td>3</td>\n",
       "    </tr>\n",
       "    <tr>\n",
       "      <th>23</th>\n",
       "      <td>2</td>\n",
       "      <td>2</td>\n",
       "      <td>2</td>\n",
       "      <td>2</td>\n",
       "      <td>2</td>\n",
       "      <td>2</td>\n",
       "      <td>2</td>\n",
       "    </tr>\n",
       "    <tr>\n",
       "      <th>24</th>\n",
       "      <td>2</td>\n",
       "      <td>2</td>\n",
       "      <td>2</td>\n",
       "      <td>2</td>\n",
       "      <td>2</td>\n",
       "      <td>2</td>\n",
       "      <td>2</td>\n",
       "    </tr>\n",
       "    <tr>\n",
       "      <th>25</th>\n",
       "      <td>3</td>\n",
       "      <td>3</td>\n",
       "      <td>3</td>\n",
       "      <td>3</td>\n",
       "      <td>3</td>\n",
       "      <td>3</td>\n",
       "      <td>3</td>\n",
       "    </tr>\n",
       "    <tr>\n",
       "      <th>26</th>\n",
       "      <td>3</td>\n",
       "      <td>3</td>\n",
       "      <td>3</td>\n",
       "      <td>3</td>\n",
       "      <td>3</td>\n",
       "      <td>3</td>\n",
       "      <td>3</td>\n",
       "    </tr>\n",
       "    <tr>\n",
       "      <th>27</th>\n",
       "      <td>4</td>\n",
       "      <td>4</td>\n",
       "      <td>4</td>\n",
       "      <td>4</td>\n",
       "      <td>4</td>\n",
       "      <td>4</td>\n",
       "      <td>4</td>\n",
       "    </tr>\n",
       "    <tr>\n",
       "      <th>28</th>\n",
       "      <td>3</td>\n",
       "      <td>3</td>\n",
       "      <td>3</td>\n",
       "      <td>3</td>\n",
       "      <td>3</td>\n",
       "      <td>3</td>\n",
       "      <td>3</td>\n",
       "    </tr>\n",
       "  </tbody>\n",
       "</table>\n",
       "</div>"
      ]
     },
     "execution_count": 45,
     "metadata": {},
     "output_type": "execute_result"
    }
   ],
   "execution_count": 45
  },
  {
   "cell_type": "code",
   "source": [
    "pivot[(pivot['skill'] == 'Documentation') & (pivot['distance'] == 0)]['participant_id']"
   ],
   "metadata": {
    "collapsed": false,
    "ExecuteTime": {
     "end_time": "2025-03-04T17:30:44.378085Z",
     "start_time": "2025-03-04T17:30:44.374338Z"
    }
   },
   "id": "efd71f50a1913589",
   "outputs": [
    {
     "data": {
      "text/plain": [
       "8       9\n",
       "9      10\n",
       "10     11\n",
       "26      3\n",
       "27      4\n",
       "90     19\n",
       "106     7\n",
       "107     8\n",
       "Name: participant_id, dtype: int64"
      ]
     },
     "execution_count": 46,
     "metadata": {},
     "output_type": "execute_result"
    }
   ],
   "execution_count": 46
  },
  {
   "cell_type": "markdown",
   "source": [
    "### Distance between grades by grading experience"
   ],
   "metadata": {
    "collapsed": false
   },
   "id": "2bd44eff8fbaf4e8"
  },
  {
   "cell_type": "code",
   "source": [
    "experience_df = demo_df[['Q1', 'Q7', 'Q9']]\n",
    "experience_df.columns = ['participant_id', 'prog_exp', 'grading_exp']\n",
    "experience_df['participant_id'] = experience_df['participant_id'].astype(int)\n",
    "experience_df['grading_exp'] = experience_df['grading_exp'].fillna('No grading \\n experience')\n",
    "experience_df.to_csv('data/experience_formatted.csv')\n",
    "experience_df"
   ],
   "metadata": {
    "collapsed": false,
    "ExecuteTime": {
     "end_time": "2025-03-04T17:30:44.487777Z",
     "start_time": "2025-03-04T17:30:44.479557Z"
    }
   },
   "id": "d4874069e7c18a8b",
   "outputs": [
    {
     "name": "stderr",
     "output_type": "stream",
     "text": [
      "/var/folders/1y/6byzw1px62g2f5w7p_rhb6kh0000gn/T/ipykernel_82809/2656446014.py:3: SettingWithCopyWarning: \n",
      "A value is trying to be set on a copy of a slice from a DataFrame.\n",
      "Try using .loc[row_indexer,col_indexer] = value instead\n",
      "\n",
      "See the caveats in the documentation: https://pandas.pydata.org/pandas-docs/stable/user_guide/indexing.html#returning-a-view-versus-a-copy\n",
      "  experience_df['participant_id'] = experience_df['participant_id'].astype(int)\n",
      "/var/folders/1y/6byzw1px62g2f5w7p_rhb6kh0000gn/T/ipykernel_82809/2656446014.py:4: SettingWithCopyWarning: \n",
      "A value is trying to be set on a copy of a slice from a DataFrame.\n",
      "Try using .loc[row_indexer,col_indexer] = value instead\n",
      "\n",
      "See the caveats in the documentation: https://pandas.pydata.org/pandas-docs/stable/user_guide/indexing.html#returning-a-view-versus-a-copy\n",
      "  experience_df['grading_exp'] = experience_df['grading_exp'].fillna('No grading \\n experience')\n"
     ]
    },
    {
     "data": {
      "text/plain": [
       "    participant_id     prog_exp               grading_exp\n",
       "2                4     5+ years  No grading \\n experience\n",
       "3               10     5+ years               2 - 3 years\n",
       "4               18     5+ years               2 - 3 years\n",
       "5               19     5+ years               0 - 1 years\n",
       "6                3     5+ years               1 - 2 years\n",
       "7               16     5+ years  No grading \\n experience\n",
       "8               24     5+ years  No grading \\n experience\n",
       "9                2     5+ years  No grading \\n experience\n",
       "10              25     5+ years  No grading \\n experience\n",
       "11               5     5+ years  No grading \\n experience\n",
       "12              17     5+ years  No grading \\n experience\n",
       "13               9  3 - 5 years               0 - 1 years\n",
       "14               1     5+ years               0 - 1 years\n",
       "15               6     5+ years  No grading \\n experience\n",
       "16              15     5+ years  No grading \\n experience\n",
       "17              26  3 - 5 years               0 - 1 years\n",
       "18              27     5+ years  No grading \\n experience\n",
       "19              22     5+ years  No grading \\n experience\n",
       "20              20     5+ years  No grading \\n experience\n",
       "21              11     5+ years  No grading \\n experience\n",
       "22               8  3 - 5 years               0 - 1 years\n",
       "23              14     5+ years  No grading \\n experience\n",
       "24              12     5+ years  No grading \\n experience\n",
       "25               7     5+ years               0 - 1 years\n",
       "26              28     5+ years  No grading \\n experience\n",
       "27              13     5+ years  No grading \\n experience\n",
       "28              21     5+ years               1 - 2 years\n",
       "29              23     5+ years  No grading \\n experience"
      ],
      "text/html": [
       "<div>\n",
       "<style scoped>\n",
       "    .dataframe tbody tr th:only-of-type {\n",
       "        vertical-align: middle;\n",
       "    }\n",
       "\n",
       "    .dataframe tbody tr th {\n",
       "        vertical-align: top;\n",
       "    }\n",
       "\n",
       "    .dataframe thead th {\n",
       "        text-align: right;\n",
       "    }\n",
       "</style>\n",
       "<table border=\"1\" class=\"dataframe\">\n",
       "  <thead>\n",
       "    <tr style=\"text-align: right;\">\n",
       "      <th></th>\n",
       "      <th>participant_id</th>\n",
       "      <th>prog_exp</th>\n",
       "      <th>grading_exp</th>\n",
       "    </tr>\n",
       "  </thead>\n",
       "  <tbody>\n",
       "    <tr>\n",
       "      <th>2</th>\n",
       "      <td>4</td>\n",
       "      <td>5+ years</td>\n",
       "      <td>No grading \\n experience</td>\n",
       "    </tr>\n",
       "    <tr>\n",
       "      <th>3</th>\n",
       "      <td>10</td>\n",
       "      <td>5+ years</td>\n",
       "      <td>2 - 3 years</td>\n",
       "    </tr>\n",
       "    <tr>\n",
       "      <th>4</th>\n",
       "      <td>18</td>\n",
       "      <td>5+ years</td>\n",
       "      <td>2 - 3 years</td>\n",
       "    </tr>\n",
       "    <tr>\n",
       "      <th>5</th>\n",
       "      <td>19</td>\n",
       "      <td>5+ years</td>\n",
       "      <td>0 - 1 years</td>\n",
       "    </tr>\n",
       "    <tr>\n",
       "      <th>6</th>\n",
       "      <td>3</td>\n",
       "      <td>5+ years</td>\n",
       "      <td>1 - 2 years</td>\n",
       "    </tr>\n",
       "    <tr>\n",
       "      <th>7</th>\n",
       "      <td>16</td>\n",
       "      <td>5+ years</td>\n",
       "      <td>No grading \\n experience</td>\n",
       "    </tr>\n",
       "    <tr>\n",
       "      <th>8</th>\n",
       "      <td>24</td>\n",
       "      <td>5+ years</td>\n",
       "      <td>No grading \\n experience</td>\n",
       "    </tr>\n",
       "    <tr>\n",
       "      <th>9</th>\n",
       "      <td>2</td>\n",
       "      <td>5+ years</td>\n",
       "      <td>No grading \\n experience</td>\n",
       "    </tr>\n",
       "    <tr>\n",
       "      <th>10</th>\n",
       "      <td>25</td>\n",
       "      <td>5+ years</td>\n",
       "      <td>No grading \\n experience</td>\n",
       "    </tr>\n",
       "    <tr>\n",
       "      <th>11</th>\n",
       "      <td>5</td>\n",
       "      <td>5+ years</td>\n",
       "      <td>No grading \\n experience</td>\n",
       "    </tr>\n",
       "    <tr>\n",
       "      <th>12</th>\n",
       "      <td>17</td>\n",
       "      <td>5+ years</td>\n",
       "      <td>No grading \\n experience</td>\n",
       "    </tr>\n",
       "    <tr>\n",
       "      <th>13</th>\n",
       "      <td>9</td>\n",
       "      <td>3 - 5 years</td>\n",
       "      <td>0 - 1 years</td>\n",
       "    </tr>\n",
       "    <tr>\n",
       "      <th>14</th>\n",
       "      <td>1</td>\n",
       "      <td>5+ years</td>\n",
       "      <td>0 - 1 years</td>\n",
       "    </tr>\n",
       "    <tr>\n",
       "      <th>15</th>\n",
       "      <td>6</td>\n",
       "      <td>5+ years</td>\n",
       "      <td>No grading \\n experience</td>\n",
       "    </tr>\n",
       "    <tr>\n",
       "      <th>16</th>\n",
       "      <td>15</td>\n",
       "      <td>5+ years</td>\n",
       "      <td>No grading \\n experience</td>\n",
       "    </tr>\n",
       "    <tr>\n",
       "      <th>17</th>\n",
       "      <td>26</td>\n",
       "      <td>3 - 5 years</td>\n",
       "      <td>0 - 1 years</td>\n",
       "    </tr>\n",
       "    <tr>\n",
       "      <th>18</th>\n",
       "      <td>27</td>\n",
       "      <td>5+ years</td>\n",
       "      <td>No grading \\n experience</td>\n",
       "    </tr>\n",
       "    <tr>\n",
       "      <th>19</th>\n",
       "      <td>22</td>\n",
       "      <td>5+ years</td>\n",
       "      <td>No grading \\n experience</td>\n",
       "    </tr>\n",
       "    <tr>\n",
       "      <th>20</th>\n",
       "      <td>20</td>\n",
       "      <td>5+ years</td>\n",
       "      <td>No grading \\n experience</td>\n",
       "    </tr>\n",
       "    <tr>\n",
       "      <th>21</th>\n",
       "      <td>11</td>\n",
       "      <td>5+ years</td>\n",
       "      <td>No grading \\n experience</td>\n",
       "    </tr>\n",
       "    <tr>\n",
       "      <th>22</th>\n",
       "      <td>8</td>\n",
       "      <td>3 - 5 years</td>\n",
       "      <td>0 - 1 years</td>\n",
       "    </tr>\n",
       "    <tr>\n",
       "      <th>23</th>\n",
       "      <td>14</td>\n",
       "      <td>5+ years</td>\n",
       "      <td>No grading \\n experience</td>\n",
       "    </tr>\n",
       "    <tr>\n",
       "      <th>24</th>\n",
       "      <td>12</td>\n",
       "      <td>5+ years</td>\n",
       "      <td>No grading \\n experience</td>\n",
       "    </tr>\n",
       "    <tr>\n",
       "      <th>25</th>\n",
       "      <td>7</td>\n",
       "      <td>5+ years</td>\n",
       "      <td>0 - 1 years</td>\n",
       "    </tr>\n",
       "    <tr>\n",
       "      <th>26</th>\n",
       "      <td>28</td>\n",
       "      <td>5+ years</td>\n",
       "      <td>No grading \\n experience</td>\n",
       "    </tr>\n",
       "    <tr>\n",
       "      <th>27</th>\n",
       "      <td>13</td>\n",
       "      <td>5+ years</td>\n",
       "      <td>No grading \\n experience</td>\n",
       "    </tr>\n",
       "    <tr>\n",
       "      <th>28</th>\n",
       "      <td>21</td>\n",
       "      <td>5+ years</td>\n",
       "      <td>1 - 2 years</td>\n",
       "    </tr>\n",
       "    <tr>\n",
       "      <th>29</th>\n",
       "      <td>23</td>\n",
       "      <td>5+ years</td>\n",
       "      <td>No grading \\n experience</td>\n",
       "    </tr>\n",
       "  </tbody>\n",
       "</table>\n",
       "</div>"
      ]
     },
     "execution_count": 47,
     "metadata": {},
     "output_type": "execute_result"
    }
   ],
   "execution_count": 47
  },
  {
   "cell_type": "code",
   "source": [
    "exp_dist_df = pd.merge(experience_df, pivot[['participant_id', 'skill', 'distance']], on='participant_id', how='right')\n",
    "exp_dist_df['distance'] = exp_dist_df['distance'].abs()\n",
    "# exp_dist_df"
   ],
   "metadata": {
    "collapsed": false,
    "ExecuteTime": {
     "end_time": "2025-03-04T17:30:44.568983Z",
     "start_time": "2025-03-04T17:30:44.563291Z"
    }
   },
   "id": "824189a89dbe9a8e",
   "outputs": [],
   "execution_count": 48
  },
  {
   "cell_type": "code",
   "source": [
    "grading_exp_plt = sns.JointGrid()\n",
    "g_exp_box_plt = sns.boxplot(exp_dist_df, x='grading_exp', y='distance', hue='skill', order=['No grading \\n experience', '0 - 1 years', '1 - 2 years', '2 - 3 years'], ax=grading_exp_plt.ax_joint, hue_order=['Code Elegance', 'Correctness', 'Documentation', 'Readability'],palette=sns.color_palette([grey, teal, blue, darkgreen]))\n",
    "sns.countplot(experience_df, x='grading_exp', ax=grading_exp_plt.ax_marg_x, color=blue)\n",
    "grading_exp_plt.ax_marg_y.remove()\n",
    "\n",
    "g_exp_box_plt.set(xlabel='Grading Experience', ylabel='Absolute Distance Between Grades')\n",
    "\n",
    "grading_exp_plt.ax_marg_x.set_title('Group Size', fontsize=10, loc='left', y=0.35, x=-0.19)\n",
    "\n",
    "for p in grading_exp_plt.ax_marg_x.patches:\n",
    "    grading_exp_plt.ax_marg_x.annotate(format(p.get_height(), '.0f'), (p.get_x() + p.get_width() / 2., p.get_height()),  ha = 'center', va = 'center', xytext = (0, 10), textcoords = 'offset points', fontsize=10)\n",
    "\n",
    "grading_exp_plt.savefig('plots/grading_exp_dist.pdf', bbox_inches='tight')"
   ],
   "metadata": {
    "collapsed": false,
    "ExecuteTime": {
     "end_time": "2025-03-04T17:45:38.788331Z",
     "start_time": "2025-03-04T17:45:38.434607Z"
    }
   },
   "id": "496f9b86eb185885",
   "outputs": [
    {
     "data": {
      "text/plain": [
       "<Figure size 600x600 with 2 Axes>"
      ],
      "image/png": "[encoded data removed]"
     },
     "metadata": {},
     "output_type": "display_data"
    }
   ],
   "execution_count": 62
  },
  {
   "cell_type": "markdown",
   "source": [
    "### Alpha by grading experience"
   ],
   "metadata": {
    "collapsed": false
   },
   "id": "d1a491f034d74d4d"
  },
  {
   "cell_type": "code",
   "source": [
    "experience_df['group'] = experience_df['participant_id'].apply(apply_group)\n",
    "exp_alpha_df = pd.merge(experience_df, fine_alpha_df, on='group', how='right')\n",
    "exp_alpha_df"
   ],
   "metadata": {
    "collapsed": false,
    "ExecuteTime": {
     "end_time": "2025-03-04T17:30:45.056045Z",
     "start_time": "2025-03-04T17:30:45.045495Z"
    }
   },
   "id": "dbe13e53b4e2890",
   "outputs": [
    {
     "name": "stderr",
     "output_type": "stream",
     "text": [
      "/var/folders/1y/6byzw1px62g2f5w7p_rhb6kh0000gn/T/ipykernel_82809/85209411.py:1: SettingWithCopyWarning: \n",
      "A value is trying to be set on a copy of a slice from a DataFrame.\n",
      "Try using .loc[row_indexer,col_indexer] = value instead\n",
      "\n",
      "See the caveats in the documentation: https://pandas.pydata.org/pandas-docs/stable/user_guide/indexing.html#returning-a-view-versus-a-copy\n",
      "  experience_df['group'] = experience_df['participant_id'].apply(apply_group)\n"
     ]
    },
    {
     "data": {
      "text/plain": [
       "     participant_id     prog_exp               grading_exp  group  \\\n",
       "0                 4     5+ years  No grading \\n experience    1-4   \n",
       "1                 3     5+ years               1 - 2 years    1-4   \n",
       "2                 2     5+ years  No grading \\n experience    1-4   \n",
       "3                 1     5+ years               0 - 1 years    1-4   \n",
       "4                 4     5+ years  No grading \\n experience    1-4   \n",
       "..              ...          ...                       ...    ...   \n",
       "107              28     5+ years  No grading \\n experience  25-28   \n",
       "108              25     5+ years  No grading \\n experience  25-28   \n",
       "109              26  3 - 5 years               0 - 1 years  25-28   \n",
       "110              27     5+ years  No grading \\n experience  25-28   \n",
       "111              28     5+ years  No grading \\n experience  25-28   \n",
       "\n",
       "             skill  metric_result  \n",
       "0      Correctness       0.281601  \n",
       "1      Correctness       0.281601  \n",
       "2      Correctness       0.281601  \n",
       "3      Correctness       0.281601  \n",
       "4    Documentation       0.102318  \n",
       "..             ...            ...  \n",
       "107  Code Elegance       0.188966  \n",
       "108  Documentation       0.211608  \n",
       "109  Documentation       0.211608  \n",
       "110  Documentation       0.211608  \n",
       "111  Documentation       0.211608  \n",
       "\n",
       "[112 rows x 6 columns]"
      ],
      "text/html": [
       "<div>\n",
       "<style scoped>\n",
       "    .dataframe tbody tr th:only-of-type {\n",
       "        vertical-align: middle;\n",
       "    }\n",
       "\n",
       "    .dataframe tbody tr th {\n",
       "        vertical-align: top;\n",
       "    }\n",
       "\n",
       "    .dataframe thead th {\n",
       "        text-align: right;\n",
       "    }\n",
       "</style>\n",
       "<table border=\"1\" class=\"dataframe\">\n",
       "  <thead>\n",
       "    <tr style=\"text-align: right;\">\n",
       "      <th></th>\n",
       "      <th>participant_id</th>\n",
       "      <th>prog_exp</th>\n",
       "      <th>grading_exp</th>\n",
       "      <th>group</th>\n",
       "      <th>skill</th>\n",
       "      <th>metric_result</th>\n",
       "    </tr>\n",
       "  </thead>\n",
       "  <tbody>\n",
       "    <tr>\n",
       "      <th>0</th>\n",
       "      <td>4</td>\n",
       "      <td>5+ years</td>\n",
       "      <td>No grading \\n experience</td>\n",
       "      <td>1-4</td>\n",
       "      <td>Correctness</td>\n",
       "      <td>0.281601</td>\n",
       "    </tr>\n",
       "    <tr>\n",
       "      <th>1</th>\n",
       "      <td>3</td>\n",
       "      <td>5+ years</td>\n",
       "      <td>1 - 2 years</td>\n",
       "      <td>1-4</td>\n",
       "      <td>Correctness</td>\n",
       "      <td>0.281601</td>\n",
       "    </tr>\n",
       "    <tr>\n",
       "      <th>2</th>\n",
       "      <td>2</td>\n",
       "      <td>5+ years</td>\n",
       "      <td>No grading \\n experience</td>\n",
       "      <td>1-4</td>\n",
       "      <td>Correctness</td>\n",
       "      <td>0.281601</td>\n",
       "    </tr>\n",
       "    <tr>\n",
       "      <th>3</th>\n",
       "      <td>1</td>\n",
       "      <td>5+ years</td>\n",
       "      <td>0 - 1 years</td>\n",
       "      <td>1-4</td>\n",
       "      <td>Correctness</td>\n",
       "      <td>0.281601</td>\n",
       "    </tr>\n",
       "    <tr>\n",
       "      <th>4</th>\n",
       "      <td>4</td>\n",
       "      <td>5+ years</td>\n",
       "      <td>No grading \\n experience</td>\n",
       "      <td>1-4</td>\n",
       "      <td>Documentation</td>\n",
       "      <td>0.102318</td>\n",
       "    </tr>\n",
       "    <tr>\n",
       "      <th>...</th>\n",
       "      <td>...</td>\n",
       "      <td>...</td>\n",
       "      <td>...</td>\n",
       "      <td>...</td>\n",
       "      <td>...</td>\n",
       "      <td>...</td>\n",
       "    </tr>\n",
       "    <tr>\n",
       "      <th>107</th>\n",
       "      <td>28</td>\n",
       "      <td>5+ years</td>\n",
       "      <td>No grading \\n experience</td>\n",
       "      <td>25-28</td>\n",
       "      <td>Code Elegance</td>\n",
       "      <td>0.188966</td>\n",
       "    </tr>\n",
       "    <tr>\n",
       "      <th>108</th>\n",
       "      <td>25</td>\n",
       "      <td>5+ years</td>\n",
       "      <td>No grading \\n experience</td>\n",
       "      <td>25-28</td>\n",
       "      <td>Documentation</td>\n",
       "      <td>0.211608</td>\n",
       "    </tr>\n",
       "    <tr>\n",
       "      <th>109</th>\n",
       "      <td>26</td>\n",
       "      <td>3 - 5 years</td>\n",
       "      <td>0 - 1 years</td>\n",
       "      <td>25-28</td>\n",
       "      <td>Documentation</td>\n",
       "      <td>0.211608</td>\n",
       "    </tr>\n",
       "    <tr>\n",
       "      <th>110</th>\n",
       "      <td>27</td>\n",
       "      <td>5+ years</td>\n",
       "      <td>No grading \\n experience</td>\n",
       "      <td>25-28</td>\n",
       "      <td>Documentation</td>\n",
       "      <td>0.211608</td>\n",
       "    </tr>\n",
       "    <tr>\n",
       "      <th>111</th>\n",
       "      <td>28</td>\n",
       "      <td>5+ years</td>\n",
       "      <td>No grading \\n experience</td>\n",
       "      <td>25-28</td>\n",
       "      <td>Documentation</td>\n",
       "      <td>0.211608</td>\n",
       "    </tr>\n",
       "  </tbody>\n",
       "</table>\n",
       "<p>112 rows × 6 columns</p>\n",
       "</div>"
      ]
     },
     "execution_count": 50,
     "metadata": {},
     "output_type": "execute_result"
    }
   ],
   "execution_count": 50
  },
  {
   "cell_type": "code",
   "source": [
    "sns.set(rc={'text.usetex': True})\n",
    "\n",
    "inter_exp_plt = sns.JointGrid()\n",
    "g_inter_exp_box_plt = sns.boxplot(exp_alpha_df, x='grading_exp', y='metric_result', hue='skill', order=['No grading \\n experience', '0 - 1 years', '1 - 2 years', '2 - 3 years'], hue_order=['Code Elegance', 'Correctness', 'Documentation', 'Readability'],  ax=inter_exp_plt.ax_joint, palette=sns.color_palette([grey, teal, blue, darkgreen]))\n",
    "\n",
    "sns.countplot(experience_df, x='grading_exp', ax=inter_exp_plt.ax_marg_x, color=blue)\n",
    "inter_exp_plt.ax_marg_y.remove()\n",
    "\n",
    "g_inter_exp_box_plt.set(xlabel='Grading Experience', ylabel=\"Krippendorf's $\\\\alpha$\")\n",
    "\n",
    "inter_exp_plt.ax_marg_x.set_title('Group Size', fontsize=10, loc='left', y=0.35, x=-0.17)\n",
    "\n",
    "inter_exp_plt.ax_joint.axhline(0.667, ls='--')\n",
    "inter_exp_plt.ax_joint.axhline(0.8, ls='--')\n",
    "inter_exp_plt.ax_joint.text(-0.5, 0.68, 'Threshold for Partial Agreement', fontsize=10)\n",
    "inter_exp_plt.ax_joint.text(-0.5, 0.81, 'Threshold for Good Agreement', fontsize=10)\n",
    "\n",
    "for p in inter_exp_plt.ax_marg_x.patches:\n",
    "    inter_exp_plt.ax_marg_x.annotate(format(p.get_height(), '.0f'), (p.get_x() + p.get_width() / 2., p.get_height()),  ha = 'center', va = 'center', xytext = (0, 10), textcoords = 'offset points', fontsize=10)\n",
    "\n",
    "\n",
    "inter_exp_plt.savefig('plots/inter_exp_dist.pdf', bbox_inches='tight')\n",
    "sns.set(rc={'text.usetex': False})"
   ],
   "metadata": {
    "collapsed": false,
    "ExecuteTime": {
     "end_time": "2025-03-04T17:40:33.438721Z",
     "start_time": "2025-03-04T17:40:32.838403Z"
    }
   },
   "id": "5c659f595a48fa26",
   "outputs": [
    {
     "data": {
      "text/plain": [
       "<Figure size 600x600 with 2 Axes>"
      ],
      "image/png": "[encoded data removed]"
     },
     "metadata": {},
     "output_type": "display_data"
    }
   ],
   "execution_count": 61
  },
  {
   "cell_type": "markdown",
   "source": [
    "# Summary of Grades per skill"
   ],
   "metadata": {
    "collapsed": false
   },
   "id": "19f91a6c80b59c4a"
  },
  {
   "cell_type": "code",
   "outputs": [
    {
     "name": "stderr",
     "output_type": "stream",
     "text": [
      "/var/folders/1y/6byzw1px62g2f5w7p_rhb6kh0000gn/T/ipykernel_30348/1988006025.py:1: FutureWarning: The default of observed=False is deprecated and will be changed to True in a future version of pandas. Pass observed=False to retain current behavior or observed=True to adopt the future default and silence this warning.\n",
      "  grade_count_df = grade_df[['skill', 'grade', 'assignment_number']].groupby(['skill', 'grade']).count().reset_index().rename(columns={'assignment_number': 'count'})\n"
     ]
    },
    {
     "data": {
      "text/plain": "            skill grade  count\n0   Code Elegance   A++    148\n1   Code Elegance    A+    197\n2   Code Elegance     A    189\n3   Code Elegance    A-    132\n4   Code Elegance    B+    116\n5   Code Elegance     B    127\n6   Code Elegance    B-     73\n7   Code Elegance    C+     53\n8   Code Elegance     C     21\n9   Code Elegance    C-     13\n10  Code Elegance    D+      2\n11  Code Elegance     D      2\n12  Code Elegance    D-      5\n13  Code Elegance     F     34\n14    Correctness   A++    200\n15    Correctness    A+    227\n16    Correctness     A    197\n17    Correctness    A-    158\n18    Correctness    B+     88\n19    Correctness     B     48\n20    Correctness    B-     35\n21    Correctness    C+     33\n22    Correctness     C     14\n23    Correctness    C-     12\n24    Correctness    D+      3\n25    Correctness     D      5\n26    Correctness    D-      6\n27    Correctness     F     82\n28  Documentation   A++    157\n29  Documentation    A+    207\n30  Documentation     A    207\n31  Documentation    A-    155\n32  Documentation    B+     94\n33  Documentation     B    116\n34  Documentation    B-     67\n35  Documentation    C+     19\n36  Documentation     C     17\n37  Documentation    C-     12\n38  Documentation    D+      2\n39  Documentation     D      2\n40  Documentation    D-      4\n41  Documentation     F     36\n42    Readability   A++    168\n43    Readability    A+    259\n44    Readability     A    195\n45    Readability    A-    182\n46    Readability    B+     96\n47    Readability     B     95\n48    Readability    B-     46\n49    Readability    C+     19\n50    Readability     C     11\n51    Readability    C-      5\n52    Readability    D+      0\n53    Readability     D      0\n54    Readability    D-      3\n55    Readability     F     33",
      "text/html": "<div>\n<style scoped>\n    .dataframe tbody tr th:only-of-type {\n        vertical-align: middle;\n    }\n\n    .dataframe tbody tr th {\n        vertical-align: top;\n    }\n\n    .dataframe thead th {\n        text-align: right;\n    }\n</style>\n<table border=\"1\" class=\"dataframe\">\n  <thead>\n    <tr style=\"text-align: right;\">\n      <th></th>\n      <th>skill</th>\n      <th>grade</th>\n      <th>count</th>\n    </tr>\n  </thead>\n  <tbody>\n    <tr>\n      <th>0</th>\n      <td>Code Elegance</td>\n      <td>A++</td>\n      <td>148</td>\n    </tr>\n    <tr>\n      <th>1</th>\n      <td>Code Elegance</td>\n      <td>A+</td>\n      <td>197</td>\n    </tr>\n    <tr>\n      <th>2</th>\n      <td>Code Elegance</td>\n      <td>A</td>\n      <td>189</td>\n    </tr>\n    <tr>\n      <th>3</th>\n      <td>Code Elegance</td>\n      <td>A-</td>\n      <td>132</td>\n    </tr>\n    <tr>\n      <th>4</th>\n      <td>Code Elegance</td>\n      <td>B+</td>\n      <td>116</td>\n    </tr>\n    <tr>\n      <th>5</th>\n      <td>Code Elegance</td>\n      <td>B</td>\n      <td>127</td>\n    </tr>\n    <tr>\n      <th>6</th>\n      <td>Code Elegance</td>\n      <td>B-</td>\n      <td>73</td>\n    </tr>\n    <tr>\n      <th>7</th>\n      <td>Code Elegance</td>\n      <td>C+</td>\n      <td>53</td>\n    </tr>\n    <tr>\n      <th>8</th>\n      <td>Code Elegance</td>\n      <td>C</td>\n      <td>21</td>\n    </tr>\n    <tr>\n      <th>9</th>\n      <td>Code Elegance</td>\n      <td>C-</td>\n      <td>13</td>\n    </tr>\n    <tr>\n      <th>10</th>\n      <td>Code Elegance</td>\n      <td>D+</td>\n      <td>2</td>\n    </tr>\n    <tr>\n      <th>11</th>\n      <td>Code Elegance</td>\n      <td>D</td>\n      <td>2</td>\n    </tr>\n    <tr>\n      <th>12</th>\n      <td>Code Elegance</td>\n      <td>D-</td>\n      <td>5</td>\n    </tr>\n    <tr>\n      <th>13</th>\n      <td>Code Elegance</td>\n      <td>F</td>\n      <td>34</td>\n    </tr>\n    <tr>\n      <th>14</th>\n      <td>Correctness</td>\n      <td>A++</td>\n      <td>200</td>\n    </tr>\n    <tr>\n      <th>15</th>\n      <td>Correctness</td>\n      <td>A+</td>\n      <td>227</td>\n    </tr>\n    <tr>\n      <th>16</th>\n      <td>Correctness</td>\n      <td>A</td>\n      <td>197</td>\n    </tr>\n    <tr>\n      <th>17</th>\n      <td>Correctness</td>\n      <td>A-</td>\n      <td>158</td>\n    </tr>\n    <tr>\n      <th>18</th>\n      <td>Correctness</td>\n      <td>B+</td>\n      <td>88</td>\n    </tr>\n    <tr>\n      <th>19</th>\n      <td>Correctness</td>\n      <td>B</td>\n      <td>48</td>\n    </tr>\n    <tr>\n      <th>20</th>\n      <td>Correctness</td>\n      <td>B-</td>\n      <td>35</td>\n    </tr>\n    <tr>\n      <th>21</th>\n      <td>Correctness</td>\n      <td>C+</td>\n      <td>33</td>\n    </tr>\n    <tr>\n      <th>22</th>\n      <td>Correctness</td>\n      <td>C</td>\n      <td>14</td>\n    </tr>\n    <tr>\n      <th>23</th>\n      <td>Correctness</td>\n      <td>C-</td>\n      <td>12</td>\n    </tr>\n    <tr>\n      <th>24</th>\n      <td>Correctness</td>\n      <td>D+</td>\n      <td>3</td>\n    </tr>\n    <tr>\n      <th>25</th>\n      <td>Correctness</td>\n      <td>D</td>\n      <td>5</td>\n    </tr>\n    <tr>\n      <th>26</th>\n      <td>Correctness</td>\n      <td>D-</td>\n      <td>6</td>\n    </tr>\n    <tr>\n      <th>27</th>\n      <td>Correctness</td>\n      <td>F</td>\n      <td>82</td>\n    </tr>\n    <tr>\n      <th>28</th>\n      <td>Documentation</td>\n      <td>A++</td>\n      <td>157</td>\n    </tr>\n    <tr>\n      <th>29</th>\n      <td>Documentation</td>\n      <td>A+</td>\n      <td>207</td>\n    </tr>\n    <tr>\n      <th>30</th>\n      <td>Documentation</td>\n      <td>A</td>\n      <td>207</td>\n    </tr>\n    <tr>\n      <th>31</th>\n      <td>Documentation</td>\n      <td>A-</td>\n      <td>155</td>\n    </tr>\n    <tr>\n      <th>32</th>\n      <td>Documentation</td>\n      <td>B+</td>\n      <td>94</td>\n    </tr>\n    <tr>\n      <th>33</th>\n      <td>Documentation</td>\n      <td>B</td>\n      <td>116</td>\n    </tr>\n    <tr>\n      <th>34</th>\n      <td>Documentation</td>\n      <td>B-</td>\n      <td>67</td>\n    </tr>\n    <tr>\n      <th>35</th>\n      <td>Documentation</td>\n      <td>C+</td>\n      <td>19</td>\n    </tr>\n    <tr>\n      <th>36</th>\n      <td>Documentation</td>\n      <td>C</td>\n      <td>17</td>\n    </tr>\n    <tr>\n      <th>37</th>\n      <td>Documentation</td>\n      <td>C-</td>\n      <td>12</td>\n    </tr>\n    <tr>\n      <th>38</th>\n      <td>Documentation</td>\n      <td>D+</td>\n      <td>2</td>\n    </tr>\n    <tr>\n      <th>39</th>\n      <td>Documentation</td>\n      <td>D</td>\n      <td>2</td>\n    </tr>\n    <tr>\n      <th>40</th>\n      <td>Documentation</td>\n      <td>D-</td>\n      <td>4</td>\n    </tr>\n    <tr>\n      <th>41</th>\n      <td>Documentation</td>\n      <td>F</td>\n      <td>36</td>\n    </tr>\n    <tr>\n      <th>42</th>\n      <td>Readability</td>\n      <td>A++</td>\n      <td>168</td>\n    </tr>\n    <tr>\n      <th>43</th>\n      <td>Readability</td>\n      <td>A+</td>\n      <td>259</td>\n    </tr>\n    <tr>\n      <th>44</th>\n      <td>Readability</td>\n      <td>A</td>\n      <td>195</td>\n    </tr>\n    <tr>\n      <th>45</th>\n      <td>Readability</td>\n      <td>A-</td>\n      <td>182</td>\n    </tr>\n    <tr>\n      <th>46</th>\n      <td>Readability</td>\n      <td>B+</td>\n      <td>96</td>\n    </tr>\n    <tr>\n      <th>47</th>\n      <td>Readability</td>\n      <td>B</td>\n      <td>95</td>\n    </tr>\n    <tr>\n      <th>48</th>\n      <td>Readability</td>\n      <td>B-</td>\n      <td>46</td>\n    </tr>\n    <tr>\n      <th>49</th>\n      <td>Readability</td>\n      <td>C+</td>\n      <td>19</td>\n    </tr>\n    <tr>\n      <th>50</th>\n      <td>Readability</td>\n      <td>C</td>\n      <td>11</td>\n    </tr>\n    <tr>\n      <th>51</th>\n      <td>Readability</td>\n      <td>C-</td>\n      <td>5</td>\n    </tr>\n    <tr>\n      <th>52</th>\n      <td>Readability</td>\n      <td>D+</td>\n      <td>0</td>\n    </tr>\n    <tr>\n      <th>53</th>\n      <td>Readability</td>\n      <td>D</td>\n      <td>0</td>\n    </tr>\n    <tr>\n      <th>54</th>\n      <td>Readability</td>\n      <td>D-</td>\n      <td>3</td>\n    </tr>\n    <tr>\n      <th>55</th>\n      <td>Readability</td>\n      <td>F</td>\n      <td>33</td>\n    </tr>\n  </tbody>\n</table>\n</div>"
     },
     "execution_count": 46,
     "metadata": {},
     "output_type": "execute_result"
    }
   ],
   "source": [
    "grade_count_df = grade_df[['skill', 'grade', 'assignment_number']].groupby(['skill', 'grade']).count().reset_index().rename(columns={'assignment_number': 'count'})\n",
    "grade_count_df"
   ],
   "metadata": {
    "collapsed": false,
    "ExecuteTime": {
     "end_time": "2024-07-18T10:53:07.572605Z",
     "start_time": "2024-07-18T10:53:07.564695Z"
    }
   },
   "id": "4ed252cfb04e9a3f",
   "execution_count": 46
  },
  {
   "cell_type": "code",
   "outputs": [
    {
     "data": {
      "text/plain": "<Figure size 640x480 with 1 Axes>",
      "image/png": "[encoded data removed]"
     },
     "metadata": {},
     "output_type": "display_data"
    }
   ],
   "source": [
    "grade_plt = sns.barplot(x='grade', y='count', data=grade_count_df, hue='skill')\n",
    "\n",
    "hatches = ['//', 'x', '\\\\', 'o']\n",
    "colors = [grey, teal, blue, darkgreen]\n",
    "styles = zip(hatches, colors)\n",
    "\n",
    "\n",
    "for style, these_bars in zip(styles, grade_plt.containers):\n",
    "    for this_bar in these_bars:\n",
    "        this_bar.set_hatch(3 * style[0])\n",
    "        this_bar.set_facecolor(style[1])\n",
    "        this_bar.set_edgecolor('black')\n",
    "\n",
    "grade_plt.set(xlabel='Grade', ylabel='Count')\n",
    "handles = grade_plt.get_legend_handles_labels()[0]\n",
    "\n",
    "for i in range(len(handles)):\n",
    "    handles[i].set_facecolor(colors[i])\n",
    "    handles[i].set_hatch(3 * hatches[i])\n",
    "    handles[i].set_edgecolor('black')\n",
    "\n",
    "grade_plt.legend(title='Skill')\n",
    "grade_plt.invert_xaxis()\n",
    "grade_plt.get_figure().savefig('plots/grade_count.pdf', bbox_inches='tight')"
   ],
   "metadata": {
    "collapsed": false,
    "ExecuteTime": {
     "end_time": "2024-07-18T10:53:08.014709Z",
     "start_time": "2024-07-18T10:53:07.573235Z"
    }
   },
   "id": "445c3e9198235998",
   "execution_count": 47
  },
  {
   "cell_type": "code",
   "outputs": [
    {
     "data": {
      "text/plain": "10.119719900609894"
     },
     "execution_count": 48,
     "metadata": {},
     "output_type": "execute_result"
    }
   ],
   "source": [
    "lower_b = grade_count_df[~grade_count_df['grade'].isin(['A++', 'A+', 'A', 'A-', 'B+', 'B', 'B-'])]['count'].sum()\n",
    "\n",
    "(lower_b / grade_count_df['count'].sum()) * 100"
   ],
   "metadata": {
    "collapsed": false,
    "ExecuteTime": {
     "end_time": "2024-07-18T10:53:08.019396Z",
     "start_time": "2024-07-18T10:53:08.015626Z"
    }
   },
   "id": "c9d4ae316b0ef632",
   "execution_count": 48
  },
  {
   "cell_type": "markdown",
   "source": [
    "## Grades per assignment"
   ],
   "metadata": {
    "collapsed": false
   },
   "id": "d3926093129d1f0d"
  },
  {
   "cell_type": "code",
   "outputs": [
    {
     "data": {
      "text/plain": "    assignment_number  participant_id          skill grade  group  grade_code\n0                 302               3    Readability   A++    1-4           0\n4                 188               2    Readability     B    1-4           5\n3                 542               2    Readability    A-    1-4           3\n2                 277               2    Readability    A-    1-4           3\n1                 303               2    Readability    A-    1-4           3\n..                ...             ...            ...   ...    ...         ...\n3                 176              26    Readability   A++  25-28           0\n4                 619              26    Readability    A-  25-28           3\n5                 305              26    Readability    A+  25-28           1\n5                 305              28  Documentation   A++  25-28           0\n18                281              27  Documentation    A-  25-28           3\n\n[4427 rows x 6 columns]",
      "text/html": "<div>\n<style scoped>\n    .dataframe tbody tr th:only-of-type {\n        vertical-align: middle;\n    }\n\n    .dataframe tbody tr th {\n        vertical-align: top;\n    }\n\n    .dataframe thead th {\n        text-align: right;\n    }\n</style>\n<table border=\"1\" class=\"dataframe\">\n  <thead>\n    <tr style=\"text-align: right;\">\n      <th></th>\n      <th>assignment_number</th>\n      <th>participant_id</th>\n      <th>skill</th>\n      <th>grade</th>\n      <th>group</th>\n      <th>grade_code</th>\n    </tr>\n  </thead>\n  <tbody>\n    <tr>\n      <th>0</th>\n      <td>302</td>\n      <td>3</td>\n      <td>Readability</td>\n      <td>A++</td>\n      <td>1-4</td>\n      <td>0</td>\n    </tr>\n    <tr>\n      <th>4</th>\n      <td>188</td>\n      <td>2</td>\n      <td>Readability</td>\n      <td>B</td>\n      <td>1-4</td>\n      <td>5</td>\n    </tr>\n    <tr>\n      <th>3</th>\n      <td>542</td>\n      <td>2</td>\n      <td>Readability</td>\n      <td>A-</td>\n      <td>1-4</td>\n      <td>3</td>\n    </tr>\n    <tr>\n      <th>2</th>\n      <td>277</td>\n      <td>2</td>\n      <td>Readability</td>\n      <td>A-</td>\n      <td>1-4</td>\n      <td>3</td>\n    </tr>\n    <tr>\n      <th>1</th>\n      <td>303</td>\n      <td>2</td>\n      <td>Readability</td>\n      <td>A-</td>\n      <td>1-4</td>\n      <td>3</td>\n    </tr>\n    <tr>\n      <th>...</th>\n      <td>...</td>\n      <td>...</td>\n      <td>...</td>\n      <td>...</td>\n      <td>...</td>\n      <td>...</td>\n    </tr>\n    <tr>\n      <th>3</th>\n      <td>176</td>\n      <td>26</td>\n      <td>Readability</td>\n      <td>A++</td>\n      <td>25-28</td>\n      <td>0</td>\n    </tr>\n    <tr>\n      <th>4</th>\n      <td>619</td>\n      <td>26</td>\n      <td>Readability</td>\n      <td>A-</td>\n      <td>25-28</td>\n      <td>3</td>\n    </tr>\n    <tr>\n      <th>5</th>\n      <td>305</td>\n      <td>26</td>\n      <td>Readability</td>\n      <td>A+</td>\n      <td>25-28</td>\n      <td>1</td>\n    </tr>\n    <tr>\n      <th>5</th>\n      <td>305</td>\n      <td>28</td>\n      <td>Documentation</td>\n      <td>A++</td>\n      <td>25-28</td>\n      <td>0</td>\n    </tr>\n    <tr>\n      <th>18</th>\n      <td>281</td>\n      <td>27</td>\n      <td>Documentation</td>\n      <td>A-</td>\n      <td>25-28</td>\n      <td>3</td>\n    </tr>\n  </tbody>\n</table>\n<p>4427 rows × 6 columns</p>\n</div>"
     },
     "execution_count": 49,
     "metadata": {},
     "output_type": "execute_result"
    }
   ],
   "source": [
    "per_assignment_df = grade_df[['assignment_number', 'participant_id', 'skill', 'grade', 'group']].copy()\n",
    "per_assignment_df['grade_code'] = per_assignment_df['grade'].cat.codes\n",
    "per_assignment_df['assignment_number'] = per_assignment_df['assignment_number'].astype('int64')\n",
    "\n",
    "per_assignment_df"
   ],
   "metadata": {
    "collapsed": false,
    "ExecuteTime": {
     "end_time": "2024-07-18T10:53:08.026760Z",
     "start_time": "2024-07-18T10:53:08.019948Z"
    }
   },
   "id": "1fbc79b74096de8c",
   "execution_count": 49
  },
  {
   "cell_type": "code",
   "outputs": [
    {
     "data": {
      "text/plain": "{0: 'A++',\n 1: 'A+',\n 2: 'A',\n 3: 'A-',\n 4: 'B+',\n 5: 'B',\n 6: 'B-',\n 7: 'C+',\n 8: 'C',\n 9: 'C-',\n 10: 'D+',\n 11: 'D',\n 12: 'D-',\n 13: 'F'}"
     },
     "execution_count": 50,
     "metadata": {},
     "output_type": "execute_result"
    }
   ],
   "source": [
    "grade_code_dict = {k:v for k, v in dict(enumerate(per_assignment_df['grade'].cat.categories)).items()}\n",
    "grade_code_dict"
   ],
   "metadata": {
    "collapsed": false,
    "ExecuteTime": {
     "end_time": "2024-07-18T10:53:08.030211Z",
     "start_time": "2024-07-18T10:53:08.027449Z"
    }
   },
   "id": "f56307e9e6bc3e9c",
   "execution_count": 50
  },
  {
   "cell_type": "code",
   "outputs": [],
   "source": [
    "def plot_grade_per_assignment(skill, group):\n",
    "    a4_dims = (8.4, 10.7)\n",
    "    fig, ax = plt.subplots(figsize=a4_dims)\n",
    "\n",
    "    data = per_assignment_df[(per_assignment_df['skill'] == skill) & (per_assignment_df['group'] == group)]\n",
    "    range_df = abs(data[['assignment_number', 'grade_code']].groupby(['assignment_number']).min().dropna() - data[['assignment_number', 'grade_code']].groupby(['assignment_number']).max().dropna()).reset_index()\n",
    "    range_df.columns = ['assignment_number', 'range']\n",
    "\n",
    "    data = data.merge(range_df, on='assignment_number', how='left')\n",
    "    data['assignment_number'] = pd.Categorical(data['assignment_number'])\n",
    "    plot_order = data.sort_values(by='range', ascending=False)['assignment_number'].values\n",
    "    \n",
    "    ax = sns.pointplot(data, x='grade_code', y='assignment_number',\n",
    "                       markers='d', markersize=4, linestyle='None', order=plot_order,\n",
    "                       errorbar=lambda x: (x.min(), x.max()), err_kws=({'alpha': 0.5}), capsize=.5\n",
    "                       )\n",
    "    ax.set_xticks(range(len(grade_code_dict)))\n",
    "    \n",
    "    labels = [grade_code_dict[i] for i in range(len(ax.get_xticklabels())) if i in grade_code_dict.keys()]\n",
    "\n",
    "    ax.set_xticklabels(labels)\n",
    "    ax.set_xlabel('Grade')\n",
    "    ax.set_ylabel('Assignment Number')\n",
    "    ax.set_title(f'Skill = {skill} - Group = {group}')\n",
    "    ax.invert_xaxis()\n",
    "    \n",
    "    ax.get_figure().savefig(f'plots/grade_per_assignment/grade_per_assignment_{skill}_{group}.pdf', bbox_inches='tight')\n",
    "    plt.close(ax.get_figure())\n",
    "\n",
    "plot_grade_per_assignment('Correctness', '1-4')"
   ],
   "metadata": {
    "collapsed": false,
    "ExecuteTime": {
     "end_time": "2024-07-18T10:53:08.178361Z",
     "start_time": "2024-07-18T10:53:08.030821Z"
    }
   },
   "id": "f3728b57b831c7e2",
   "execution_count": 51
  },
  {
   "cell_type": "code",
   "outputs": [],
   "source": [
    "for skill in per_assignment_df['skill'].unique():\n",
    "    for group in per_assignment_df['group'].unique():\n",
    "        plot_grade_per_assignment(skill, group)"
   ],
   "metadata": {
    "collapsed": false,
    "ExecuteTime": {
     "end_time": "2024-07-18T10:53:12.217668Z",
     "start_time": "2024-07-18T10:53:08.179244Z"
    }
   },
   "id": "b4a1b8dde7547f99",
   "execution_count": 52
  },
  {
   "cell_type": "markdown",
   "source": [
    "## Good, medium and bad grading"
   ],
   "metadata": {
    "collapsed": false
   },
   "id": "dae86cf67acbf5a"
  },
  {
   "cell_type": "code",
   "outputs": [
    {
     "data": {
      "text/plain": "                                 range\nskill         assignment_number       \nCode Elegance 2                      8\n              6                      2\n              8                      5\n              9                      4\n              10                    12\n...                                ...\nReadability   682                   11\n              683                    6\n              684                    4\n              685                    9\n              686                    5\n\n[1112 rows x 1 columns]",
      "text/html": "<div>\n<style scoped>\n    .dataframe tbody tr th:only-of-type {\n        vertical-align: middle;\n    }\n\n    .dataframe tbody tr th {\n        vertical-align: top;\n    }\n\n    .dataframe thead th {\n        text-align: right;\n    }\n</style>\n<table border=\"1\" class=\"dataframe\">\n  <thead>\n    <tr style=\"text-align: right;\">\n      <th></th>\n      <th></th>\n      <th>range</th>\n    </tr>\n    <tr>\n      <th>skill</th>\n      <th>assignment_number</th>\n      <th></th>\n    </tr>\n  </thead>\n  <tbody>\n    <tr>\n      <th rowspan=\"5\" valign=\"top\">Code Elegance</th>\n      <th>2</th>\n      <td>8</td>\n    </tr>\n    <tr>\n      <th>6</th>\n      <td>2</td>\n    </tr>\n    <tr>\n      <th>8</th>\n      <td>5</td>\n    </tr>\n    <tr>\n      <th>9</th>\n      <td>4</td>\n    </tr>\n    <tr>\n      <th>10</th>\n      <td>12</td>\n    </tr>\n    <tr>\n      <th>...</th>\n      <th>...</th>\n      <td>...</td>\n    </tr>\n    <tr>\n      <th rowspan=\"5\" valign=\"top\">Readability</th>\n      <th>682</th>\n      <td>11</td>\n    </tr>\n    <tr>\n      <th>683</th>\n      <td>6</td>\n    </tr>\n    <tr>\n      <th>684</th>\n      <td>4</td>\n    </tr>\n    <tr>\n      <th>685</th>\n      <td>9</td>\n    </tr>\n    <tr>\n      <th>686</th>\n      <td>5</td>\n    </tr>\n  </tbody>\n</table>\n<p>1112 rows × 1 columns</p>\n</div>"
     },
     "execution_count": 53,
     "metadata": {},
     "output_type": "execute_result"
    }
   ],
   "source": [
    "range_df = abs(per_assignment_df[['skill', 'assignment_number', 'grade_code']].groupby(['skill', 'assignment_number']).min().dropna() - per_assignment_df[['assignment_number', 'grade_code']].groupby(['assignment_number']).max().dropna())\n",
    "range_df.columns = ['range']\n",
    "range_df"
   ],
   "metadata": {
    "collapsed": false,
    "ExecuteTime": {
     "end_time": "2024-07-18T10:53:12.225314Z",
     "start_time": "2024-07-18T10:53:12.218327Z"
    }
   },
   "id": "99f1ae9dc1d76873",
   "execution_count": 53
  },
  {
   "cell_type": "code",
   "outputs": [
    {
     "data": {
      "text/plain": "                                 range         Grading Reliability\nskill         assignment_number                                   \nCode Elegance 2                      8   Poor \\n (Grade Range > 3)\n              6                      2  Good \\n (Grade Range <= 2)\n              8                      5   Poor \\n (Grade Range > 3)\n              9                      4   Poor \\n (Grade Range > 3)\n              10                    12   Poor \\n (Grade Range > 3)\n...                                ...                         ...\nReadability   682                   11   Poor \\n (Grade Range > 3)\n              683                    6   Poor \\n (Grade Range > 3)\n              684                    4   Poor \\n (Grade Range > 3)\n              685                    9   Poor \\n (Grade Range > 3)\n              686                    5   Poor \\n (Grade Range > 3)\n\n[1112 rows x 2 columns]",
      "text/html": "<div>\n<style scoped>\n    .dataframe tbody tr th:only-of-type {\n        vertical-align: middle;\n    }\n\n    .dataframe tbody tr th {\n        vertical-align: top;\n    }\n\n    .dataframe thead th {\n        text-align: right;\n    }\n</style>\n<table border=\"1\" class=\"dataframe\">\n  <thead>\n    <tr style=\"text-align: right;\">\n      <th></th>\n      <th></th>\n      <th>range</th>\n      <th>Grading Reliability</th>\n    </tr>\n    <tr>\n      <th>skill</th>\n      <th>assignment_number</th>\n      <th></th>\n      <th></th>\n    </tr>\n  </thead>\n  <tbody>\n    <tr>\n      <th rowspan=\"5\" valign=\"top\">Code Elegance</th>\n      <th>2</th>\n      <td>8</td>\n      <td>Poor \\n (Grade Range &gt; 3)</td>\n    </tr>\n    <tr>\n      <th>6</th>\n      <td>2</td>\n      <td>Good \\n (Grade Range &lt;= 2)</td>\n    </tr>\n    <tr>\n      <th>8</th>\n      <td>5</td>\n      <td>Poor \\n (Grade Range &gt; 3)</td>\n    </tr>\n    <tr>\n      <th>9</th>\n      <td>4</td>\n      <td>Poor \\n (Grade Range &gt; 3)</td>\n    </tr>\n    <tr>\n      <th>10</th>\n      <td>12</td>\n      <td>Poor \\n (Grade Range &gt; 3)</td>\n    </tr>\n    <tr>\n      <th>...</th>\n      <th>...</th>\n      <td>...</td>\n      <td>...</td>\n    </tr>\n    <tr>\n      <th rowspan=\"5\" valign=\"top\">Readability</th>\n      <th>682</th>\n      <td>11</td>\n      <td>Poor \\n (Grade Range &gt; 3)</td>\n    </tr>\n    <tr>\n      <th>683</th>\n      <td>6</td>\n      <td>Poor \\n (Grade Range &gt; 3)</td>\n    </tr>\n    <tr>\n      <th>684</th>\n      <td>4</td>\n      <td>Poor \\n (Grade Range &gt; 3)</td>\n    </tr>\n    <tr>\n      <th>685</th>\n      <td>9</td>\n      <td>Poor \\n (Grade Range &gt; 3)</td>\n    </tr>\n    <tr>\n      <th>686</th>\n      <td>5</td>\n      <td>Poor \\n (Grade Range &gt; 3)</td>\n    </tr>\n  </tbody>\n</table>\n<p>1112 rows × 2 columns</p>\n</div>"
     },
     "execution_count": 54,
     "metadata": {},
     "output_type": "execute_result"
    }
   ],
   "source": [
    "def grade_bucket(grade_dist):\n",
    "    if grade_dist <= 2:\n",
    "        return 'Good \\n (Grade Range <= 2)'\n",
    "    elif grade_dist == 3:\n",
    "        return 'Mediocre \\n (Grade Range = 3)'\n",
    "    else:\n",
    "        return 'Poor \\n (Grade Range > 3)'\n",
    "\n",
    "range_df['Grading Reliability'] = range_df['range'].map(grade_bucket)\n",
    "range_df"
   ],
   "metadata": {
    "collapsed": false,
    "ExecuteTime": {
     "end_time": "2024-07-18T10:53:12.231987Z",
     "start_time": "2024-07-18T10:53:12.226078Z"
    }
   },
   "id": "cf48386f8ec1bd41",
   "execution_count": 54
  },
  {
   "cell_type": "code",
   "outputs": [],
   "source": [
    "grade_quality_df = pd.merge(range_df, per_assignment_df, how='outer', on=['assignment_number', 'skill'])[['skill', 'grade', 'Grading Reliability']]"
   ],
   "metadata": {
    "collapsed": false,
    "ExecuteTime": {
     "end_time": "2024-07-18T10:53:12.238411Z",
     "start_time": "2024-07-18T10:53:12.232568Z"
    }
   },
   "id": "fb52af49bd4e1b4",
   "execution_count": 55
  },
  {
   "cell_type": "code",
   "outputs": [],
   "source": [
    "# Modified from: https://stackoverflow.com/questions/69846902/how-to-plot-stacked-100-bar-plot-with-seaborn-for-categorical-data\n",
    "\n",
    "def plot_grade_relability(skill):\n",
    "    distribution = pd.crosstab(grade_quality_df[grade_quality_df['skill'] == skill]['grade'], grade_quality_df[grade_quality_df['skill'] == skill]['Grading Reliability'], normalize='index')\n",
    "    \n",
    "    rel_plot = sns.barplot(data=distribution.cumsum(axis=1).stack().reset_index(name='Proportion'),\n",
    "                    x='grade', y='Proportion', hue='Grading Reliability',\n",
    "                    hue_order = distribution.columns[::-1],   # reverse hue order so that the taller bars got plotted first\n",
    "                    dodge=False, legend=skill=='Code Elegance'\n",
    "                )\n",
    "    rel_plot.set(xlabel='Grade', title=f'Skill = {skill}')\n",
    "    rel_plot.invert_xaxis()\n",
    "    \n",
    "    hatches = ['//', 'x', '\\\\']\n",
    "    colors = ['red', 'orange', 'green']\n",
    "    styles = zip(hatches, colors)\n",
    "    \n",
    "    \n",
    "    for style, these_bars in zip(styles, rel_plot.containers):\n",
    "        for this_bar in these_bars:\n",
    "            this_bar.set_hatch(3 * style[0])\n",
    "            this_bar.set_facecolor(style[1])\n",
    "            this_bar.set_edgecolor('black')\n",
    "    \n",
    "    if skill == 'Code Elegance':\n",
    "        handles = rel_plot.get_legend_handles_labels()[0]\n",
    "        \n",
    "        for i in range(len(handles)):\n",
    "            handles[i].set_facecolor(colors[i])\n",
    "            handles[i].set_hatch(3 * hatches[i])\n",
    "            handles[i].set_edgecolor('black')\n",
    "    \n",
    "        rel_plot.legend(title='Grading Reliability')\n",
    "\n",
    "        sns.move_legend(rel_plot, 'upper right')\n",
    "    \n",
    "    rel_plot.get_figure().savefig(f'plots/grade_reliability_{skill}.pdf', bbox_inches='tight')\n",
    "    plt.close(rel_plot.get_figure())\n",
    "    \n",
    "for skill in grade_quality_df['skill'].unique():\n",
    "    plot_grade_relability(skill)"
   ],
   "metadata": {
    "collapsed": false,
    "ExecuteTime": {
     "end_time": "2024-07-18T10:53:12.800875Z",
     "start_time": "2024-07-18T10:53:12.239019Z"
    }
   },
   "id": "e8bac9aac6278fc0",
   "execution_count": 56
  }
 ],
 "metadata": {
  "kernelspec": {
   "display_name": "Python 3",
   "language": "python",
   "name": "python3"
  },
  "language_info": {
   "codemirror_mode": {
    "name": "ipython",
    "version": 2
   },
   "file_extension": ".py",
   "mimetype": "text/x-python",
   "name": "python",
   "nbconvert_exporter": "python",
   "pygments_lexer": "ipython2",
   "version": "2.7.6"
  }
 },
 "nbformat": 4,
 "nbformat_minor": 5
}
