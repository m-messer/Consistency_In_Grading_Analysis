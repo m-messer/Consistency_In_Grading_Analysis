{
 "cells": [
  {
   "cell_type": "code",
   "execution_count": 1,
   "id": "initial_id",
   "metadata": {
    "collapsed": true,
    "ExecuteTime": {
     "end_time": "2024-05-08T13:14:12.436430Z",
     "start_time": "2024-05-08T13:14:12.433619Z"
    }
   },
   "outputs": [],
   "source": [
    "import pandas as pd\n",
    "import seaborn as sns\n",
    "from statsmodels.stats.inter_rater import fleiss_kappa, aggregate_raters"
   ]
  },
  {
   "cell_type": "markdown",
   "source": [
    "# Grade Analysis"
   ],
   "metadata": {
    "collapsed": false
   },
   "id": "cdb8b257c38e6f4b"
  },
  {
   "cell_type": "code",
   "outputs": [
    {
     "data": {
      "text/plain": "    assignment_number                                           comments  \\\n0                18.0  The code use meaningful identifier names and a...   \n1               620.0  Code is well organized into logical classes an...   \n2               466.0  The code is well-organized, consistently inden...   \n3               591.0  The code is well organized and readable. Inden...   \n4               587.0  The code is well organized and readable. Inden...   \n..                ...                                                ...   \n15               58.0                                                NaN   \n16              353.0                                                NaN   \n17              422.0                                                NaN   \n18              480.0                                                NaN   \n19              334.0                                                NaN   \n\n            skill  participant_id  batch grade  \n0     Readability              15      1    B+  \n1     Readability              15      1    A+  \n2     Readability              15      1    A-  \n3     Readability              15      1    A-  \n4     Readability              15      1    A-  \n..            ...             ...    ...   ...  \n15  Documentation              14      1   A++  \n16  Documentation              14      1   A++  \n17  Documentation              14      1   A++  \n18  Documentation              14      1   A++  \n19  Documentation              14      1    A+  \n\n[4480 rows x 6 columns]",
      "text/html": "<div>\n<style scoped>\n    .dataframe tbody tr th:only-of-type {\n        vertical-align: middle;\n    }\n\n    .dataframe tbody tr th {\n        vertical-align: top;\n    }\n\n    .dataframe thead th {\n        text-align: right;\n    }\n</style>\n<table border=\"1\" class=\"dataframe\">\n  <thead>\n    <tr style=\"text-align: right;\">\n      <th></th>\n      <th>assignment_number</th>\n      <th>comments</th>\n      <th>skill</th>\n      <th>participant_id</th>\n      <th>batch</th>\n      <th>grade</th>\n    </tr>\n  </thead>\n  <tbody>\n    <tr>\n      <th>0</th>\n      <td>18.0</td>\n      <td>The code use meaningful identifier names and a...</td>\n      <td>Readability</td>\n      <td>15</td>\n      <td>1</td>\n      <td>B+</td>\n    </tr>\n    <tr>\n      <th>1</th>\n      <td>620.0</td>\n      <td>Code is well organized into logical classes an...</td>\n      <td>Readability</td>\n      <td>15</td>\n      <td>1</td>\n      <td>A+</td>\n    </tr>\n    <tr>\n      <th>2</th>\n      <td>466.0</td>\n      <td>The code is well-organized, consistently inden...</td>\n      <td>Readability</td>\n      <td>15</td>\n      <td>1</td>\n      <td>A-</td>\n    </tr>\n    <tr>\n      <th>3</th>\n      <td>591.0</td>\n      <td>The code is well organized and readable. Inden...</td>\n      <td>Readability</td>\n      <td>15</td>\n      <td>1</td>\n      <td>A-</td>\n    </tr>\n    <tr>\n      <th>4</th>\n      <td>587.0</td>\n      <td>The code is well organized and readable. Inden...</td>\n      <td>Readability</td>\n      <td>15</td>\n      <td>1</td>\n      <td>A-</td>\n    </tr>\n    <tr>\n      <th>...</th>\n      <td>...</td>\n      <td>...</td>\n      <td>...</td>\n      <td>...</td>\n      <td>...</td>\n      <td>...</td>\n    </tr>\n    <tr>\n      <th>15</th>\n      <td>58.0</td>\n      <td>NaN</td>\n      <td>Documentation</td>\n      <td>14</td>\n      <td>1</td>\n      <td>A++</td>\n    </tr>\n    <tr>\n      <th>16</th>\n      <td>353.0</td>\n      <td>NaN</td>\n      <td>Documentation</td>\n      <td>14</td>\n      <td>1</td>\n      <td>A++</td>\n    </tr>\n    <tr>\n      <th>17</th>\n      <td>422.0</td>\n      <td>NaN</td>\n      <td>Documentation</td>\n      <td>14</td>\n      <td>1</td>\n      <td>A++</td>\n    </tr>\n    <tr>\n      <th>18</th>\n      <td>480.0</td>\n      <td>NaN</td>\n      <td>Documentation</td>\n      <td>14</td>\n      <td>1</td>\n      <td>A++</td>\n    </tr>\n    <tr>\n      <th>19</th>\n      <td>334.0</td>\n      <td>NaN</td>\n      <td>Documentation</td>\n      <td>14</td>\n      <td>1</td>\n      <td>A+</td>\n    </tr>\n  </tbody>\n</table>\n<p>4480 rows × 6 columns</p>\n</div>"
     },
     "execution_count": 2,
     "metadata": {},
     "output_type": "execute_result"
    }
   ],
   "source": [
    "grade_df = pd.read_csv('Menagerie/data/grades.csv', index_col=0)\n",
    "grade_df"
   ],
   "metadata": {
    "collapsed": false,
    "ExecuteTime": {
     "end_time": "2024-05-08T13:14:12.451772Z",
     "start_time": "2024-05-08T13:14:12.437168Z"
    }
   },
   "id": "c69e63909be6a18",
   "execution_count": 2
  },
  {
   "cell_type": "code",
   "outputs": [],
   "source": [],
   "metadata": {
    "collapsed": false
   },
   "id": "7ce7de53ce2e7e96"
  },
  {
   "cell_type": "code",
   "outputs": [
    {
     "data": {
      "text/plain": "    participant_id  assignment_number grade\n0               15               18.0    B+\n1               15              620.0    A+\n2               15              466.0    A-\n3               15              591.0    A-\n4               15              587.0    A-\n..             ...                ...   ...\n15              14               58.0   A++\n16              14              353.0   A++\n17              14              422.0   A++\n18              14              480.0   A++\n19              14              334.0    A+\n\n[1120 rows x 3 columns]",
      "text/html": "<div>\n<style scoped>\n    .dataframe tbody tr th:only-of-type {\n        vertical-align: middle;\n    }\n\n    .dataframe tbody tr th {\n        vertical-align: top;\n    }\n\n    .dataframe thead th {\n        text-align: right;\n    }\n</style>\n<table border=\"1\" class=\"dataframe\">\n  <thead>\n    <tr style=\"text-align: right;\">\n      <th></th>\n      <th>participant_id</th>\n      <th>assignment_number</th>\n      <th>grade</th>\n    </tr>\n  </thead>\n  <tbody>\n    <tr>\n      <th>0</th>\n      <td>15</td>\n      <td>18.0</td>\n      <td>B+</td>\n    </tr>\n    <tr>\n      <th>1</th>\n      <td>15</td>\n      <td>620.0</td>\n      <td>A+</td>\n    </tr>\n    <tr>\n      <th>2</th>\n      <td>15</td>\n      <td>466.0</td>\n      <td>A-</td>\n    </tr>\n    <tr>\n      <th>3</th>\n      <td>15</td>\n      <td>591.0</td>\n      <td>A-</td>\n    </tr>\n    <tr>\n      <th>4</th>\n      <td>15</td>\n      <td>587.0</td>\n      <td>A-</td>\n    </tr>\n    <tr>\n      <th>...</th>\n      <td>...</td>\n      <td>...</td>\n      <td>...</td>\n    </tr>\n    <tr>\n      <th>15</th>\n      <td>14</td>\n      <td>58.0</td>\n      <td>A++</td>\n    </tr>\n    <tr>\n      <th>16</th>\n      <td>14</td>\n      <td>353.0</td>\n      <td>A++</td>\n    </tr>\n    <tr>\n      <th>17</th>\n      <td>14</td>\n      <td>422.0</td>\n      <td>A++</td>\n    </tr>\n    <tr>\n      <th>18</th>\n      <td>14</td>\n      <td>480.0</td>\n      <td>A++</td>\n    </tr>\n    <tr>\n      <th>19</th>\n      <td>14</td>\n      <td>334.0</td>\n      <td>A+</td>\n    </tr>\n  </tbody>\n</table>\n<p>1120 rows × 3 columns</p>\n</div>"
     },
     "execution_count": 9,
     "metadata": {},
     "output_type": "execute_result"
    }
   ],
   "source": [
    "readability_df = grade_df[grade_df['skill'] == 'Readability'][['participant_id', 'assignment_number', 'grade']]\n",
    "readability_df"
   ],
   "metadata": {
    "collapsed": false,
    "ExecuteTime": {
     "end_time": "2024-05-08T13:20:36.637535Z",
     "start_time": "2024-05-08T13:20:36.631642Z"
    }
   },
   "id": "269be2e9e937ec",
   "execution_count": 9
  },
  {
   "cell_type": "code",
   "outputs": [
    {
     "data": {
      "text/plain": "    participant_id  assignment_number grade\n19               1              144.0     B\n18               1              327.0     A\n17               1              219.0     A\n16               1              481.0     B\n15               1              218.0     A\n..             ...                ...   ...\n13               4              453.0     A\n12               4              143.0    A-\n11               4              223.0    A-\n15               4              234.0    A+\n14               4              601.0    B+\n\n[160 rows x 3 columns]",
      "text/html": "<div>\n<style scoped>\n    .dataframe tbody tr th:only-of-type {\n        vertical-align: middle;\n    }\n\n    .dataframe tbody tr th {\n        vertical-align: top;\n    }\n\n    .dataframe thead th {\n        text-align: right;\n    }\n</style>\n<table border=\"1\" class=\"dataframe\">\n  <thead>\n    <tr style=\"text-align: right;\">\n      <th></th>\n      <th>participant_id</th>\n      <th>assignment_number</th>\n      <th>grade</th>\n    </tr>\n  </thead>\n  <tbody>\n    <tr>\n      <th>19</th>\n      <td>1</td>\n      <td>144.0</td>\n      <td>B</td>\n    </tr>\n    <tr>\n      <th>18</th>\n      <td>1</td>\n      <td>327.0</td>\n      <td>A</td>\n    </tr>\n    <tr>\n      <th>17</th>\n      <td>1</td>\n      <td>219.0</td>\n      <td>A</td>\n    </tr>\n    <tr>\n      <th>16</th>\n      <td>1</td>\n      <td>481.0</td>\n      <td>B</td>\n    </tr>\n    <tr>\n      <th>15</th>\n      <td>1</td>\n      <td>218.0</td>\n      <td>A</td>\n    </tr>\n    <tr>\n      <th>...</th>\n      <td>...</td>\n      <td>...</td>\n      <td>...</td>\n    </tr>\n    <tr>\n      <th>13</th>\n      <td>4</td>\n      <td>453.0</td>\n      <td>A</td>\n    </tr>\n    <tr>\n      <th>12</th>\n      <td>4</td>\n      <td>143.0</td>\n      <td>A-</td>\n    </tr>\n    <tr>\n      <th>11</th>\n      <td>4</td>\n      <td>223.0</td>\n      <td>A-</td>\n    </tr>\n    <tr>\n      <th>15</th>\n      <td>4</td>\n      <td>234.0</td>\n      <td>A+</td>\n    </tr>\n    <tr>\n      <th>14</th>\n      <td>4</td>\n      <td>601.0</td>\n      <td>B+</td>\n    </tr>\n  </tbody>\n</table>\n<p>160 rows × 3 columns</p>\n</div>"
     },
     "execution_count": 45,
     "metadata": {},
     "output_type": "execute_result"
    }
   ],
   "source": [
    "readability_batch_df = readability_df[readability_df['participant_id'].isin([1, 2, 3, 4])].sort_values(by='participant_id')\n",
    "readability_batch_df"
   ],
   "metadata": {
    "collapsed": false,
    "ExecuteTime": {
     "end_time": "2024-05-08T13:57:22.210258Z",
     "start_time": "2024-05-08T13:57:22.205007Z"
    }
   },
   "id": "3a4ec580c67af906",
   "execution_count": 45
  },
  {
   "cell_type": "code",
   "outputs": [
    {
     "data": {
      "text/plain": "participant_id      1   2    3    4\nassignment_number                  \n29.0                F   F    F    F\n36.0                C  A+  A++    B\n59.0               A+  B+  A++   B+\n111.0               B  A-  A++    B\n119.0               B  B-  A++   B+\n143.0               B   B  A++   A-\n144.0               B  A-  A++  A++\n188.0              A-   B  A++    A\n218.0               A   A  A++   A-\n219.0               A  C-  A++   B+\n223.0               A  A-  A++   A-\n234.0               A  A+  A++   A+\n251.0               F  B-  A++    F\n261.0               C  B-  A++    A\n274.0               C  A-  A++   B+\n277.0               A  A-  A++   A-\n290.0               A  A-  A++   B+\n302.0               A   A  A++   B-\n303.0               B  A-   A+   A-\n316.0               A  A-  A++   B+\n327.0               A   A  A++   A+\n361.0               A  A-  A++   B+\n391.0              A+   B  A++    A\n399.0               F   F    F    F\n427.0               A  A+  A++   A+\n453.0               A  B+  A++    A\n481.0               B   B  A++    F\n484.0               B  A-  A++   A-\n522.0               B   A  A++   B+\n542.0              A+  A-  A++   A-\n554.0               B   A  A++   B-\n565.0              C+  B+  A++   A-\n575.0              A-  A-  A++   A+\n588.0               B  B+  A++    B\n601.0               A  B+  A++   B+\n612.0               A   B  A++   A-\n629.0               B   A  A++   B+\n650.0               B  A+  A++    B\n672.0              A-   A  A++    A\n680.0               A   A  A++   A+",
      "text/html": "<div>\n<style scoped>\n    .dataframe tbody tr th:only-of-type {\n        vertical-align: middle;\n    }\n\n    .dataframe tbody tr th {\n        vertical-align: top;\n    }\n\n    .dataframe thead th {\n        text-align: right;\n    }\n</style>\n<table border=\"1\" class=\"dataframe\">\n  <thead>\n    <tr style=\"text-align: right;\">\n      <th>participant_id</th>\n      <th>1</th>\n      <th>2</th>\n      <th>3</th>\n      <th>4</th>\n    </tr>\n    <tr>\n      <th>assignment_number</th>\n      <th></th>\n      <th></th>\n      <th></th>\n      <th></th>\n    </tr>\n  </thead>\n  <tbody>\n    <tr>\n      <th>29.0</th>\n      <td>F</td>\n      <td>F</td>\n      <td>F</td>\n      <td>F</td>\n    </tr>\n    <tr>\n      <th>36.0</th>\n      <td>C</td>\n      <td>A+</td>\n      <td>A++</td>\n      <td>B</td>\n    </tr>\n    <tr>\n      <th>59.0</th>\n      <td>A+</td>\n      <td>B+</td>\n      <td>A++</td>\n      <td>B+</td>\n    </tr>\n    <tr>\n      <th>111.0</th>\n      <td>B</td>\n      <td>A-</td>\n      <td>A++</td>\n      <td>B</td>\n    </tr>\n    <tr>\n      <th>119.0</th>\n      <td>B</td>\n      <td>B-</td>\n      <td>A++</td>\n      <td>B+</td>\n    </tr>\n    <tr>\n      <th>143.0</th>\n      <td>B</td>\n      <td>B</td>\n      <td>A++</td>\n      <td>A-</td>\n    </tr>\n    <tr>\n      <th>144.0</th>\n      <td>B</td>\n      <td>A-</td>\n      <td>A++</td>\n      <td>A++</td>\n    </tr>\n    <tr>\n      <th>188.0</th>\n      <td>A-</td>\n      <td>B</td>\n      <td>A++</td>\n      <td>A</td>\n    </tr>\n    <tr>\n      <th>218.0</th>\n      <td>A</td>\n      <td>A</td>\n      <td>A++</td>\n      <td>A-</td>\n    </tr>\n    <tr>\n      <th>219.0</th>\n      <td>A</td>\n      <td>C-</td>\n      <td>A++</td>\n      <td>B+</td>\n    </tr>\n    <tr>\n      <th>223.0</th>\n      <td>A</td>\n      <td>A-</td>\n      <td>A++</td>\n      <td>A-</td>\n    </tr>\n    <tr>\n      <th>234.0</th>\n      <td>A</td>\n      <td>A+</td>\n      <td>A++</td>\n      <td>A+</td>\n    </tr>\n    <tr>\n      <th>251.0</th>\n      <td>F</td>\n      <td>B-</td>\n      <td>A++</td>\n      <td>F</td>\n    </tr>\n    <tr>\n      <th>261.0</th>\n      <td>C</td>\n      <td>B-</td>\n      <td>A++</td>\n      <td>A</td>\n    </tr>\n    <tr>\n      <th>274.0</th>\n      <td>C</td>\n      <td>A-</td>\n      <td>A++</td>\n      <td>B+</td>\n    </tr>\n    <tr>\n      <th>277.0</th>\n      <td>A</td>\n      <td>A-</td>\n      <td>A++</td>\n      <td>A-</td>\n    </tr>\n    <tr>\n      <th>290.0</th>\n      <td>A</td>\n      <td>A-</td>\n      <td>A++</td>\n      <td>B+</td>\n    </tr>\n    <tr>\n      <th>302.0</th>\n      <td>A</td>\n      <td>A</td>\n      <td>A++</td>\n      <td>B-</td>\n    </tr>\n    <tr>\n      <th>303.0</th>\n      <td>B</td>\n      <td>A-</td>\n      <td>A+</td>\n      <td>A-</td>\n    </tr>\n    <tr>\n      <th>316.0</th>\n      <td>A</td>\n      <td>A-</td>\n      <td>A++</td>\n      <td>B+</td>\n    </tr>\n    <tr>\n      <th>327.0</th>\n      <td>A</td>\n      <td>A</td>\n      <td>A++</td>\n      <td>A+</td>\n    </tr>\n    <tr>\n      <th>361.0</th>\n      <td>A</td>\n      <td>A-</td>\n      <td>A++</td>\n      <td>B+</td>\n    </tr>\n    <tr>\n      <th>391.0</th>\n      <td>A+</td>\n      <td>B</td>\n      <td>A++</td>\n      <td>A</td>\n    </tr>\n    <tr>\n      <th>399.0</th>\n      <td>F</td>\n      <td>F</td>\n      <td>F</td>\n      <td>F</td>\n    </tr>\n    <tr>\n      <th>427.0</th>\n      <td>A</td>\n      <td>A+</td>\n      <td>A++</td>\n      <td>A+</td>\n    </tr>\n    <tr>\n      <th>453.0</th>\n      <td>A</td>\n      <td>B+</td>\n      <td>A++</td>\n      <td>A</td>\n    </tr>\n    <tr>\n      <th>481.0</th>\n      <td>B</td>\n      <td>B</td>\n      <td>A++</td>\n      <td>F</td>\n    </tr>\n    <tr>\n      <th>484.0</th>\n      <td>B</td>\n      <td>A-</td>\n      <td>A++</td>\n      <td>A-</td>\n    </tr>\n    <tr>\n      <th>522.0</th>\n      <td>B</td>\n      <td>A</td>\n      <td>A++</td>\n      <td>B+</td>\n    </tr>\n    <tr>\n      <th>542.0</th>\n      <td>A+</td>\n      <td>A-</td>\n      <td>A++</td>\n      <td>A-</td>\n    </tr>\n    <tr>\n      <th>554.0</th>\n      <td>B</td>\n      <td>A</td>\n      <td>A++</td>\n      <td>B-</td>\n    </tr>\n    <tr>\n      <th>565.0</th>\n      <td>C+</td>\n      <td>B+</td>\n      <td>A++</td>\n      <td>A-</td>\n    </tr>\n    <tr>\n      <th>575.0</th>\n      <td>A-</td>\n      <td>A-</td>\n      <td>A++</td>\n      <td>A+</td>\n    </tr>\n    <tr>\n      <th>588.0</th>\n      <td>B</td>\n      <td>B+</td>\n      <td>A++</td>\n      <td>B</td>\n    </tr>\n    <tr>\n      <th>601.0</th>\n      <td>A</td>\n      <td>B+</td>\n      <td>A++</td>\n      <td>B+</td>\n    </tr>\n    <tr>\n      <th>612.0</th>\n      <td>A</td>\n      <td>B</td>\n      <td>A++</td>\n      <td>A-</td>\n    </tr>\n    <tr>\n      <th>629.0</th>\n      <td>B</td>\n      <td>A</td>\n      <td>A++</td>\n      <td>B+</td>\n    </tr>\n    <tr>\n      <th>650.0</th>\n      <td>B</td>\n      <td>A+</td>\n      <td>A++</td>\n      <td>B</td>\n    </tr>\n    <tr>\n      <th>672.0</th>\n      <td>A-</td>\n      <td>A</td>\n      <td>A++</td>\n      <td>A</td>\n    </tr>\n    <tr>\n      <th>680.0</th>\n      <td>A</td>\n      <td>A</td>\n      <td>A++</td>\n      <td>A+</td>\n    </tr>\n  </tbody>\n</table>\n</div>"
     },
     "execution_count": 49,
     "metadata": {},
     "output_type": "execute_result"
    }
   ],
   "source": [
    "pivot = readability_batch_df.pivot(index='assignment_number', columns='participant_id', values='grade')\n",
    "pivot"
   ],
   "metadata": {
    "collapsed": false,
    "ExecuteTime": {
     "end_time": "2024-05-08T13:57:59.463208Z",
     "start_time": "2024-05-08T13:57:59.451142Z"
    }
   },
   "id": "72359e44a82655f",
   "execution_count": 49
  },
  {
   "cell_type": "code",
   "outputs": [
    {
     "data": {
      "text/plain": "(array([[0, 0, 0, 0, 0, 0, 0, 0, 0, 0, 4],\n        [0, 1, 1, 0, 1, 0, 0, 1, 0, 0, 0],\n        [0, 1, 1, 0, 0, 2, 0, 0, 0, 0, 0],\n        [0, 0, 1, 1, 2, 0, 0, 0, 0, 0, 0],\n        [0, 0, 1, 0, 1, 1, 1, 0, 0, 0, 0],\n        [0, 0, 1, 1, 2, 0, 0, 0, 0, 0, 0],\n        [0, 0, 2, 1, 1, 0, 0, 0, 0, 0, 0],\n        [1, 0, 1, 1, 1, 0, 0, 0, 0, 0, 0],\n        [2, 0, 1, 1, 0, 0, 0, 0, 0, 0, 0],\n        [1, 0, 1, 0, 0, 1, 0, 0, 0, 1, 0],\n        [1, 0, 1, 2, 0, 0, 0, 0, 0, 0, 0],\n        [1, 2, 1, 0, 0, 0, 0, 0, 0, 0, 0],\n        [0, 0, 1, 0, 0, 0, 1, 0, 0, 0, 2],\n        [1, 0, 1, 0, 0, 0, 1, 1, 0, 0, 0],\n        [0, 0, 1, 1, 0, 1, 0, 1, 0, 0, 0],\n        [1, 0, 1, 2, 0, 0, 0, 0, 0, 0, 0],\n        [1, 0, 1, 1, 0, 1, 0, 0, 0, 0, 0],\n        [2, 0, 1, 0, 0, 0, 1, 0, 0, 0, 0],\n        [0, 1, 0, 2, 1, 0, 0, 0, 0, 0, 0],\n        [1, 0, 1, 1, 0, 1, 0, 0, 0, 0, 0],\n        [2, 1, 1, 0, 0, 0, 0, 0, 0, 0, 0],\n        [1, 0, 1, 1, 0, 1, 0, 0, 0, 0, 0],\n        [1, 1, 1, 0, 1, 0, 0, 0, 0, 0, 0],\n        [0, 0, 0, 0, 0, 0, 0, 0, 0, 0, 4],\n        [1, 2, 1, 0, 0, 0, 0, 0, 0, 0, 0],\n        [2, 0, 1, 0, 0, 1, 0, 0, 0, 0, 0],\n        [0, 0, 1, 0, 2, 0, 0, 0, 0, 0, 1],\n        [0, 0, 1, 2, 1, 0, 0, 0, 0, 0, 0],\n        [1, 0, 1, 0, 1, 1, 0, 0, 0, 0, 0],\n        [0, 1, 1, 2, 0, 0, 0, 0, 0, 0, 0],\n        [1, 0, 1, 0, 1, 0, 1, 0, 0, 0, 0],\n        [0, 0, 1, 1, 0, 1, 0, 0, 1, 0, 0],\n        [0, 1, 1, 2, 0, 0, 0, 0, 0, 0, 0],\n        [0, 0, 1, 0, 2, 1, 0, 0, 0, 0, 0],\n        [1, 0, 1, 0, 0, 2, 0, 0, 0, 0, 0],\n        [1, 0, 1, 1, 1, 0, 0, 0, 0, 0, 0],\n        [1, 0, 1, 0, 1, 1, 0, 0, 0, 0, 0],\n        [0, 1, 1, 0, 2, 0, 0, 0, 0, 0, 0],\n        [2, 0, 1, 1, 0, 0, 0, 0, 0, 0, 0],\n        [2, 1, 1, 0, 0, 0, 0, 0, 0, 0, 0]]),\n array(['A', 'A+', 'A++', 'A-', 'B', 'B+', 'B-', 'C', 'C+', 'C-', 'F'],\n       dtype=object))"
     },
     "execution_count": 50,
     "metadata": {},
     "output_type": "execute_result"
    }
   ],
   "source": [
    "agg_raters = aggregate_raters(pivot)\n",
    "agg_raters"
   ],
   "metadata": {
    "collapsed": false,
    "ExecuteTime": {
     "end_time": "2024-05-08T13:58:01.328865Z",
     "start_time": "2024-05-08T13:58:01.322478Z"
    }
   },
   "id": "3a4535d7e355eeb8",
   "execution_count": 50
  },
  {
   "cell_type": "code",
   "outputs": [
    {
     "data": {
      "text/plain": "-0.0028740903809698452"
     },
     "execution_count": 51,
     "metadata": {},
     "output_type": "execute_result"
    }
   ],
   "source": [
    "fleiss_kappa(agg_raters[0], 'fleiss')"
   ],
   "metadata": {
    "collapsed": false,
    "ExecuteTime": {
     "end_time": "2024-05-08T13:58:03.400062Z",
     "start_time": "2024-05-08T13:58:03.396303Z"
    }
   },
   "id": "5035d35a0ec53a9",
   "execution_count": 51
  }
 ],
 "metadata": {
  "kernelspec": {
   "display_name": "Python 3",
   "language": "python",
   "name": "python3"
  },
  "language_info": {
   "codemirror_mode": {
    "name": "ipython",
    "version": 2
   },
   "file_extension": ".py",
   "mimetype": "text/x-python",
   "name": "python",
   "nbconvert_exporter": "python",
   "pygments_lexer": "ipython2",
   "version": "2.7.6"
  }
 },
 "nbformat": 4,
 "nbformat_minor": 5
}
