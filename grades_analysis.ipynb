{
 "cells": [
  {
   "cell_type": "code",
   "execution_count": 1,
   "id": "initial_id",
   "metadata": {
    "collapsed": true,
    "ExecuteTime": {
     "end_time": "2024-05-08T17:18:42.826354Z",
     "start_time": "2024-05-08T17:18:42.822959Z"
    }
   },
   "outputs": [],
   "source": [
    "import pandas as pd\n",
    "import seaborn as sns\n",
    "from statsmodels.stats.inter_rater import fleiss_kappa, aggregate_raters"
   ]
  },
  {
   "cell_type": "markdown",
   "source": [
    "# Grade Analysis"
   ],
   "metadata": {
    "collapsed": false
   },
   "id": "cdb8b257c38e6f4b"
  },
  {
   "cell_type": "code",
   "outputs": [
    {
     "data": {
      "text/plain": "    assignment_number                                           comments  \\\n0                18.0  The code use meaningful identifier names and a...   \n1               620.0  Code is well organized into logical classes an...   \n2               466.0  The code is well-organized, consistently inden...   \n3               591.0  The code is well organized and readable. Inden...   \n4               587.0  The code is well organized and readable. Inden...   \n..                ...                                                ...   \n15               58.0                                                NaN   \n16              353.0                                                NaN   \n17              422.0                                                NaN   \n18              480.0                                                NaN   \n19              334.0                                                NaN   \n\n            skill  participant_id  batch grade  \n0     Readability              15      1    B+  \n1     Readability              15      1    A+  \n2     Readability              15      1    A-  \n3     Readability              15      1    A-  \n4     Readability              15      1    A-  \n..            ...             ...    ...   ...  \n15  Documentation              14      1   A++  \n16  Documentation              14      1   A++  \n17  Documentation              14      1   A++  \n18  Documentation              14      1   A++  \n19  Documentation              14      1    A+  \n\n[4480 rows x 6 columns]",
      "text/html": "<div>\n<style scoped>\n    .dataframe tbody tr th:only-of-type {\n        vertical-align: middle;\n    }\n\n    .dataframe tbody tr th {\n        vertical-align: top;\n    }\n\n    .dataframe thead th {\n        text-align: right;\n    }\n</style>\n<table border=\"1\" class=\"dataframe\">\n  <thead>\n    <tr style=\"text-align: right;\">\n      <th></th>\n      <th>assignment_number</th>\n      <th>comments</th>\n      <th>skill</th>\n      <th>participant_id</th>\n      <th>batch</th>\n      <th>grade</th>\n    </tr>\n  </thead>\n  <tbody>\n    <tr>\n      <th>0</th>\n      <td>18.0</td>\n      <td>The code use meaningful identifier names and a...</td>\n      <td>Readability</td>\n      <td>15</td>\n      <td>1</td>\n      <td>B+</td>\n    </tr>\n    <tr>\n      <th>1</th>\n      <td>620.0</td>\n      <td>Code is well organized into logical classes an...</td>\n      <td>Readability</td>\n      <td>15</td>\n      <td>1</td>\n      <td>A+</td>\n    </tr>\n    <tr>\n      <th>2</th>\n      <td>466.0</td>\n      <td>The code is well-organized, consistently inden...</td>\n      <td>Readability</td>\n      <td>15</td>\n      <td>1</td>\n      <td>A-</td>\n    </tr>\n    <tr>\n      <th>3</th>\n      <td>591.0</td>\n      <td>The code is well organized and readable. Inden...</td>\n      <td>Readability</td>\n      <td>15</td>\n      <td>1</td>\n      <td>A-</td>\n    </tr>\n    <tr>\n      <th>4</th>\n      <td>587.0</td>\n      <td>The code is well organized and readable. Inden...</td>\n      <td>Readability</td>\n      <td>15</td>\n      <td>1</td>\n      <td>A-</td>\n    </tr>\n    <tr>\n      <th>...</th>\n      <td>...</td>\n      <td>...</td>\n      <td>...</td>\n      <td>...</td>\n      <td>...</td>\n      <td>...</td>\n    </tr>\n    <tr>\n      <th>15</th>\n      <td>58.0</td>\n      <td>NaN</td>\n      <td>Documentation</td>\n      <td>14</td>\n      <td>1</td>\n      <td>A++</td>\n    </tr>\n    <tr>\n      <th>16</th>\n      <td>353.0</td>\n      <td>NaN</td>\n      <td>Documentation</td>\n      <td>14</td>\n      <td>1</td>\n      <td>A++</td>\n    </tr>\n    <tr>\n      <th>17</th>\n      <td>422.0</td>\n      <td>NaN</td>\n      <td>Documentation</td>\n      <td>14</td>\n      <td>1</td>\n      <td>A++</td>\n    </tr>\n    <tr>\n      <th>18</th>\n      <td>480.0</td>\n      <td>NaN</td>\n      <td>Documentation</td>\n      <td>14</td>\n      <td>1</td>\n      <td>A++</td>\n    </tr>\n    <tr>\n      <th>19</th>\n      <td>334.0</td>\n      <td>NaN</td>\n      <td>Documentation</td>\n      <td>14</td>\n      <td>1</td>\n      <td>A+</td>\n    </tr>\n  </tbody>\n</table>\n<p>4480 rows × 6 columns</p>\n</div>"
     },
     "execution_count": 2,
     "metadata": {},
     "output_type": "execute_result"
    }
   ],
   "source": [
    "grade_df = pd.read_csv('Menagerie/data/grades.csv', index_col=0)\n",
    "grade_df"
   ],
   "metadata": {
    "collapsed": false,
    "ExecuteTime": {
     "end_time": "2024-05-08T17:18:42.842176Z",
     "start_time": "2024-05-08T17:18:42.826916Z"
    }
   },
   "id": "c69e63909be6a18",
   "execution_count": 2
  },
  {
   "cell_type": "code",
   "outputs": [
    {
     "data": {
      "text/plain": "    assignment_number                                           comments  \\\n0                18.0  The code use meaningful identifier names and a...   \n1               620.0  Code is well organized into logical classes an...   \n2               466.0  The code is well-organized, consistently inden...   \n3               591.0  The code is well organized and readable. Inden...   \n4               587.0  The code is well organized and readable. Inden...   \n..                ...                                                ...   \n15               58.0                                                NaN   \n16              353.0                                                NaN   \n17              422.0                                                NaN   \n18              480.0                                                NaN   \n19              334.0                                                NaN   \n\n            skill  participant_id  batch grade  \n0     Readability              15      1    B+  \n1     Readability              15      1    A+  \n2     Readability              15      1    A-  \n3     Readability              15      1    A-  \n4     Readability              15      1    A-  \n..            ...             ...    ...   ...  \n15  Documentation              14      1   A++  \n16  Documentation              14      1   A++  \n17  Documentation              14      1   A++  \n18  Documentation              14      1   A++  \n19  Documentation              14      1    A+  \n\n[4474 rows x 6 columns]",
      "text/html": "<div>\n<style scoped>\n    .dataframe tbody tr th:only-of-type {\n        vertical-align: middle;\n    }\n\n    .dataframe tbody tr th {\n        vertical-align: top;\n    }\n\n    .dataframe thead th {\n        text-align: right;\n    }\n</style>\n<table border=\"1\" class=\"dataframe\">\n  <thead>\n    <tr style=\"text-align: right;\">\n      <th></th>\n      <th>assignment_number</th>\n      <th>comments</th>\n      <th>skill</th>\n      <th>participant_id</th>\n      <th>batch</th>\n      <th>grade</th>\n    </tr>\n  </thead>\n  <tbody>\n    <tr>\n      <th>0</th>\n      <td>18.0</td>\n      <td>The code use meaningful identifier names and a...</td>\n      <td>Readability</td>\n      <td>15</td>\n      <td>1</td>\n      <td>B+</td>\n    </tr>\n    <tr>\n      <th>1</th>\n      <td>620.0</td>\n      <td>Code is well organized into logical classes an...</td>\n      <td>Readability</td>\n      <td>15</td>\n      <td>1</td>\n      <td>A+</td>\n    </tr>\n    <tr>\n      <th>2</th>\n      <td>466.0</td>\n      <td>The code is well-organized, consistently inden...</td>\n      <td>Readability</td>\n      <td>15</td>\n      <td>1</td>\n      <td>A-</td>\n    </tr>\n    <tr>\n      <th>3</th>\n      <td>591.0</td>\n      <td>The code is well organized and readable. Inden...</td>\n      <td>Readability</td>\n      <td>15</td>\n      <td>1</td>\n      <td>A-</td>\n    </tr>\n    <tr>\n      <th>4</th>\n      <td>587.0</td>\n      <td>The code is well organized and readable. Inden...</td>\n      <td>Readability</td>\n      <td>15</td>\n      <td>1</td>\n      <td>A-</td>\n    </tr>\n    <tr>\n      <th>...</th>\n      <td>...</td>\n      <td>...</td>\n      <td>...</td>\n      <td>...</td>\n      <td>...</td>\n      <td>...</td>\n    </tr>\n    <tr>\n      <th>15</th>\n      <td>58.0</td>\n      <td>NaN</td>\n      <td>Documentation</td>\n      <td>14</td>\n      <td>1</td>\n      <td>A++</td>\n    </tr>\n    <tr>\n      <th>16</th>\n      <td>353.0</td>\n      <td>NaN</td>\n      <td>Documentation</td>\n      <td>14</td>\n      <td>1</td>\n      <td>A++</td>\n    </tr>\n    <tr>\n      <th>17</th>\n      <td>422.0</td>\n      <td>NaN</td>\n      <td>Documentation</td>\n      <td>14</td>\n      <td>1</td>\n      <td>A++</td>\n    </tr>\n    <tr>\n      <th>18</th>\n      <td>480.0</td>\n      <td>NaN</td>\n      <td>Documentation</td>\n      <td>14</td>\n      <td>1</td>\n      <td>A++</td>\n    </tr>\n    <tr>\n      <th>19</th>\n      <td>334.0</td>\n      <td>NaN</td>\n      <td>Documentation</td>\n      <td>14</td>\n      <td>1</td>\n      <td>A+</td>\n    </tr>\n  </tbody>\n</table>\n<p>4474 rows × 6 columns</p>\n</div>"
     },
     "execution_count": 3,
     "metadata": {},
     "output_type": "execute_result"
    }
   ],
   "source": [
    "grade_df = grade_df[~grade_df['grade'].isnull()]\n",
    "grade_df"
   ],
   "metadata": {
    "collapsed": false,
    "ExecuteTime": {
     "end_time": "2024-05-08T17:18:42.848214Z",
     "start_time": "2024-05-08T17:18:42.842926Z"
    }
   },
   "id": "5f54f966724e7f43",
   "execution_count": 3
  },
  {
   "cell_type": "markdown",
   "source": [
    "## Inter-Rater Analysis"
   ],
   "metadata": {
    "collapsed": false
   },
   "id": "ee29e8afcff20345"
  },
  {
   "cell_type": "code",
   "outputs": [
    {
     "data": {
      "text/plain": "   participant_id  assignment_number grade\n4              21              105.0    A+\n8              21              105.0    A+\n4              22              105.0     A\n8              22              105.0     A\n4              23              105.0     B\n8              23              105.0    C-\n4              24              105.0    D+\n8              24              105.0    B-",
      "text/html": "<div>\n<style scoped>\n    .dataframe tbody tr th:only-of-type {\n        vertical-align: middle;\n    }\n\n    .dataframe tbody tr th {\n        vertical-align: top;\n    }\n\n    .dataframe thead th {\n        text-align: right;\n    }\n</style>\n<table border=\"1\" class=\"dataframe\">\n  <thead>\n    <tr style=\"text-align: right;\">\n      <th></th>\n      <th>participant_id</th>\n      <th>assignment_number</th>\n      <th>grade</th>\n    </tr>\n  </thead>\n  <tbody>\n    <tr>\n      <th>4</th>\n      <td>21</td>\n      <td>105.0</td>\n      <td>A+</td>\n    </tr>\n    <tr>\n      <th>8</th>\n      <td>21</td>\n      <td>105.0</td>\n      <td>A+</td>\n    </tr>\n    <tr>\n      <th>4</th>\n      <td>22</td>\n      <td>105.0</td>\n      <td>A</td>\n    </tr>\n    <tr>\n      <th>8</th>\n      <td>22</td>\n      <td>105.0</td>\n      <td>A</td>\n    </tr>\n    <tr>\n      <th>4</th>\n      <td>23</td>\n      <td>105.0</td>\n      <td>B</td>\n    </tr>\n    <tr>\n      <th>8</th>\n      <td>23</td>\n      <td>105.0</td>\n      <td>C-</td>\n    </tr>\n    <tr>\n      <th>4</th>\n      <td>24</td>\n      <td>105.0</td>\n      <td>D+</td>\n    </tr>\n    <tr>\n      <th>8</th>\n      <td>24</td>\n      <td>105.0</td>\n      <td>B-</td>\n    </tr>\n  </tbody>\n</table>\n</div>"
     },
     "execution_count": 4,
     "metadata": {},
     "output_type": "execute_result"
    }
   ],
   "source": [
    "# TODO Discuss with Neil what to do with this mistake\n",
    "# 105 duplicated accidentally between the two batches... in additional to the purposeful duplication.\n",
    "skill_df = grade_df[grade_df['skill'] == 'Readability'][['participant_id', 'assignment_number', 'grade']]\n",
    "group_df = skill_df[skill_df['participant_id'].isin([21, 22, 23, 24])].sort_values(by='participant_id')\n",
    "group_df[group_df['assignment_number'] == 105]\n",
    "# pivot = group_df.pivot(index='assignment_number', columns='participant_id', values='grade')"
   ],
   "metadata": {
    "collapsed": false,
    "ExecuteTime": {
     "end_time": "2024-05-08T17:18:42.854467Z",
     "start_time": "2024-05-08T17:18:42.848713Z"
    }
   },
   "id": "a0d09ee1a7fc7945",
   "execution_count": 4
  },
  {
   "cell_type": "code",
   "outputs": [],
   "source": [
    "def calculate_fleiss_kappa(skill, participant_list):\n",
    "    skill_df = grade_df[grade_df['skill'] == skill][['participant_id', 'assignment_number', 'grade']]\n",
    "    group_df = skill_df[skill_df['participant_id'].isin(participant_list)].sort_values(by='participant_id')\n",
    "    pivot = group_df.pivot(index='assignment_number', columns='participant_id', values='grade')\n",
    "    if any(pivot.isna().any(axis=1)):\n",
    "        print('Missing Grade: ', pivot[pivot.isna().any(axis=1)])\n",
    "        pivot.dropna(inplace=True)\n",
    "  \n",
    "    return fleiss_kappa(aggregate_raters(pivot)[0], 'fleiss')"
   ],
   "metadata": {
    "collapsed": false,
    "ExecuteTime": {
     "end_time": "2024-05-08T17:18:44.896112Z",
     "start_time": "2024-05-08T17:18:44.890871Z"
    }
   },
   "id": "7ce7de53ce2e7e96",
   "execution_count": 5
  },
  {
   "cell_type": "code",
   "outputs": [
    {
     "name": "stdout",
     "output_type": "stream",
     "text": [
      "Missing Grade:  participant_id      13  14  15 16\n",
      "assignment_number                \n",
      "306.0              NaN  A+  B+  A\n",
      "Error duplicate entries check data for:  21-24\n",
      "Error duplicate entries check data for:  21-24\n",
      "Error duplicate entries check data for:  21-24\n",
      "Missing Grade:  participant_id      9  10  11  12\n",
      "assignment_number                \n",
      "117.0              NaN  B  A+  A-\n",
      "Error duplicate entries check data for:  21-24\n",
      "Missing Grade:  participant_id      25   26   27   28\n",
      "assignment_number                    \n",
      "394.0              A++  A++  NaN  A++\n"
     ]
    },
    {
     "data": {
      "text/plain": "   group          skill  fliess_kappa\n0    1-4    Correctness      0.042673\n0    5-8    Correctness     -0.024104\n0   9-12    Correctness      0.003440\n0  13-16    Correctness      0.041807\n0  17-20    Correctness      0.113360\n0  25-28    Correctness      0.046496\n0    1-4    Readability     -0.002874\n0    5-8    Readability     -0.070433\n0   9-12    Readability     -0.069315\n0  13-16    Readability     -0.057512\n0  17-20    Readability     -0.010288\n0  25-28    Readability      0.077050\n0    1-4  Code Elegance     -0.003257\n0    5-8  Code Elegance     -0.013182\n0   9-12  Code Elegance     -0.026386\n0  13-16  Code Elegance      0.016196\n0  17-20  Code Elegance      0.035119\n0  25-28  Code Elegance      0.081149\n0    1-4  Documentation      0.001796\n0    5-8  Documentation     -0.071363\n0   9-12  Documentation     -0.059063\n0  13-16  Documentation     -0.001155\n0  17-20  Documentation      0.003831\n0  25-28  Documentation      0.063255",
      "text/html": "<div>\n<style scoped>\n    .dataframe tbody tr th:only-of-type {\n        vertical-align: middle;\n    }\n\n    .dataframe tbody tr th {\n        vertical-align: top;\n    }\n\n    .dataframe thead th {\n        text-align: right;\n    }\n</style>\n<table border=\"1\" class=\"dataframe\">\n  <thead>\n    <tr style=\"text-align: right;\">\n      <th></th>\n      <th>group</th>\n      <th>skill</th>\n      <th>fliess_kappa</th>\n    </tr>\n  </thead>\n  <tbody>\n    <tr>\n      <th>0</th>\n      <td>1-4</td>\n      <td>Correctness</td>\n      <td>0.042673</td>\n    </tr>\n    <tr>\n      <th>0</th>\n      <td>5-8</td>\n      <td>Correctness</td>\n      <td>-0.024104</td>\n    </tr>\n    <tr>\n      <th>0</th>\n      <td>9-12</td>\n      <td>Correctness</td>\n      <td>0.003440</td>\n    </tr>\n    <tr>\n      <th>0</th>\n      <td>13-16</td>\n      <td>Correctness</td>\n      <td>0.041807</td>\n    </tr>\n    <tr>\n      <th>0</th>\n      <td>17-20</td>\n      <td>Correctness</td>\n      <td>0.113360</td>\n    </tr>\n    <tr>\n      <th>0</th>\n      <td>25-28</td>\n      <td>Correctness</td>\n      <td>0.046496</td>\n    </tr>\n    <tr>\n      <th>0</th>\n      <td>1-4</td>\n      <td>Readability</td>\n      <td>-0.002874</td>\n    </tr>\n    <tr>\n      <th>0</th>\n      <td>5-8</td>\n      <td>Readability</td>\n      <td>-0.070433</td>\n    </tr>\n    <tr>\n      <th>0</th>\n      <td>9-12</td>\n      <td>Readability</td>\n      <td>-0.069315</td>\n    </tr>\n    <tr>\n      <th>0</th>\n      <td>13-16</td>\n      <td>Readability</td>\n      <td>-0.057512</td>\n    </tr>\n    <tr>\n      <th>0</th>\n      <td>17-20</td>\n      <td>Readability</td>\n      <td>-0.010288</td>\n    </tr>\n    <tr>\n      <th>0</th>\n      <td>25-28</td>\n      <td>Readability</td>\n      <td>0.077050</td>\n    </tr>\n    <tr>\n      <th>0</th>\n      <td>1-4</td>\n      <td>Code Elegance</td>\n      <td>-0.003257</td>\n    </tr>\n    <tr>\n      <th>0</th>\n      <td>5-8</td>\n      <td>Code Elegance</td>\n      <td>-0.013182</td>\n    </tr>\n    <tr>\n      <th>0</th>\n      <td>9-12</td>\n      <td>Code Elegance</td>\n      <td>-0.026386</td>\n    </tr>\n    <tr>\n      <th>0</th>\n      <td>13-16</td>\n      <td>Code Elegance</td>\n      <td>0.016196</td>\n    </tr>\n    <tr>\n      <th>0</th>\n      <td>17-20</td>\n      <td>Code Elegance</td>\n      <td>0.035119</td>\n    </tr>\n    <tr>\n      <th>0</th>\n      <td>25-28</td>\n      <td>Code Elegance</td>\n      <td>0.081149</td>\n    </tr>\n    <tr>\n      <th>0</th>\n      <td>1-4</td>\n      <td>Documentation</td>\n      <td>0.001796</td>\n    </tr>\n    <tr>\n      <th>0</th>\n      <td>5-8</td>\n      <td>Documentation</td>\n      <td>-0.071363</td>\n    </tr>\n    <tr>\n      <th>0</th>\n      <td>9-12</td>\n      <td>Documentation</td>\n      <td>-0.059063</td>\n    </tr>\n    <tr>\n      <th>0</th>\n      <td>13-16</td>\n      <td>Documentation</td>\n      <td>-0.001155</td>\n    </tr>\n    <tr>\n      <th>0</th>\n      <td>17-20</td>\n      <td>Documentation</td>\n      <td>0.003831</td>\n    </tr>\n    <tr>\n      <th>0</th>\n      <td>25-28</td>\n      <td>Documentation</td>\n      <td>0.063255</td>\n    </tr>\n  </tbody>\n</table>\n</div>"
     },
     "execution_count": 8,
     "metadata": {},
     "output_type": "execute_result"
    }
   ],
   "source": [
    "results_df = None\n",
    "\n",
    "for skill in ['Correctness', 'Readability', 'Code Elegance', 'Documentation']:\n",
    "    for i in range(1, 28, 4):\n",
    "        group = list(range(i, i + 4))\n",
    "        group_str = str(group[0]) + '-' + str(group[-1])\n",
    "        try:\n",
    "            results_df = pd.concat([results_df, pd.DataFrame({\n",
    "                                    'group': group_str,\n",
    "                                    'skill': skill,\n",
    "                                    'fliess_kappa': calculate_fleiss_kappa(skill, group)}, index=[0])])\n",
    "        except ValueError:\n",
    "            print('Error duplicate entries check data for: ', group_str)\n",
    "        \n",
    "        \n",
    "results_df"
   ],
   "metadata": {
    "collapsed": false,
    "ExecuteTime": {
     "end_time": "2024-05-08T17:19:38.217585Z",
     "start_time": "2024-05-08T17:19:38.151879Z"
    }
   },
   "id": "d9a2554178d85f25",
   "execution_count": 8
  },
  {
   "cell_type": "markdown",
   "source": [
    "### Average Fliess Kappa\n",
    "#### Skill"
   ],
   "metadata": {
    "collapsed": false
   },
   "id": "24e33c06e336011c"
  },
  {
   "cell_type": "code",
   "outputs": [
    {
     "data": {
      "text/plain": "           skill  fliess_kappa\n0  Code Elegance      0.014940\n1    Correctness      0.037279\n2  Documentation     -0.010450\n3    Readability     -0.022229",
      "text/html": "<div>\n<style scoped>\n    .dataframe tbody tr th:only-of-type {\n        vertical-align: middle;\n    }\n\n    .dataframe tbody tr th {\n        vertical-align: top;\n    }\n\n    .dataframe thead th {\n        text-align: right;\n    }\n</style>\n<table border=\"1\" class=\"dataframe\">\n  <thead>\n    <tr style=\"text-align: right;\">\n      <th></th>\n      <th>skill</th>\n      <th>fliess_kappa</th>\n    </tr>\n  </thead>\n  <tbody>\n    <tr>\n      <th>0</th>\n      <td>Code Elegance</td>\n      <td>0.014940</td>\n    </tr>\n    <tr>\n      <th>1</th>\n      <td>Correctness</td>\n      <td>0.037279</td>\n    </tr>\n    <tr>\n      <th>2</th>\n      <td>Documentation</td>\n      <td>-0.010450</td>\n    </tr>\n    <tr>\n      <th>3</th>\n      <td>Readability</td>\n      <td>-0.022229</td>\n    </tr>\n  </tbody>\n</table>\n</div>"
     },
     "execution_count": 14,
     "metadata": {},
     "output_type": "execute_result"
    }
   ],
   "source": [
    "results_df[['skill', 'fliess_kappa']].groupby('skill').mean().reset_index()"
   ],
   "metadata": {
    "collapsed": false,
    "ExecuteTime": {
     "end_time": "2024-05-08T17:23:04.508706Z",
     "start_time": "2024-05-08T17:23:04.500573Z"
    }
   },
   "id": "aff362ca5265412a",
   "execution_count": 14
  },
  {
   "cell_type": "markdown",
   "source": [
    "#### Group"
   ],
   "metadata": {
    "collapsed": false
   },
   "id": "f253a61496dce2f0"
  },
  {
   "cell_type": "code",
   "outputs": [
    {
     "data": {
      "text/plain": "   group  fliess_kappa\n0    1-4      0.009584\n1  13-16     -0.000166\n2  17-20      0.035506\n3  25-28      0.066987\n4    5-8     -0.044771\n5   9-12     -0.037831",
      "text/html": "<div>\n<style scoped>\n    .dataframe tbody tr th:only-of-type {\n        vertical-align: middle;\n    }\n\n    .dataframe tbody tr th {\n        vertical-align: top;\n    }\n\n    .dataframe thead th {\n        text-align: right;\n    }\n</style>\n<table border=\"1\" class=\"dataframe\">\n  <thead>\n    <tr style=\"text-align: right;\">\n      <th></th>\n      <th>group</th>\n      <th>fliess_kappa</th>\n    </tr>\n  </thead>\n  <tbody>\n    <tr>\n      <th>0</th>\n      <td>1-4</td>\n      <td>0.009584</td>\n    </tr>\n    <tr>\n      <th>1</th>\n      <td>13-16</td>\n      <td>-0.000166</td>\n    </tr>\n    <tr>\n      <th>2</th>\n      <td>17-20</td>\n      <td>0.035506</td>\n    </tr>\n    <tr>\n      <th>3</th>\n      <td>25-28</td>\n      <td>0.066987</td>\n    </tr>\n    <tr>\n      <th>4</th>\n      <td>5-8</td>\n      <td>-0.044771</td>\n    </tr>\n    <tr>\n      <th>5</th>\n      <td>9-12</td>\n      <td>-0.037831</td>\n    </tr>\n  </tbody>\n</table>\n</div>"
     },
     "execution_count": 15,
     "metadata": {},
     "output_type": "execute_result"
    }
   ],
   "source": [
    "results_df[['group', 'fliess_kappa']].groupby('group').mean().reset_index()"
   ],
   "metadata": {
    "collapsed": false,
    "ExecuteTime": {
     "end_time": "2024-05-08T17:24:17.594975Z",
     "start_time": "2024-05-08T17:24:17.590378Z"
    }
   },
   "id": "f674afe663faec6a",
   "execution_count": 15
  },
  {
   "cell_type": "markdown",
   "source": [
    "# Intra-Rater Relability"
   ],
   "metadata": {
    "collapsed": false
   },
   "id": "a06939c5e3721d90"
  },
  {
   "cell_type": "markdown",
   "source": [
    "# Summary of Grades per skill"
   ],
   "metadata": {
    "collapsed": false
   },
   "id": "19f91a6c80b59c4a"
  },
  {
   "cell_type": "code",
   "outputs": [
    {
     "data": {
      "text/plain": "            skill grade  count\n0   Code Elegance     A    191\n1   Code Elegance    A+    199\n2   Code Elegance   A++    148\n3   Code Elegance    A-    132\n4   Code Elegance     B    128\n5   Code Elegance    B+    117\n6   Code Elegance    B-     73\n7   Code Elegance     C     22\n8   Code Elegance    C+     53\n9   Code Elegance    C-     13\n10  Code Elegance     D      2\n11  Code Elegance    D+      3\n12  Code Elegance    D-      5\n13  Code Elegance     F     34\n14    Correctness     A    198\n15    Correctness    A+    228\n16    Correctness   A++    200\n17    Correctness    A-    159\n18    Correctness     B     48\n19    Correctness    B+     88\n20    Correctness    B-     35\n21    Correctness     C     14\n22    Correctness    C+     34\n23    Correctness    C-     12\n24    Correctness     D      7\n25    Correctness    D+      3\n26    Correctness    D-      6\n27    Correctness     F     84\n28  Documentation     A    208\n29  Documentation    A+    207\n30  Documentation   A++    157\n31  Documentation    A-    156\n32  Documentation     B    117\n33  Documentation    B+     94\n34  Documentation    B-     69\n35  Documentation     C     18\n36  Documentation    C+     19\n37  Documentation    C-     13\n38  Documentation     D      2\n39  Documentation    D+      2\n40  Documentation    D-      4\n41  Documentation     F     36\n42  Documentation   NAN     16\n43    Readability     A    197\n44    Readability    A+    261\n45    Readability   A++    168\n46    Readability    A-    182\n47    Readability     B     96\n48    Readability    B+     96\n49    Readability    B-     47\n50    Readability     C     11\n51    Readability    C+     19\n52    Readability    C-      6\n53    Readability    D+      1\n54    Readability    D-      3\n55    Readability     F     33",
      "text/html": "<div>\n<style scoped>\n    .dataframe tbody tr th:only-of-type {\n        vertical-align: middle;\n    }\n\n    .dataframe tbody tr th {\n        vertical-align: top;\n    }\n\n    .dataframe thead th {\n        text-align: right;\n    }\n</style>\n<table border=\"1\" class=\"dataframe\">\n  <thead>\n    <tr style=\"text-align: right;\">\n      <th></th>\n      <th>skill</th>\n      <th>grade</th>\n      <th>count</th>\n    </tr>\n  </thead>\n  <tbody>\n    <tr>\n      <th>0</th>\n      <td>Code Elegance</td>\n      <td>A</td>\n      <td>191</td>\n    </tr>\n    <tr>\n      <th>1</th>\n      <td>Code Elegance</td>\n      <td>A+</td>\n      <td>199</td>\n    </tr>\n    <tr>\n      <th>2</th>\n      <td>Code Elegance</td>\n      <td>A++</td>\n      <td>148</td>\n    </tr>\n    <tr>\n      <th>3</th>\n      <td>Code Elegance</td>\n      <td>A-</td>\n      <td>132</td>\n    </tr>\n    <tr>\n      <th>4</th>\n      <td>Code Elegance</td>\n      <td>B</td>\n      <td>128</td>\n    </tr>\n    <tr>\n      <th>5</th>\n      <td>Code Elegance</td>\n      <td>B+</td>\n      <td>117</td>\n    </tr>\n    <tr>\n      <th>6</th>\n      <td>Code Elegance</td>\n      <td>B-</td>\n      <td>73</td>\n    </tr>\n    <tr>\n      <th>7</th>\n      <td>Code Elegance</td>\n      <td>C</td>\n      <td>22</td>\n    </tr>\n    <tr>\n      <th>8</th>\n      <td>Code Elegance</td>\n      <td>C+</td>\n      <td>53</td>\n    </tr>\n    <tr>\n      <th>9</th>\n      <td>Code Elegance</td>\n      <td>C-</td>\n      <td>13</td>\n    </tr>\n    <tr>\n      <th>10</th>\n      <td>Code Elegance</td>\n      <td>D</td>\n      <td>2</td>\n    </tr>\n    <tr>\n      <th>11</th>\n      <td>Code Elegance</td>\n      <td>D+</td>\n      <td>3</td>\n    </tr>\n    <tr>\n      <th>12</th>\n      <td>Code Elegance</td>\n      <td>D-</td>\n      <td>5</td>\n    </tr>\n    <tr>\n      <th>13</th>\n      <td>Code Elegance</td>\n      <td>F</td>\n      <td>34</td>\n    </tr>\n    <tr>\n      <th>14</th>\n      <td>Correctness</td>\n      <td>A</td>\n      <td>198</td>\n    </tr>\n    <tr>\n      <th>15</th>\n      <td>Correctness</td>\n      <td>A+</td>\n      <td>228</td>\n    </tr>\n    <tr>\n      <th>16</th>\n      <td>Correctness</td>\n      <td>A++</td>\n      <td>200</td>\n    </tr>\n    <tr>\n      <th>17</th>\n      <td>Correctness</td>\n      <td>A-</td>\n      <td>159</td>\n    </tr>\n    <tr>\n      <th>18</th>\n      <td>Correctness</td>\n      <td>B</td>\n      <td>48</td>\n    </tr>\n    <tr>\n      <th>19</th>\n      <td>Correctness</td>\n      <td>B+</td>\n      <td>88</td>\n    </tr>\n    <tr>\n      <th>20</th>\n      <td>Correctness</td>\n      <td>B-</td>\n      <td>35</td>\n    </tr>\n    <tr>\n      <th>21</th>\n      <td>Correctness</td>\n      <td>C</td>\n      <td>14</td>\n    </tr>\n    <tr>\n      <th>22</th>\n      <td>Correctness</td>\n      <td>C+</td>\n      <td>34</td>\n    </tr>\n    <tr>\n      <th>23</th>\n      <td>Correctness</td>\n      <td>C-</td>\n      <td>12</td>\n    </tr>\n    <tr>\n      <th>24</th>\n      <td>Correctness</td>\n      <td>D</td>\n      <td>7</td>\n    </tr>\n    <tr>\n      <th>25</th>\n      <td>Correctness</td>\n      <td>D+</td>\n      <td>3</td>\n    </tr>\n    <tr>\n      <th>26</th>\n      <td>Correctness</td>\n      <td>D-</td>\n      <td>6</td>\n    </tr>\n    <tr>\n      <th>27</th>\n      <td>Correctness</td>\n      <td>F</td>\n      <td>84</td>\n    </tr>\n    <tr>\n      <th>28</th>\n      <td>Documentation</td>\n      <td>A</td>\n      <td>208</td>\n    </tr>\n    <tr>\n      <th>29</th>\n      <td>Documentation</td>\n      <td>A+</td>\n      <td>207</td>\n    </tr>\n    <tr>\n      <th>30</th>\n      <td>Documentation</td>\n      <td>A++</td>\n      <td>157</td>\n    </tr>\n    <tr>\n      <th>31</th>\n      <td>Documentation</td>\n      <td>A-</td>\n      <td>156</td>\n    </tr>\n    <tr>\n      <th>32</th>\n      <td>Documentation</td>\n      <td>B</td>\n      <td>117</td>\n    </tr>\n    <tr>\n      <th>33</th>\n      <td>Documentation</td>\n      <td>B+</td>\n      <td>94</td>\n    </tr>\n    <tr>\n      <th>34</th>\n      <td>Documentation</td>\n      <td>B-</td>\n      <td>69</td>\n    </tr>\n    <tr>\n      <th>35</th>\n      <td>Documentation</td>\n      <td>C</td>\n      <td>18</td>\n    </tr>\n    <tr>\n      <th>36</th>\n      <td>Documentation</td>\n      <td>C+</td>\n      <td>19</td>\n    </tr>\n    <tr>\n      <th>37</th>\n      <td>Documentation</td>\n      <td>C-</td>\n      <td>13</td>\n    </tr>\n    <tr>\n      <th>38</th>\n      <td>Documentation</td>\n      <td>D</td>\n      <td>2</td>\n    </tr>\n    <tr>\n      <th>39</th>\n      <td>Documentation</td>\n      <td>D+</td>\n      <td>2</td>\n    </tr>\n    <tr>\n      <th>40</th>\n      <td>Documentation</td>\n      <td>D-</td>\n      <td>4</td>\n    </tr>\n    <tr>\n      <th>41</th>\n      <td>Documentation</td>\n      <td>F</td>\n      <td>36</td>\n    </tr>\n    <tr>\n      <th>42</th>\n      <td>Documentation</td>\n      <td>NAN</td>\n      <td>16</td>\n    </tr>\n    <tr>\n      <th>43</th>\n      <td>Readability</td>\n      <td>A</td>\n      <td>197</td>\n    </tr>\n    <tr>\n      <th>44</th>\n      <td>Readability</td>\n      <td>A+</td>\n      <td>261</td>\n    </tr>\n    <tr>\n      <th>45</th>\n      <td>Readability</td>\n      <td>A++</td>\n      <td>168</td>\n    </tr>\n    <tr>\n      <th>46</th>\n      <td>Readability</td>\n      <td>A-</td>\n      <td>182</td>\n    </tr>\n    <tr>\n      <th>47</th>\n      <td>Readability</td>\n      <td>B</td>\n      <td>96</td>\n    </tr>\n    <tr>\n      <th>48</th>\n      <td>Readability</td>\n      <td>B+</td>\n      <td>96</td>\n    </tr>\n    <tr>\n      <th>49</th>\n      <td>Readability</td>\n      <td>B-</td>\n      <td>47</td>\n    </tr>\n    <tr>\n      <th>50</th>\n      <td>Readability</td>\n      <td>C</td>\n      <td>11</td>\n    </tr>\n    <tr>\n      <th>51</th>\n      <td>Readability</td>\n      <td>C+</td>\n      <td>19</td>\n    </tr>\n    <tr>\n      <th>52</th>\n      <td>Readability</td>\n      <td>C-</td>\n      <td>6</td>\n    </tr>\n    <tr>\n      <th>53</th>\n      <td>Readability</td>\n      <td>D+</td>\n      <td>1</td>\n    </tr>\n    <tr>\n      <th>54</th>\n      <td>Readability</td>\n      <td>D-</td>\n      <td>3</td>\n    </tr>\n    <tr>\n      <th>55</th>\n      <td>Readability</td>\n      <td>F</td>\n      <td>33</td>\n    </tr>\n  </tbody>\n</table>\n</div>"
     },
     "execution_count": 24,
     "metadata": {},
     "output_type": "execute_result"
    }
   ],
   "source": [
    "grade_count_df = grade_df[['skill', 'grade', 'assignment_number']].groupby(['skill', 'grade']).count().reset_index().rename(columns={'assignment_number': 'count'})\n",
    "grade_count_df"
   ],
   "metadata": {
    "collapsed": false,
    "ExecuteTime": {
     "end_time": "2024-05-08T17:34:26.004418Z",
     "start_time": "2024-05-08T17:34:25.985510Z"
    }
   },
   "id": "4ed252cfb04e9a3f",
   "execution_count": 24
  },
  {
   "cell_type": "code",
   "outputs": [
    {
     "data": {
      "text/plain": "<Axes: xlabel='grade', ylabel='count'>"
     },
     "execution_count": 25,
     "metadata": {},
     "output_type": "execute_result"
    },
    {
     "data": {
      "text/plain": "<Figure size 640x480 with 1 Axes>",
      "image/png": "[encoded data removed]"
     },
     "metadata": {},
     "output_type": "display_data"
    }
   ],
   "source": [
    "sns.barplot(x='grade', y='count', data=grade_count_df, hue='skill')"
   ],
   "metadata": {
    "collapsed": false,
    "ExecuteTime": {
     "end_time": "2024-05-08T17:34:53.434118Z",
     "start_time": "2024-05-08T17:34:53.101045Z"
    }
   },
   "id": "445c3e9198235998",
   "execution_count": 25
  }
 ],
 "metadata": {
  "kernelspec": {
   "display_name": "Python 3",
   "language": "python",
   "name": "python3"
  },
  "language_info": {
   "codemirror_mode": {
    "name": "ipython",
    "version": 2
   },
   "file_extension": ".py",
   "mimetype": "text/x-python",
   "name": "python",
   "nbconvert_exporter": "python",
   "pygments_lexer": "ipython2",
   "version": "2.7.6"
  }
 },
 "nbformat": 4,
 "nbformat_minor": 5
}
