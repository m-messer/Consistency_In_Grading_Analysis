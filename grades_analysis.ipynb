{
 "cells": [
  {
   "cell_type": "code",
   "execution_count": 1,
   "id": "initial_id",
   "metadata": {
    "collapsed": true,
    "ExecuteTime": {
     "end_time": "2024-05-08T17:18:42.826354Z",
     "start_time": "2024-05-08T17:18:42.822959Z"
    }
   },
   "outputs": [],
   "source": [
    "import pandas as pd\n",
    "import seaborn as sns\n",
    "from statsmodels.stats.inter_rater import fleiss_kappa, aggregate_raters"
   ]
  },
  {
   "cell_type": "markdown",
   "source": [
    "# Grade Analysis"
   ],
   "metadata": {
    "collapsed": false
   },
   "id": "cdb8b257c38e6f4b"
  },
  {
   "cell_type": "code",
   "outputs": [
    {
     "data": {
      "text/plain": "    assignment_number                                           comments  \\\n0                18.0  The code use meaningful identifier names and a...   \n1               620.0  Code is well organized into logical classes an...   \n2               466.0  The code is well-organized, consistently inden...   \n3               591.0  The code is well organized and readable. Inden...   \n4               587.0  The code is well organized and readable. Inden...   \n..                ...                                                ...   \n15               58.0                                                NaN   \n16              353.0                                                NaN   \n17              422.0                                                NaN   \n18              480.0                                                NaN   \n19              334.0                                                NaN   \n\n            skill  participant_id  batch grade  \n0     Readability              15      1    B+  \n1     Readability              15      1    A+  \n2     Readability              15      1    A-  \n3     Readability              15      1    A-  \n4     Readability              15      1    A-  \n..            ...             ...    ...   ...  \n15  Documentation              14      1   A++  \n16  Documentation              14      1   A++  \n17  Documentation              14      1   A++  \n18  Documentation              14      1   A++  \n19  Documentation              14      1    A+  \n\n[4480 rows x 6 columns]",
      "text/html": "<div>\n<style scoped>\n    .dataframe tbody tr th:only-of-type {\n        vertical-align: middle;\n    }\n\n    .dataframe tbody tr th {\n        vertical-align: top;\n    }\n\n    .dataframe thead th {\n        text-align: right;\n    }\n</style>\n<table border=\"1\" class=\"dataframe\">\n  <thead>\n    <tr style=\"text-align: right;\">\n      <th></th>\n      <th>assignment_number</th>\n      <th>comments</th>\n      <th>skill</th>\n      <th>participant_id</th>\n      <th>batch</th>\n      <th>grade</th>\n    </tr>\n  </thead>\n  <tbody>\n    <tr>\n      <th>0</th>\n      <td>18.0</td>\n      <td>The code use meaningful identifier names and a...</td>\n      <td>Readability</td>\n      <td>15</td>\n      <td>1</td>\n      <td>B+</td>\n    </tr>\n    <tr>\n      <th>1</th>\n      <td>620.0</td>\n      <td>Code is well organized into logical classes an...</td>\n      <td>Readability</td>\n      <td>15</td>\n      <td>1</td>\n      <td>A+</td>\n    </tr>\n    <tr>\n      <th>2</th>\n      <td>466.0</td>\n      <td>The code is well-organized, consistently inden...</td>\n      <td>Readability</td>\n      <td>15</td>\n      <td>1</td>\n      <td>A-</td>\n    </tr>\n    <tr>\n      <th>3</th>\n      <td>591.0</td>\n      <td>The code is well organized and readable. Inden...</td>\n      <td>Readability</td>\n      <td>15</td>\n      <td>1</td>\n      <td>A-</td>\n    </tr>\n    <tr>\n      <th>4</th>\n      <td>587.0</td>\n      <td>The code is well organized and readable. Inden...</td>\n      <td>Readability</td>\n      <td>15</td>\n      <td>1</td>\n      <td>A-</td>\n    </tr>\n    <tr>\n      <th>...</th>\n      <td>...</td>\n      <td>...</td>\n      <td>...</td>\n      <td>...</td>\n      <td>...</td>\n      <td>...</td>\n    </tr>\n    <tr>\n      <th>15</th>\n      <td>58.0</td>\n      <td>NaN</td>\n      <td>Documentation</td>\n      <td>14</td>\n      <td>1</td>\n      <td>A++</td>\n    </tr>\n    <tr>\n      <th>16</th>\n      <td>353.0</td>\n      <td>NaN</td>\n      <td>Documentation</td>\n      <td>14</td>\n      <td>1</td>\n      <td>A++</td>\n    </tr>\n    <tr>\n      <th>17</th>\n      <td>422.0</td>\n      <td>NaN</td>\n      <td>Documentation</td>\n      <td>14</td>\n      <td>1</td>\n      <td>A++</td>\n    </tr>\n    <tr>\n      <th>18</th>\n      <td>480.0</td>\n      <td>NaN</td>\n      <td>Documentation</td>\n      <td>14</td>\n      <td>1</td>\n      <td>A++</td>\n    </tr>\n    <tr>\n      <th>19</th>\n      <td>334.0</td>\n      <td>NaN</td>\n      <td>Documentation</td>\n      <td>14</td>\n      <td>1</td>\n      <td>A+</td>\n    </tr>\n  </tbody>\n</table>\n<p>4480 rows × 6 columns</p>\n</div>"
     },
     "execution_count": 2,
     "metadata": {},
     "output_type": "execute_result"
    }
   ],
   "source": [
    "grade_df = pd.read_csv('Menagerie/data/grades.csv', index_col=0)\n",
    "grade_df"
   ],
   "metadata": {
    "collapsed": false,
    "ExecuteTime": {
     "end_time": "2024-05-08T17:18:42.842176Z",
     "start_time": "2024-05-08T17:18:42.826916Z"
    }
   },
   "id": "c69e63909be6a18",
   "execution_count": 2
  },
  {
   "cell_type": "code",
   "outputs": [
    {
     "data": {
      "text/plain": "    assignment_number                                           comments  \\\n0                18.0  The code use meaningful identifier names and a...   \n1               620.0  Code is well organized into logical classes an...   \n2               466.0  The code is well-organized, consistently inden...   \n3               591.0  The code is well organized and readable. Inden...   \n4               587.0  The code is well organized and readable. Inden...   \n..                ...                                                ...   \n15               58.0                                                NaN   \n16              353.0                                                NaN   \n17              422.0                                                NaN   \n18              480.0                                                NaN   \n19              334.0                                                NaN   \n\n            skill  participant_id  batch grade  \n0     Readability              15      1    B+  \n1     Readability              15      1    A+  \n2     Readability              15      1    A-  \n3     Readability              15      1    A-  \n4     Readability              15      1    A-  \n..            ...             ...    ...   ...  \n15  Documentation              14      1   A++  \n16  Documentation              14      1   A++  \n17  Documentation              14      1   A++  \n18  Documentation              14      1   A++  \n19  Documentation              14      1    A+  \n\n[4474 rows x 6 columns]",
      "text/html": "<div>\n<style scoped>\n    .dataframe tbody tr th:only-of-type {\n        vertical-align: middle;\n    }\n\n    .dataframe tbody tr th {\n        vertical-align: top;\n    }\n\n    .dataframe thead th {\n        text-align: right;\n    }\n</style>\n<table border=\"1\" class=\"dataframe\">\n  <thead>\n    <tr style=\"text-align: right;\">\n      <th></th>\n      <th>assignment_number</th>\n      <th>comments</th>\n      <th>skill</th>\n      <th>participant_id</th>\n      <th>batch</th>\n      <th>grade</th>\n    </tr>\n  </thead>\n  <tbody>\n    <tr>\n      <th>0</th>\n      <td>18.0</td>\n      <td>The code use meaningful identifier names and a...</td>\n      <td>Readability</td>\n      <td>15</td>\n      <td>1</td>\n      <td>B+</td>\n    </tr>\n    <tr>\n      <th>1</th>\n      <td>620.0</td>\n      <td>Code is well organized into logical classes an...</td>\n      <td>Readability</td>\n      <td>15</td>\n      <td>1</td>\n      <td>A+</td>\n    </tr>\n    <tr>\n      <th>2</th>\n      <td>466.0</td>\n      <td>The code is well-organized, consistently inden...</td>\n      <td>Readability</td>\n      <td>15</td>\n      <td>1</td>\n      <td>A-</td>\n    </tr>\n    <tr>\n      <th>3</th>\n      <td>591.0</td>\n      <td>The code is well organized and readable. Inden...</td>\n      <td>Readability</td>\n      <td>15</td>\n      <td>1</td>\n      <td>A-</td>\n    </tr>\n    <tr>\n      <th>4</th>\n      <td>587.0</td>\n      <td>The code is well organized and readable. Inden...</td>\n      <td>Readability</td>\n      <td>15</td>\n      <td>1</td>\n      <td>A-</td>\n    </tr>\n    <tr>\n      <th>...</th>\n      <td>...</td>\n      <td>...</td>\n      <td>...</td>\n      <td>...</td>\n      <td>...</td>\n      <td>...</td>\n    </tr>\n    <tr>\n      <th>15</th>\n      <td>58.0</td>\n      <td>NaN</td>\n      <td>Documentation</td>\n      <td>14</td>\n      <td>1</td>\n      <td>A++</td>\n    </tr>\n    <tr>\n      <th>16</th>\n      <td>353.0</td>\n      <td>NaN</td>\n      <td>Documentation</td>\n      <td>14</td>\n      <td>1</td>\n      <td>A++</td>\n    </tr>\n    <tr>\n      <th>17</th>\n      <td>422.0</td>\n      <td>NaN</td>\n      <td>Documentation</td>\n      <td>14</td>\n      <td>1</td>\n      <td>A++</td>\n    </tr>\n    <tr>\n      <th>18</th>\n      <td>480.0</td>\n      <td>NaN</td>\n      <td>Documentation</td>\n      <td>14</td>\n      <td>1</td>\n      <td>A++</td>\n    </tr>\n    <tr>\n      <th>19</th>\n      <td>334.0</td>\n      <td>NaN</td>\n      <td>Documentation</td>\n      <td>14</td>\n      <td>1</td>\n      <td>A+</td>\n    </tr>\n  </tbody>\n</table>\n<p>4474 rows × 6 columns</p>\n</div>"
     },
     "execution_count": 3,
     "metadata": {},
     "output_type": "execute_result"
    }
   ],
   "source": [
    "grade_df = grade_df[~grade_df['grade'].isnull()]\n",
    "grade_df"
   ],
   "metadata": {
    "collapsed": false,
    "ExecuteTime": {
     "end_time": "2024-05-08T17:18:42.848214Z",
     "start_time": "2024-05-08T17:18:42.842926Z"
    }
   },
   "id": "5f54f966724e7f43",
   "execution_count": 3
  },
  {
   "cell_type": "markdown",
   "source": [
    "## Inter-Rater Analysis"
   ],
   "metadata": {
    "collapsed": false
   },
   "id": "ee29e8afcff20345"
  },
  {
   "cell_type": "code",
   "outputs": [
    {
     "data": {
      "text/plain": "   participant_id  assignment_number grade\n4              21              105.0    A+\n8              21              105.0    A+\n4              22              105.0     A\n8              22              105.0     A\n4              23              105.0     B\n8              23              105.0    C-\n4              24              105.0    D+\n8              24              105.0    B-",
      "text/html": "<div>\n<style scoped>\n    .dataframe tbody tr th:only-of-type {\n        vertical-align: middle;\n    }\n\n    .dataframe tbody tr th {\n        vertical-align: top;\n    }\n\n    .dataframe thead th {\n        text-align: right;\n    }\n</style>\n<table border=\"1\" class=\"dataframe\">\n  <thead>\n    <tr style=\"text-align: right;\">\n      <th></th>\n      <th>participant_id</th>\n      <th>assignment_number</th>\n      <th>grade</th>\n    </tr>\n  </thead>\n  <tbody>\n    <tr>\n      <th>4</th>\n      <td>21</td>\n      <td>105.0</td>\n      <td>A+</td>\n    </tr>\n    <tr>\n      <th>8</th>\n      <td>21</td>\n      <td>105.0</td>\n      <td>A+</td>\n    </tr>\n    <tr>\n      <th>4</th>\n      <td>22</td>\n      <td>105.0</td>\n      <td>A</td>\n    </tr>\n    <tr>\n      <th>8</th>\n      <td>22</td>\n      <td>105.0</td>\n      <td>A</td>\n    </tr>\n    <tr>\n      <th>4</th>\n      <td>23</td>\n      <td>105.0</td>\n      <td>B</td>\n    </tr>\n    <tr>\n      <th>8</th>\n      <td>23</td>\n      <td>105.0</td>\n      <td>C-</td>\n    </tr>\n    <tr>\n      <th>4</th>\n      <td>24</td>\n      <td>105.0</td>\n      <td>D+</td>\n    </tr>\n    <tr>\n      <th>8</th>\n      <td>24</td>\n      <td>105.0</td>\n      <td>B-</td>\n    </tr>\n  </tbody>\n</table>\n</div>"
     },
     "execution_count": 4,
     "metadata": {},
     "output_type": "execute_result"
    }
   ],
   "source": [
    "# TODO Discuss with Neil what to do with this mistake\n",
    "# 105 duplicated accidentally between the two batches... in additional to the purposeful duplication.\n",
    "skill_df = grade_df[grade_df['skill'] == 'Readability'][['participant_id', 'assignment_number', 'grade']]\n",
    "group_df = skill_df[skill_df['participant_id'].isin([21, 22, 23, 24])].sort_values(by='participant_id')\n",
    "group_df[group_df['assignment_number'] == 105]\n",
    "# pivot = group_df.pivot(index='assignment_number', columns='participant_id', values='grade')"
   ],
   "metadata": {
    "collapsed": false,
    "ExecuteTime": {
     "end_time": "2024-05-08T17:18:42.854467Z",
     "start_time": "2024-05-08T17:18:42.848713Z"
    }
   },
   "id": "a0d09ee1a7fc7945",
   "execution_count": 4
  },
  {
   "cell_type": "code",
   "outputs": [],
   "source": [
    "def calculate_fleiss_kappa(skill, participant_list):\n",
    "    skill_df = grade_df[grade_df['skill'] == skill][['participant_id', 'assignment_number', 'grade']]\n",
    "    group_df = skill_df[skill_df['participant_id'].isin(participant_list)].sort_values(by='participant_id')\n",
    "    pivot = group_df.pivot(index='assignment_number', columns='participant_id', values='grade')\n",
    "    if any(pivot.isna().any(axis=1)):\n",
    "        print('Missing Grade: ', pivot[pivot.isna().any(axis=1)])\n",
    "        pivot.dropna(inplace=True)\n",
    "  \n",
    "    return fleiss_kappa(aggregate_raters(pivot)[0], 'fleiss')"
   ],
   "metadata": {
    "collapsed": false,
    "ExecuteTime": {
     "end_time": "2024-05-08T17:18:44.896112Z",
     "start_time": "2024-05-08T17:18:44.890871Z"
    }
   },
   "id": "7ce7de53ce2e7e96",
   "execution_count": 5
  },
  {
   "cell_type": "code",
   "outputs": [
    {
     "name": "stdout",
     "output_type": "stream",
     "text": [
      "Missing Grade:  participant_id      13  14  15 16\n",
      "assignment_number                \n",
      "306.0              NaN  A+  B+  A\n",
      "Error duplicate entries check data for:  21-24\n",
      "Error duplicate entries check data for:  21-24\n",
      "Error duplicate entries check data for:  21-24\n",
      "Missing Grade:  participant_id      9  10  11  12\n",
      "assignment_number                \n",
      "117.0              NaN  B  A+  A-\n",
      "Error duplicate entries check data for:  21-24\n",
      "Missing Grade:  participant_id      25   26   27   28\n",
      "assignment_number                    \n",
      "394.0              A++  A++  NaN  A++\n"
     ]
    },
    {
     "data": {
      "text/plain": "   group          skill  fliess_kappa\n0    1-4    Correctness      0.042673\n0    5-8    Correctness     -0.024104\n0   9-12    Correctness      0.003440\n0  13-16    Correctness      0.041807\n0  17-20    Correctness      0.113360\n0  25-28    Correctness      0.046496\n0    1-4    Readability     -0.002874\n0    5-8    Readability     -0.070433\n0   9-12    Readability     -0.069315\n0  13-16    Readability     -0.057512\n0  17-20    Readability     -0.010288\n0  25-28    Readability      0.077050\n0    1-4  Code Elegance     -0.003257\n0    5-8  Code Elegance     -0.013182\n0   9-12  Code Elegance     -0.026386\n0  13-16  Code Elegance      0.016196\n0  17-20  Code Elegance      0.035119\n0  25-28  Code Elegance      0.081149\n0    1-4  Documentation      0.001796\n0    5-8  Documentation     -0.071363\n0   9-12  Documentation     -0.059063\n0  13-16  Documentation     -0.001155\n0  17-20  Documentation      0.003831\n0  25-28  Documentation      0.063255",
      "text/html": "<div>\n<style scoped>\n    .dataframe tbody tr th:only-of-type {\n        vertical-align: middle;\n    }\n\n    .dataframe tbody tr th {\n        vertical-align: top;\n    }\n\n    .dataframe thead th {\n        text-align: right;\n    }\n</style>\n<table border=\"1\" class=\"dataframe\">\n  <thead>\n    <tr style=\"text-align: right;\">\n      <th></th>\n      <th>group</th>\n      <th>skill</th>\n      <th>fliess_kappa</th>\n    </tr>\n  </thead>\n  <tbody>\n    <tr>\n      <th>0</th>\n      <td>1-4</td>\n      <td>Correctness</td>\n      <td>0.042673</td>\n    </tr>\n    <tr>\n      <th>0</th>\n      <td>5-8</td>\n      <td>Correctness</td>\n      <td>-0.024104</td>\n    </tr>\n    <tr>\n      <th>0</th>\n      <td>9-12</td>\n      <td>Correctness</td>\n      <td>0.003440</td>\n    </tr>\n    <tr>\n      <th>0</th>\n      <td>13-16</td>\n      <td>Correctness</td>\n      <td>0.041807</td>\n    </tr>\n    <tr>\n      <th>0</th>\n      <td>17-20</td>\n      <td>Correctness</td>\n      <td>0.113360</td>\n    </tr>\n    <tr>\n      <th>0</th>\n      <td>25-28</td>\n      <td>Correctness</td>\n      <td>0.046496</td>\n    </tr>\n    <tr>\n      <th>0</th>\n      <td>1-4</td>\n      <td>Readability</td>\n      <td>-0.002874</td>\n    </tr>\n    <tr>\n      <th>0</th>\n      <td>5-8</td>\n      <td>Readability</td>\n      <td>-0.070433</td>\n    </tr>\n    <tr>\n      <th>0</th>\n      <td>9-12</td>\n      <td>Readability</td>\n      <td>-0.069315</td>\n    </tr>\n    <tr>\n      <th>0</th>\n      <td>13-16</td>\n      <td>Readability</td>\n      <td>-0.057512</td>\n    </tr>\n    <tr>\n      <th>0</th>\n      <td>17-20</td>\n      <td>Readability</td>\n      <td>-0.010288</td>\n    </tr>\n    <tr>\n      <th>0</th>\n      <td>25-28</td>\n      <td>Readability</td>\n      <td>0.077050</td>\n    </tr>\n    <tr>\n      <th>0</th>\n      <td>1-4</td>\n      <td>Code Elegance</td>\n      <td>-0.003257</td>\n    </tr>\n    <tr>\n      <th>0</th>\n      <td>5-8</td>\n      <td>Code Elegance</td>\n      <td>-0.013182</td>\n    </tr>\n    <tr>\n      <th>0</th>\n      <td>9-12</td>\n      <td>Code Elegance</td>\n      <td>-0.026386</td>\n    </tr>\n    <tr>\n      <th>0</th>\n      <td>13-16</td>\n      <td>Code Elegance</td>\n      <td>0.016196</td>\n    </tr>\n    <tr>\n      <th>0</th>\n      <td>17-20</td>\n      <td>Code Elegance</td>\n      <td>0.035119</td>\n    </tr>\n    <tr>\n      <th>0</th>\n      <td>25-28</td>\n      <td>Code Elegance</td>\n      <td>0.081149</td>\n    </tr>\n    <tr>\n      <th>0</th>\n      <td>1-4</td>\n      <td>Documentation</td>\n      <td>0.001796</td>\n    </tr>\n    <tr>\n      <th>0</th>\n      <td>5-8</td>\n      <td>Documentation</td>\n      <td>-0.071363</td>\n    </tr>\n    <tr>\n      <th>0</th>\n      <td>9-12</td>\n      <td>Documentation</td>\n      <td>-0.059063</td>\n    </tr>\n    <tr>\n      <th>0</th>\n      <td>13-16</td>\n      <td>Documentation</td>\n      <td>-0.001155</td>\n    </tr>\n    <tr>\n      <th>0</th>\n      <td>17-20</td>\n      <td>Documentation</td>\n      <td>0.003831</td>\n    </tr>\n    <tr>\n      <th>0</th>\n      <td>25-28</td>\n      <td>Documentation</td>\n      <td>0.063255</td>\n    </tr>\n  </tbody>\n</table>\n</div>"
     },
     "execution_count": 8,
     "metadata": {},
     "output_type": "execute_result"
    }
   ],
   "source": [
    "results_df = None\n",
    "\n",
    "for skill in ['Correctness', 'Readability', 'Code Elegance', 'Documentation']:\n",
    "    for i in range(1, 28, 4):\n",
    "        group = list(range(i, i + 4))\n",
    "        group_str = str(group[0]) + '-' + str(group[-1])\n",
    "        try:\n",
    "            results_df = pd.concat([results_df, pd.DataFrame({\n",
    "                                    'group': group_str,\n",
    "                                    'skill': skill,\n",
    "                                    'fliess_kappa': calculate_fleiss_kappa(skill, group)}, index=[0])])\n",
    "        except ValueError:\n",
    "            print('Error duplicate entries check data for: ', group_str)\n",
    "        \n",
    "        \n",
    "results_df"
   ],
   "metadata": {
    "collapsed": false,
    "ExecuteTime": {
     "end_time": "2024-05-08T17:19:38.217585Z",
     "start_time": "2024-05-08T17:19:38.151879Z"
    }
   },
   "id": "d9a2554178d85f25",
   "execution_count": 8
  }
 ],
 "metadata": {
  "kernelspec": {
   "display_name": "Python 3",
   "language": "python",
   "name": "python3"
  },
  "language_info": {
   "codemirror_mode": {
    "name": "ipython",
    "version": 2
   },
   "file_extension": ".py",
   "mimetype": "text/x-python",
   "name": "python",
   "nbconvert_exporter": "python",
   "pygments_lexer": "ipython2",
   "version": "2.7.6"
  }
 },
 "nbformat": 4,
 "nbformat_minor": 5
}
